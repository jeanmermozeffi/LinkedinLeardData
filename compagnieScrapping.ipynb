{
 "cells": [
  {
   "cell_type": "code",
   "execution_count": 1,
   "id": "initial_id",
   "metadata": {
    "collapsed": true,
    "ExecuteTime": {
     "end_time": "2024-03-19T15:35:24.202591Z",
     "start_time": "2024-03-19T15:35:17.913671Z"
    }
   },
   "outputs": [],
   "source": [
    "import os\n",
    "import re\n",
    "import uuid\n",
    "import csv\n",
    "import ast\n",
    "from datetime import datetime\n",
    "\n",
    "import yaml\n",
    "import requests\n",
    "import urllib.request\n",
    "from urllib.parse import urlparse\n",
    "from bs4 import BeautifulSoup\n",
    "\n",
    "import pandas as pd\n",
    "from openpyxl import load_workbook"
   ]
  },
  {
   "cell_type": "code",
   "outputs": [],
   "source": [
    "def read_yaml_file(file_name):\n",
    "    with open(file_name, 'r') as file:\n",
    "        content = yaml.load(file, Loader=yaml.FullLoader)\n",
    "    return content\n"
   ],
   "metadata": {
    "collapsed": false,
    "ExecuteTime": {
     "end_time": "2024-03-18T08:44:09.228662Z",
     "start_time": "2024-03-18T08:44:09.219144Z"
    }
   },
   "id": "860dff1d3b12b4a0",
   "execution_count": 3
  },
  {
   "cell_type": "code",
   "outputs": [],
   "source": [],
   "metadata": {
    "collapsed": false,
    "ExecuteTime": {
     "end_time": "2024-03-18T08:44:09.670321Z",
     "start_time": "2024-03-18T08:44:09.666185Z"
    }
   },
   "id": "3734bd3cc00add3f",
   "execution_count": 3
  },
  {
   "cell_type": "code",
   "outputs": [
    {
     "name": "stdout",
     "output_type": "stream",
     "text": [
      "Username: franck.kadjo@adisa.digital\n",
      "Password: 12345678\n"
     ]
    }
   ],
   "source": [
    "yaml_file_path = 'Secret/creadential.yml'\n",
    "\n",
    "data = read_yaml_file(yaml_file_path)\n",
    "\n",
    "username = data.get('username', None)\n",
    "password = data.get('password', None)\n",
    "\n",
    "print(f\"Username: {username}\")\n",
    "print(f\"Password: {password}\")"
   ],
   "metadata": {
    "collapsed": false,
    "ExecuteTime": {
     "end_time": "2024-03-18T08:44:10.125588Z",
     "start_time": "2024-03-18T08:44:10.116182Z"
    }
   },
   "id": "e8f8715589a80e89",
   "execution_count": 4
  },
  {
   "cell_type": "markdown",
   "source": [
    "## AnnuaireParser"
   ],
   "metadata": {
    "collapsed": false
   },
   "id": "b4194c78de7de418"
  },
  {
   "cell_type": "code",
   "outputs": [],
   "source": [
    "class AnnuaireParser:\n",
    "    def __init__(self, url='https://www.goafricaonline.com/ci/annuaire', parsers=['lxml', 'html.parser']):\n",
    "        self.base_url = 'https://www.goafricaonline.com/ci/annuaire'\n",
    "        self.url = url\n",
    "        self.parsers = parsers\n",
    "        self.sectors_links = set()\n",
    "        self.soup = self.init_soup()\n",
    "        self.current_soup = None\n",
    "        self.current_link = None\n",
    "        self.sectors_annuaire_links = set()\n",
    "        self.category_annuaire_links = set()\n",
    "        self.company_annuaire_links = set()\n",
    "        \n",
    "    def fetch_page(self, url=None):\n",
    "        if url is None:\n",
    "            url = self.url\n",
    "        try:\n",
    "            response = requests.get(url)\n",
    "            return response.text\n",
    "        except Exception as e:\n",
    "            print(f\"Erreur lors de la récupération de la page : {e}\")\n",
    "            return None\n",
    "\n",
    "    def init_soup(self, url=None):\n",
    "        html_content = self.fetch_page(url)\n",
    "\n",
    "        for parser in self.parsers:\n",
    "            try:\n",
    "                if isinstance(html_content, str):\n",
    "                    soup = BeautifulSoup(html_content, parser)\n",
    "                else:\n",
    "                    soup = BeautifulSoup(html_content.text, parser)\n",
    "\n",
    "                return soup\n",
    "\n",
    "            except Exception as e:\n",
    "                print(f\"Erreur avec le parser {parser}: {e}\")\n",
    "\n",
    "        return None\n",
    "\n",
    "    def generate_and_save_identifiers(self, csv_filename='gao_identifiers', num_identifiers=1):\n",
    "        existing_identifiers = set()\n",
    "\n",
    "        # Lire les identifiants existants dans le fichier CSV\n",
    "        try:\n",
    "            with open(f\"Secret/{csv_filename}\", 'r', newline='') as csvfile:\n",
    "                reader = csv.DictReader(csvfile)\n",
    "                for row in reader:\n",
    "                    existing_identifiers.add(row['Identifiers'])\n",
    "        except FileNotFoundError:\n",
    "            pass\n",
    "    \n",
    "        identifiers = []\n",
    "    \n",
    "        while len(identifiers) < num_identifiers:\n",
    "            unique_id = 'CI' + str(uuid.uuid4().int)[:8]\n",
    "    \n",
    "            # Vérifier si l'identifiant est déjà présent\n",
    "            if unique_id not in existing_identifiers:\n",
    "                identifiers.append(unique_id)\n",
    "                existing_identifiers.add(unique_id)\n",
    "\n",
    "        # Enregistrer les nouveaux identifiants dans le fichier CSV\n",
    "        with open(csv_filename, 'a', newline='') as csvfile:\n",
    "            fieldnames = ['Identifiers']\n",
    "            writer = csv.DictWriter(csvfile, fieldnames=fieldnames)\n",
    "    \n",
    "            if csvfile.tell() == 0:\n",
    "                writer.writeheader()  # Écrire l'en-tête seulement si le fichier est vide\n",
    "    \n",
    "            for identifier in identifiers:\n",
    "                writer.writerow({'Identifiers': identifier})\n",
    "                \n",
    "        return unique_id\n",
    "\n",
    "    def concat_excel_files(self, folder_path):\n",
    "        # Liste pour stocker les DataFrames de chaque fichier Excel\n",
    "        dfs = []\n",
    "    \n",
    "        # Parcourir les fichiers dans le dossier\n",
    "        for filename in os.listdir(folder_path):\n",
    "            if filename.endswith(\".xlsx\"):\n",
    "                file_path = os.path.join(folder_path, filename)\n",
    "    \n",
    "                # Lire le fichier Excel dans un DataFrame\n",
    "                df = pd.read_excel(file_path)\n",
    "    \n",
    "                # Ajouter le DataFrame à la liste\n",
    "                dfs.append(df)\n",
    "    \n",
    "        # Concaténer tous les DataFrames dans un seul DataFrame final\n",
    "        final_df = pd.concat(dfs, ignore_index=True)\n",
    "    \n",
    "        return final_df\n",
    "        \n",
    "    def extract_text_from_url(self, current_link):\n",
    "        parsed_url = urlparse(current_link)\n",
    "        text_from_url = parsed_url.path.split('/')[-1]\n",
    "        return text_from_url.upper()\n",
    "\n",
    "    def extract_unique_links(self, link_class=\"stretched-link text-center\", target_url=\"goafricaonline.com/ci/annuaire\"):\n",
    "        _links_set = set()\n",
    "        \n",
    "        if self.current_link:\n",
    "            self.soup = self.init_soup(self.current_link)\n",
    "            \n",
    "        if not self.soup:\n",
    "            raise ValueError(\"La soupe n'a pas été initialisée correctement.\")\n",
    "        \n",
    "        _links = self.soup.find_all('a', attrs={'class': link_class})\n",
    "        \n",
    "        for _link in _links:\n",
    "            if target_url in _link.get(\"href\", \"\"):\n",
    "                _links_set.add(_link.get(\"href\"))\n",
    "\n",
    "        return _links_set\n",
    "\n",
    "    def get_total_pages(self):\n",
    "        try:\n",
    "            self.soup = self.init_soup(self.current_link)\n",
    "            pagination_tag = self.soup.find('ul', class_='pagination')\n",
    "\n",
    "            if pagination_tag:\n",
    "                last_page_tag = pagination_tag.find_all('li')[-2]\n",
    "                last_page = last_page_tag.text.strip()\n",
    "\n",
    "                # Extraire uniquement les chiffres de la chaîne\n",
    "                last_page_number = ''.join(filter(str.isdigit, last_page))\n",
    "\n",
    "                return int(last_page_number)\n",
    "\n",
    "        except Exception as e:\n",
    "            print(f\"Erreur lors de la récupération du nombre total de pages : {e}\")\n",
    "\n",
    "        return 0\n",
    "\n",
    "    def process_annuaire_sectors_links(self):\n",
    "        self.sectors_links = self.extract_unique_links()\n",
    "        return list(self.sectors_links)\n",
    "    \n",
    "    def get_sectors(self, sectors_links):\n",
    "        sectors = set()\n",
    "        \n",
    "        for sectors_link in sectors_links:\n",
    "            sectors_name = self.extract_text_from_url(sectors_link)\n",
    "            sectors.add(sectors_name)\n",
    "            \n",
    "        return list(sectors)\n",
    "\n",
    "\n",
    "    def process_annuaire_category_links(self, sectors_links):\n",
    "        category_links_data = []\n",
    "        total_links = 0\n",
    "    \n",
    "        for sectors_link in sectors_links:\n",
    "            self.current_link = sectors_link\n",
    "            category_links = self.extract_unique_links()\n",
    "    \n",
    "            if category_links:\n",
    "                total_links += len(category_links)\n",
    "                sector_name = self.extract_text_from_url(sectors_link)\n",
    "                category_links_dict = {'secteurs': sector_name, 'links': category_links}\n",
    "                category_links_data.append(category_links_dict)\n",
    "    \n",
    "        return total_links, category_links_data\n",
    "\n",
    "\n",
    "\n",
    "    def extract_company_urls(self):\n",
    "        total_pages = self.get_total_pages()\n",
    "        company_urls = []\n",
    "\n",
    "        if total_pages != 0:\n",
    "            for page in range(1, total_pages + 1):\n",
    "                self.current_link = f\"{self.current_link}?p={page}\"\n",
    "                try:\n",
    "                    self.soup = self.init_soup(self.current_link)\n",
    "                    article_tags = self.soup.find_all('article', {'data-role': 'company'})\n",
    "\n",
    "                    for article_tag in article_tags:\n",
    "                        link_tags = article_tag.find_all('a', {'class': 'stretched-link'})\n",
    "                        for link_tag in link_tags:\n",
    "                            if 'href' in link_tag.attrs:\n",
    "                                company_urls.append(link_tag['href'])\n",
    "                except Exception as e:\n",
    "                    print(f\"Erreur avec le parseur : {e}\")\n",
    "\n",
    "            return company_urls\n",
    "\n",
    "        return None\n",
    "\n",
    "    \n",
    "    def filter_data_by_categories(self, data, categories_to_filter):\n",
    "        \"\"\"\n",
    "        Filtrer les données en fonction des catégories spécifiées.\n",
    "    \n",
    "        Parameters:\n",
    "            data (list): Liste de dictionnaires contenant des catégories et des liens.\n",
    "            categories_to_filter (list): Liste des catégories à filtrer.\n",
    "    \n",
    "        Returns:\n",
    "            dict: Dictionnaire contenant les données filtrées par catégories.\n",
    "        \"\"\"\n",
    "        filtered_data = {}\n",
    "    \n",
    "        for item in data:\n",
    "            category = item.get('secteurs')\n",
    "            links = item.get('links')\n",
    "    \n",
    "            if category in categories_to_filter:\n",
    "                filtered_data[category] = links\n",
    "\n",
    "        if not all(category in filtered_data for category in categories_to_filter):\n",
    "            missing_categories = [category for category in categories_to_filter if category not in filtered_data]\n",
    "            raise ValueError(f\"Catégories non trouvées : {', '.join(missing_categories)}\")\n",
    "    \n",
    "        return filtered_data\n",
    "    \n",
    "    \n",
    "\n",
    "    def process_annuaire_company_link(self, category_links, sectors_filter=None, limit=None, full=True):\n",
    "        company_data = []\n",
    "\n",
    "        if sectors_key:\n",
    "            full = False\n",
    "    \n",
    "        def process_category_link(category_link, sector_key):\n",
    "            nonlocal limit\n",
    "            self.current_link = category_link\n",
    "            category_name = self.extract_text_from_url(category_link)\n",
    "            company_links = self.extract_company_urls()\n",
    "    \n",
    "            return {\n",
    "                'secteurs': sector_key,\n",
    "                'categories': category_name,\n",
    "                'links': company_links\n",
    "            }\n",
    "    \n",
    "        if full:\n",
    "            for key, values in category_links.items():\n",
    "                for category_link in values:\n",
    "                    if limit is not None and limit > 0:\n",
    "                        company_data.append(process_category_link(category_link, key))\n",
    "                        limit -= 1\n",
    "                    else:\n",
    "                        company_data.append(process_category_link(category_link, key))\n",
    "    \n",
    "            return company_data\n",
    "    \n",
    "        if sectors_filter is None:\n",
    "            raise ValueError(\"Vous n'avez pas défini de secteur dans la liste Catégorie\")\n",
    "    \n",
    "        try:\n",
    "            sectors_category_links = self.filter_data_by_categories(category_links, sectors_filter)\n",
    "        except ValueError as e:\n",
    "            print(f\"Erreur : {e}\")\n",
    "            \n",
    "        for sector_key, category_links in sectors_category_links.items():\n",
    "            for category_link in category_links:\n",
    "                if limit is not None and limit > 0:\n",
    "                    company_data.append(process_category_link(category_link, sector_key))\n",
    "                    limit -= 1\n",
    "                else:\n",
    "                    company_data.append(process_category_link(category_link, sector_key))\n",
    "    \n",
    "        return company_data if company_data else None\n",
    "\n",
    "\n",
    "    def try_parsers_find_image(self, balise='img', balise_class=None):\n",
    "        if balise_class is None:\n",
    "            balise_class = 'ml-10 w-[118px] h-[118px] object-cover rounded shadow border-solid border-4 border-white cursor-pointer'\n",
    "            \n",
    "        try:\n",
    "            element = self.soup.find(balise, attrs={'class': balise_class})\n",
    "\n",
    "            if element is not None:\n",
    "                img_src = element.get('src')\n",
    "                if img_src:\n",
    "                    return img_src.strip()\n",
    "        except Exception as e:\n",
    "            print(f\"Erreur avec le parser : {e}\")\n",
    "\n",
    "        return None\n",
    "\n",
    "    def try_parsers_find_address(self, balise='address', balise_class='text-14'):\n",
    "        try:\n",
    "            address_tag = self.soup.find(balise, attrs={'class': balise_class})\n",
    "\n",
    "            if address_tag:\n",
    "                address_text = ' '.join(address_tag.stripped_strings)\n",
    "                return address_text\n",
    "            else:\n",
    "                return None\n",
    "        except Exception as e:\n",
    "            print(f\"Erreur avec le parser : {e}\")\n",
    "        \n",
    "\n",
    "    def clean_contact_string(self, contact_string):\n",
    "        match = re.search(r'\\(\\+(\\d+)\\)', contact_string)\n",
    "\n",
    "        if match:\n",
    "            indicative = match.group(1)\n",
    "            cleaned_number = ''.join(char for char in contact_string.split(indicative)[-1] if char.isdigit())\n",
    "    \n",
    "            clean_contact = f\"+{indicative} {cleaned_number}\"\n",
    "    \n",
    "            return {'indicatif': f\"+{indicative}\", 'numero': cleaned_number, 'contact': clean_contact}\n",
    "    \n",
    "        return None\n",
    "\n",
    "    def extract_contact_details(self, balise='div', balise_class='flex mb-4'):\n",
    "        try:\n",
    "            contact_div = self.soup.find(balise, class_=balise_class)\n",
    "            if contact_div is not None:\n",
    "                a_tag = contact_div.find('a')\n",
    "                if a_tag:\n",
    "                    phone_number = a_tag.get_text(strip=True)\n",
    "                    clean_contact = self.clean_contact_string(phone_number)\n",
    "\n",
    "                    return clean_contact\n",
    "\n",
    "        except Exception as e:\n",
    "            print(f\"Erreur avec le parser : {e}\")\n",
    "            return None\n",
    "            \n",
    "\n",
    "    def try_parsers_find_website(self, balise='a', balise_class='font-bold text-link block'):\n",
    "        try:\n",
    "            element = self.soup.find(balise, attrs={'class': balise_class, 'target':\"_blank\"})\n",
    "\n",
    "            if element is not None:\n",
    "                web_site = element['href'].strip()\n",
    "                return web_site\n",
    "        except Exception as e:\n",
    "            print(f\"Erreur avec le parser : {e}\")\n",
    "\n",
    "        return None\n",
    "\n",
    "    def try_parsers_find_social_links(self, balise='div', balise_class='flex mt-8'):\n",
    "        try:\n",
    "            social_divs = self.soup.find_all(balise, attrs={'class': balise_class})\n",
    "\n",
    "            social_links = {}\n",
    "            for social_div in social_divs:\n",
    "                social_classes = {\n",
    "                    'facebook': 'bg-brand-facebook',\n",
    "                    'instagram': 'bg-brand-instagram',\n",
    "                    'linkedin': 'bg-brand-linkedIn',\n",
    "                    'whatsapp': 'bg-brand-whatsapp'\n",
    "                }\n",
    "\n",
    "                for social_type, social_class in social_classes.items():\n",
    "                    social_elements = social_div.find_all('a', class_=lambda cls: cls and social_class in cls)\n",
    "                    if social_elements:\n",
    "                        social_links[social_type] = social_elements[0]['href']\n",
    "                    else:\n",
    "                        social_links[social_type] = ''\n",
    "\n",
    "                return social_links\n",
    "\n",
    "        except Exception as e:\n",
    "            print(f\"Erreur avec le parser : {e}\")\n",
    "\n",
    "        return {}\n",
    "\n",
    "    def try_parsers_find_description(self, balise='div', balise_id='description'):\n",
    "        try:\n",
    "            description_div = self.soup.find(balise, id=balise_id)\n",
    "\n",
    "            if description_div is not None:\n",
    "                return description_div.get_text(strip=True)\n",
    "        except Exception as e:\n",
    "            print(f\"Erreur avec le parser : {e}\")\n",
    "\n",
    "        return None\n",
    "\n",
    "    def clean_string_hours(self, text):\n",
    "        cleaned_text = ' '.join(text.split())\n",
    "        return cleaned_text\n",
    "\n",
    "    def extract_opening_hours(self, balise='div', balise_id='planning'):\n",
    "        opening_hours = {}\n",
    "        try:\n",
    "            opening_hours_div = self.soup.find(balise, id=balise_id)\n",
    "\n",
    "            if opening_hours_div is not None:\n",
    "                table = opening_hours_div.find('table')\n",
    "                if table:\n",
    "                    rows = table.find_all('tr')\n",
    "                    for row in rows:\n",
    "                        columns = row.find_all('td')\n",
    "                        day = columns[0].get_text(strip=True)\n",
    "                        hours = columns[1].get_text(strip=True)\n",
    "                        opening_hours[day] = hours\n",
    "\n",
    "                    cleaned_hours = {day: self.clean_string_hours(hours) for day, hours in opening_hours.items()}\n",
    "\n",
    "                    return cleaned_hours\n",
    "        except Exception as e:\n",
    "            print(f\"Erreur avec le parser : {e}\")\n",
    "\n",
    "        return {}\n",
    "\n",
    "\n",
    "    def extract_services(self, balise='a', balise_class='shopping-product'):\n",
    "        services = set()\n",
    "        try:\n",
    "            service_links = self.soup.find_all(balise, class_=balise_class)\n",
    "\n",
    "            for link in service_links:\n",
    "                div_tag = link.find('div', class_='font-bold')\n",
    "                if div_tag:\n",
    "                    title = div_tag.text.strip()\n",
    "                    services.add(title)\n",
    "\n",
    "        except Exception as e:\n",
    "            print(f\"Erreur avec le parser: {e}\")\n",
    "            \n",
    "        return list(services)\n",
    "\n",
    "    def extract_company_text(self):\n",
    "        try:\n",
    "            company_element = self.soup.find('h1', attrs={'class': 'text-24 ls:text-32 text-black m-0 mb-3 font-bold leading-snug'})\n",
    "\n",
    "            if company_element is not None:\n",
    "                return company_element.text.strip()\n",
    "        except Exception as e:\n",
    "            print(f\"Erreur avec le parser : {e}\")\n",
    "\n",
    "            return None\n",
    "\n",
    "        except requests.exceptions.RequestException as e:\n",
    "            print(f\"Erreur lors de la requête HTTP : {e}\")\n",
    "            return None\n",
    "\n",
    "    def extract_media_links_and_images(self):\n",
    "        try:\n",
    "            media_section = self.soup.find('div', {'id': 'medias'})\n",
    "            if media_section:\n",
    "                # Trouver tous les éléments li avec la classe iframe-child:w-full\n",
    "                media_items = media_section.find_all('li', {'class': 'iframe-child:w-full'})\n",
    "    \n",
    "                multimedia_data = []\n",
    "    \n",
    "                # Parcourir les éléments médias\n",
    "                for media_item in media_items:\n",
    "                    # Initialiser un dictionnaire pour stocker les informations multimédias\n",
    "                    media_info = {}\n",
    "    \n",
    "                    # Extraire le lien à partir de la balise a\n",
    "                    link_tag = media_item.find('a')\n",
    "                    if link_tag:\n",
    "                        media_info['link'] = link_tag.get('href')\n",
    "    \n",
    "                    # Extraire l'image à partir de la balise img\n",
    "                    img_tag = media_item.find('img')\n",
    "                    if img_tag:\n",
    "                        media_info['image'] = img_tag.get('src')\n",
    "    \n",
    "                    # Ajouter les informations multimédias à la liste\n",
    "                    multimedia_data.append(media_info)\n",
    "    \n",
    "                return multimedia_data\n",
    "            \n",
    "            return []\n",
    "        \n",
    "        except requests.exceptions.RequestException as e:\n",
    "            print(f\"Erreur lors de la requête HTTP : {e}\")\n",
    "\n",
    "    def extract_image_links(self, data_links):\n",
    "        image_links = {}\n",
    "\n",
    "        for index, item in enumerate(data_links):\n",
    "            link = item.get('link')\n",
    "            image_url = item.get('image')\n",
    "    \n",
    "            # Vérifier si le lien est une image et a une URL\n",
    "            if image_url and link and image_url.startswith('https'):\n",
    "                image_links[f'image{index+1}'] = image_url\n",
    "    \n",
    "        return image_links\n",
    "\n",
    "\n",
    "    def download_image(self, image_url, download_folder='Medias'):\n",
    "        if not os.path.exists(download_folder):\n",
    "            os.makedirs(download_folder)\n",
    "    \n",
    "        # Vérifier si l'URL de l'image existe\n",
    "        if image_url:\n",
    "            # Extraire le nom du fichier original de l'URL\n",
    "            filename = os.path.join(download_folder, os.path.basename(image_url))\n",
    "    \n",
    "            # Télécharger l'image\n",
    "            try:\n",
    "                urllib.request.urlretrieve(image_url, filename)\n",
    "                print(f\"Image téléchargée avec succès : {filename}\")\n",
    "    \n",
    "                return filename\n",
    "            except Exception as e:\n",
    "                print(f\"Erreur lors du téléchargement de l'image {filename} : {e}\")\n",
    "        else:\n",
    "            print(\"L'URL de l'image est manquante ou invalide.\")\n",
    "            return None\n",
    "            \n",
    "                    \n",
    "    def downloaded_files(self, data_links):\n",
    "        image_links = self.extract_image_links(data_links)\n",
    "        \n",
    "        # Parcourir la liste des données d'images\n",
    "        for index, url in enumerate(image_links):\n",
    "            image_url = data.get('image')\n",
    "            self.download_image(image_url)\n",
    "            \n",
    "\n",
    "\n",
    "    def extract_company_info(self, dataframe, sectors=['COMMUNICATION-PUBLICITE'], limit=10):\n",
    "        \n",
    "        companies = []\n",
    "        links_already_visited = []\n",
    "        data_company_links = dataframe.values.tolist()\n",
    "        \n",
    "        for data_company in data_company_links:\n",
    "            self.current_link = data_company[2]\n",
    "            self.soup = self.init_soup(self.current_link)\n",
    "\n",
    "            days_hours = self.extract_opening_hours()\n",
    "            \n",
    "            socials_links = self.try_parsers_find_social_links()\n",
    "            \n",
    "            multimedia_data = self.extract_media_links_and_images()\n",
    "            \n",
    "            if days_hours:\n",
    "                days_hours = {'Lundi': '08H00 — 17H30',\n",
    "                              'Mardi': '08H00 — 17H30',\n",
    "                              'Mercredi': '08H00 — 17H30',\n",
    "                              'Jeudi': '08H00 — 17H30',\n",
    "                              'Vendredi': '08H00 — 17H30',\n",
    "                              'Samedi': 'Fermé',\n",
    "                              'Dimanche': 'Fermé'}\n",
    "            \n",
    "            if len(socials_links) == 0:\n",
    "                socials_links = {'facebook': '', 'instagram': '', 'linkedin': '', 'whatsapp': '' }\n",
    "\n",
    "            if multimedia_data:\n",
    "                image_links = self.extract_image_links(multimedia_data)\n",
    "            else: \n",
    "                image_links = []\n",
    "\n",
    "            company_info = {\n",
    "                'identifier': self.generate_and_save_identifiers(),\n",
    "                'company_secteur': data_company[0],\n",
    "                'company_categotie': data_company[1],\n",
    "                'company_adress': self.try_parsers_find_address(),\n",
    "                'company_name': self.extract_company_text(),\n",
    "                'company_email': '',\n",
    "                'company_description': self.try_parsers_find_description(),\n",
    "                'company_website': self.try_parsers_find_website(),\n",
    "                'company_url_logo': self.try_parsers_find_image(),\n",
    "                'company_url': data_company[2],\n",
    "                'services': self.extract_services(),\n",
    "                #'medias': image_links\n",
    "            }\n",
    "            \n",
    "            company_info.update(socials_links)\n",
    "            company_info.update(days_hours)\n",
    "            company_info.update(image_links)\n",
    "\n",
    "            companies.append(company_info)\n",
    "            links_already_visited.append(self.current_link)\n",
    "\n",
    "        return companies, links_already_visited\n",
    "\n",
    "    def list_of_dicts_to_dataframe(self, data):\n",
    "        \"\"\"\n",
    "        Convertit une liste de dictionnaires en DataFrame.\n",
    "        \n",
    "        Parameters:\n",
    "            data (list): Liste de dictionnaires à convertir.\n",
    "        \n",
    "        Returns:\n",
    "            pandas.DataFrame: Le DataFrame résultant.\n",
    "        \"\"\"\n",
    "        dataframe = pd.DataFrame(data)\n",
    "        dataframe = dataframe.explode('links')\n",
    "        return dataframe\n",
    "    \n",
    "    \n",
    "    def save_dataframe_to_excel(self, dataframe, folder='Resultats', sheet_name=None, filename=None):\n",
    "        \"\"\"\n",
    "        Enregistre un DataFrame dans un fichier Excel avec un nom de fichier personnalisé.\n",
    "    \n",
    "        Parameters:\n",
    "            dataframe (pandas.DataFrame): Le DataFrame à enregistrer.\n",
    "            sectors_key (str): Clé du secteur pour personnaliser le nom du fichier.\n",
    "            folder (str): Le dossier où enregistrer le fichier Excel (par défaut, le dossier actuel).\n",
    "            sheet_name (str): Nom de la feuille dans le fichier Excel (par défaut, utilisera sectors_key en majuscules).\n",
    "        \"\"\"\n",
    "        if sheet_name is None:\n",
    "            sheet_name = (dataframe.iloc[0, 0]).upper()\n",
    "    \n",
    "        timestamp = datetime.now().strftime(\"%Y%m%d%H%M%S\")\n",
    "        \n",
    "        if filename is None:\n",
    "            filename = dataframe.iloc[0, 0]\n",
    "            \n",
    "        filepath = f\"{filename}_{timestamp}.xlsx\"\n",
    "        \n",
    "        filepath = os.path.join(folder, filepath)\n",
    "    \n",
    "        dataframe.to_excel(filepath, index=False, sheet_name=sheet_name, engine='openpyxl')\n",
    "    \n",
    "    def save_dataframe_to_existing_excel(self, dataframe, filepath, sheet_name=None):\n",
    "        \"\"\"\n",
    "        Enregistre un DataFrame dans un fichier Excel existant en spécifiant le nom de la feuille.\n",
    "    \n",
    "        Parameters:\n",
    "            dataframe (pandas.DataFrame): Le DataFrame à enregistrer.\n",
    "            filepath (str): Chemin vers le fichier Excel existant.\n",
    "            sheet_name (str): Nom de la feuille dans le fichier Excel (par défaut, utilisera le nom actuel).\n",
    "        \"\"\"\n",
    "        if sheet_name is None:\n",
    "            sheet_name = 'Sheet1'  # Modifiez ceci avec le nom actuel de votre feuille si nécessaire\n",
    "    \n",
    "        with pd.ExcelWriter(filepath, engine='openpyxl') as writer:\n",
    "            writer.book = load_workbook(filepath)\n",
    "            dataframe.to_excel(writer, index=False, sheet_name=sheet_name)"
   ],
   "metadata": {
    "collapsed": false,
    "ExecuteTime": {
     "end_time": "2024-03-18T08:44:10.778991Z",
     "start_time": "2024-03-18T08:44:10.582571Z"
    }
   },
   "id": "db3261e41dbc0a9c",
   "execution_count": 5
  },
  {
   "cell_type": "code",
   "outputs": [],
   "source": [
    " def calculate_company_links_length(company_data):\n",
    "    company_links_length = 0\n",
    "    for index in range(len(company_data)):\n",
    "        company_links_length += len(company_data[index]['links'])\n",
    "    return company_links_length"
   ],
   "metadata": {
    "collapsed": false,
    "ExecuteTime": {
     "end_time": "2024-03-18T08:44:15.190847Z",
     "start_time": "2024-03-18T08:44:15.183974Z"
    }
   },
   "id": "d9da3281343772c",
   "execution_count": 6
  },
  {
   "cell_type": "markdown",
   "source": [
    "## Begin Text"
   ],
   "metadata": {
    "collapsed": false
   },
   "id": "ed9558b233525d1d"
  },
  {
   "cell_type": "code",
   "outputs": [],
   "source": [
    "annuaire_parser = AnnuaireParser()"
   ],
   "metadata": {
    "collapsed": false,
    "ExecuteTime": {
     "end_time": "2024-03-18T09:51:59.421487Z",
     "start_time": "2024-03-18T09:51:58.488125Z"
    }
   },
   "id": "9383a0b772d2f844",
   "execution_count": 7
  },
  {
   "cell_type": "code",
   "outputs": [
    {
     "data": {
      "text/plain": "['https://www.goafricaonline.com/ci/annuaire/professionnels-immobilier',\n 'https://www.goafricaonline.com/ci/annuaire/maison-decoration',\n 'https://www.goafricaonline.com/ci/annuaire/entreprises-finances',\n 'https://www.goafricaonline.com/ci/annuaire/urgence',\n 'https://www.goafricaonline.com/ci/annuaire/entreprises-batiment-construction',\n 'https://www.goafricaonline.com/ci/annuaire/administrations',\n 'https://www.goafricaonline.com/ci/annuaire/telecommunications',\n 'https://www.goafricaonline.com/ci/annuaire/informatique-internet',\n 'https://www.goafricaonline.com/ci/annuaire/mode-vetements-textiles',\n 'https://www.goafricaonline.com/ci/annuaire/produits-hygiene',\n 'https://www.goafricaonline.com/ci/annuaire/sport',\n 'https://www.goafricaonline.com/ci/annuaire/autres',\n 'https://www.goafricaonline.com/ci/annuaire/entreprises-agroalimentaires',\n 'https://www.goafricaonline.com/ci/annuaire/societes-securite',\n 'https://www.goafricaonline.com/ci/annuaire/bien-etre',\n 'https://www.goafricaonline.com/ci/annuaire/communication-publicite',\n 'https://www.goafricaonline.com/ci/annuaire/automobile-moto',\n 'https://www.goafricaonline.com/ci/annuaire/emploi',\n 'https://www.goafricaonline.com/ci/annuaire/associations-professionnelles',\n 'https://www.goafricaonline.com/ci/annuaire/societes-services',\n 'https://www.goafricaonline.com/ci/annuaire/artisans',\n 'https://www.goafricaonline.com/ci/annuaire/comptabilite-juridique-conseil',\n 'https://www.goafricaonline.com/ci/annuaire/sante',\n 'https://www.goafricaonline.com/ci/annuaire/commerces',\n 'https://www.goafricaonline.com/ci/annuaire/transports',\n 'https://www.goafricaonline.com/ci/annuaire/formations-education',\n 'https://www.goafricaonline.com/ci/annuaire/tourisme-et-loisirs',\n 'https://www.goafricaonline.com/ci/annuaire/commerce-import-export',\n 'https://www.goafricaonline.com/ci/annuaire/alimentation',\n 'https://www.goafricaonline.com/ci/annuaire/industries',\n 'https://www.goafricaonline.com/ci/annuaire/secteur-energie']"
     },
     "execution_count": 8,
     "metadata": {},
     "output_type": "execute_result"
    }
   ],
   "source": [
    "sectors_links = annuaire_parser.process_annuaire_sectors_links()\n",
    "sectors_links"
   ],
   "metadata": {
    "collapsed": false,
    "ExecuteTime": {
     "end_time": "2024-03-18T09:52:02.873801Z",
     "start_time": "2024-03-18T09:52:02.850680Z"
    }
   },
   "id": "eaa16f76f54b16d6",
   "execution_count": 8
  },
  {
   "cell_type": "code",
   "outputs": [
    {
     "data": {
      "text/plain": "31"
     },
     "execution_count": 9,
     "metadata": {},
     "output_type": "execute_result"
    }
   ],
   "source": [
    "len(sectors_links)"
   ],
   "metadata": {
    "collapsed": false,
    "ExecuteTime": {
     "end_time": "2024-03-18T09:52:09.826703Z",
     "start_time": "2024-03-18T09:52:09.817473Z"
    }
   },
   "id": "515e50940de1b9df",
   "execution_count": 9
  },
  {
   "cell_type": "code",
   "outputs": [],
   "source": [
    "sectors = annuaire_parser.get_sectors(sectors_links)"
   ],
   "metadata": {
    "collapsed": false,
    "ExecuteTime": {
     "end_time": "2024-03-18T09:52:18.138842Z",
     "start_time": "2024-03-18T09:52:18.133335Z"
    }
   },
   "id": "69df3eae248fcbef",
   "execution_count": 10
  },
  {
   "cell_type": "code",
   "outputs": [
    {
     "data": {
      "text/plain": "['PRODUITS-HYGIENE',\n 'ARTISANS',\n 'MAISON-DECORATION',\n 'COMPTABILITE-JURIDIQUE-CONSEIL',\n 'COMMERCES',\n 'ENTREPRISES-AGROALIMENTAIRES',\n 'INFORMATIQUE-INTERNET',\n 'SOCIETES-SECURITE',\n 'SECTEUR-ENERGIE',\n 'TELECOMMUNICATIONS',\n 'MODE-VETEMENTS-TEXTILES',\n 'FORMATIONS-EDUCATION',\n 'ALIMENTATION',\n 'SPORT',\n 'BIEN-ETRE',\n 'EMPLOI',\n 'URGENCE',\n 'ENTREPRISES-FINANCES',\n 'TRANSPORTS',\n 'TOURISME-ET-LOISIRS',\n 'PROFESSIONNELS-IMMOBILIER',\n 'INDUSTRIES',\n 'COMMUNICATION-PUBLICITE',\n 'SANTE',\n 'AUTRES',\n 'ASSOCIATIONS-PROFESSIONNELLES',\n 'SOCIETES-SERVICES',\n 'ENTREPRISES-BATIMENT-CONSTRUCTION',\n 'AUTOMOBILE-MOTO',\n 'COMMERCE-IMPORT-EXPORT',\n 'ADMINISTRATIONS']"
     },
     "execution_count": 11,
     "metadata": {},
     "output_type": "execute_result"
    }
   ],
   "source": [
    "sectors"
   ],
   "metadata": {
    "collapsed": false,
    "ExecuteTime": {
     "end_time": "2024-03-18T09:52:20.871059Z",
     "start_time": "2024-03-18T09:52:20.863280Z"
    }
   },
   "id": "cd8d1d5fc252fb8b",
   "execution_count": 11
  },
  {
   "cell_type": "code",
   "outputs": [],
   "source": [
    "df_sectors = pd.DataFrame(sectors)"
   ],
   "metadata": {
    "collapsed": false,
    "ExecuteTime": {
     "end_time": "2024-03-18T09:53:12.459253Z",
     "start_time": "2024-03-18T09:53:12.447985Z"
    }
   },
   "id": "5669c30ea1b8d5aa",
   "execution_count": 12
  },
  {
   "cell_type": "code",
   "outputs": [],
   "source": [
    "df_sectors.to_csv('liste_secteurs.csv')"
   ],
   "metadata": {
    "collapsed": false,
    "ExecuteTime": {
     "end_time": "2024-03-18T09:55:32.052157Z",
     "start_time": "2024-03-18T09:55:32.033623Z"
    }
   },
   "id": "c17c72efba423114",
   "execution_count": 13
  },
  {
   "cell_type": "code",
   "outputs": [],
   "source": [
    "total_links, category_links = annuaire_parser.process_annuaire_category_links(sectors_links)"
   ],
   "metadata": {
    "collapsed": false,
    "ExecuteTime": {
     "end_time": "2024-02-23T10:35:28.509064Z",
     "start_time": "2024-02-23T10:35:10.530748Z"
    }
   },
   "id": "50e9e519f82e04ad",
   "execution_count": 73
  },
  {
   "cell_type": "code",
   "outputs": [
    {
     "data": {
      "text/plain": "513"
     },
     "execution_count": 74,
     "metadata": {},
     "output_type": "execute_result"
    }
   ],
   "source": [
    "total_links"
   ],
   "metadata": {
    "collapsed": false,
    "ExecuteTime": {
     "end_time": "2024-02-23T10:35:31.294905Z",
     "start_time": "2024-02-23T10:35:31.290246Z"
    }
   },
   "id": "a61c49e67c72c10a",
   "execution_count": 74
  },
  {
   "cell_type": "code",
   "outputs": [
    {
     "data": {
      "text/plain": "[{'secteurs': 'INDUSTRIES',\n  'links': {'https://www.goafricaonline.com/ci/annuaire/air-comprime-accessoires',\n   'https://www.goafricaonline.com/ci/annuaire/armes-munitions',\n   'https://www.goafricaonline.com/ci/annuaire/boulonnerie-robinetterie',\n   'https://www.goafricaonline.com/ci/annuaire/brasseries',\n   'https://www.goafricaonline.com/ci/annuaire/cartonnerie',\n   'https://www.goafricaonline.com/ci/annuaire/cat-industries',\n   'https://www.goafricaonline.com/ci/annuaire/cimenterie',\n   'https://www.goafricaonline.com/ci/annuaire/coton-production-exploitation',\n   'https://www.goafricaonline.com/ci/annuaire/depannage-maintenance-industrielle',\n   'https://www.goafricaonline.com/ci/annuaire/emballage-conditionnement',\n   'https://www.goafricaonline.com/ci/annuaire/entreprises-froid-industriel',\n   'https://www.goafricaonline.com/ci/annuaire/equipements-industriels',\n   'https://www.goafricaonline.com/ci/annuaire/etiquetage-tracabilite',\n   'https://www.goafricaonline.com/ci/annuaire/exploitation-forestiere',\n   'https://www.goafricaonline.com/ci/annuaire/exploitation-mini%C3%A8re',\n   'https://www.goafricaonline.com/ci/annuaire/exploitation-p%C3%A9troliere',\n   'https://www.goafricaonline.com/ci/annuaire/exploitations-minieres',\n   'https://www.goafricaonline.com/ci/annuaire/fabrication-machine',\n   'https://www.goafricaonline.com/ci/annuaire/fabrication-mecanique',\n   'https://www.goafricaonline.com/ci/annuaire/fabrication-meches-cheveux-perruques',\n   'https://www.goafricaonline.com/ci/annuaire/fabrication-tole',\n   'https://www.goafricaonline.com/ci/annuaire/industrie-cosmetique',\n   'https://www.goafricaonline.com/ci/annuaire/industrie-diamant-or',\n   'https://www.goafricaonline.com/ci/annuaire/industrie-du-matelas-mousse',\n   'https://www.goafricaonline.com/ci/annuaire/industrie-du-papier',\n   'https://www.goafricaonline.com/ci/annuaire/industrie-pharmaceutique',\n   'https://www.goafricaonline.com/ci/annuaire/industrie-plastique',\n   'https://www.goafricaonline.com/ci/annuaire/industrie-produits-chimiques',\n   'https://www.goafricaonline.com/ci/annuaire/industrie-textile',\n   'https://www.goafricaonline.com/ci/annuaire/ingenierie-industrielle',\n   'https://www.goafricaonline.com/ci/annuaire/materiels-electriques',\n   'https://www.goafricaonline.com/ci/annuaire/materiels-equipements-industriels',\n   'https://www.goafricaonline.com/ci/annuaire/materiels-imprimerie',\n   'https://www.goafricaonline.com/ci/annuaire/pesage-industriel-commercial',\n   'https://www.goafricaonline.com/ci/annuaire/produits-miniers',\n   'https://www.goafricaonline.com/ci/annuaire/savonnerie',\n   'https://www.goafricaonline.com/ci/annuaire/siderurgie',\n   'https://www.goafricaonline.com/ci/annuaire/societes-metallurgie',\n   'https://www.goafricaonline.com/ci/annuaire/societes-tuyauterie-industrielle',\n   'https://www.goafricaonline.com/ci/annuaire/sous-traitants-miniers',\n   'https://www.goafricaonline.com/ci/annuaire/textiles',\n   'https://www.goafricaonline.com/ci/annuaire/tri-recyclage-collecte-dechets',\n   'https://www.goafricaonline.com/ci/annuaire/tuiles',\n   'https://www.goafricaonline.com/ci/annuaire/usinage',\n   'https://www.goafricaonline.com/ci/annuaire/verrerie'}},\n {'secteurs': 'ALIMENTATION',\n  'links': {'https://www.goafricaonline.com/ci/annuaire/bars',\n   'https://www.goafricaonline.com/ci/annuaire/boucheries',\n   'https://www.goafricaonline.com/ci/annuaire/boulangeries-patisseries',\n   'https://www.goafricaonline.com/ci/annuaire/caves-a-vin',\n   'https://www.goafricaonline.com/ci/annuaire/chocolaterie-confiserie',\n   'https://www.goafricaonline.com/ci/annuaire/cremerie-glacier',\n   'https://www.goafricaonline.com/ci/annuaire/epicerie',\n   'https://www.goafricaonline.com/ci/annuaire/fast-food',\n   'https://www.goafricaonline.com/ci/annuaire/maquis',\n   'https://www.goafricaonline.com/ci/annuaire/pizzeria',\n   'https://www.goafricaonline.com/ci/annuaire/poissoneries',\n   'https://www.goafricaonline.com/ci/annuaire/restaurants',\n   'https://www.goafricaonline.com/ci/annuaire/salon-the',\n   'https://www.goafricaonline.com/ci/annuaire/traiteurs'}},\n {'secteurs': 'BIEN-ETRE',\n  'links': {'https://www.goafricaonline.com/ci/annuaire/centres-amincissement-maigrir',\n   'https://www.goafricaonline.com/ci/annuaire/salon-beaute-esthetique',\n   'https://www.goafricaonline.com/ci/annuaire/spa-sauna'}},\n {'secteurs': 'TELECOMMUNICATIONS',\n  'links': {'https://www.goafricaonline.com/ci/annuaire/cartes-recharge',\n   'https://www.goafricaonline.com/ci/annuaire/operateurs-telephoniques',\n   'https://www.goafricaonline.com/ci/annuaire/telecentres',\n   'https://www.goafricaonline.com/ci/annuaire/telephonie-afrique',\n   'https://www.goafricaonline.com/ci/annuaire/telephonie-mobile'}},\n {'secteurs': 'ASSOCIATIONS-PROFESSIONNELLES',\n  'links': {'https://www.goafricaonline.com/ci/annuaire/cat-associations-professionnelles',\n   'https://www.goafricaonline.com/ci/annuaire/confederations',\n   'https://www.goafricaonline.com/ci/annuaire/ordres-professionnels',\n   'https://www.goafricaonline.com/ci/annuaire/patronat',\n   'https://www.goafricaonline.com/ci/annuaire/syndicats--professionnels'}},\n {'secteurs': 'SOCIETES-SERVICES',\n  'links': {'https://www.goafricaonline.com/ci/annuaire/automatismes',\n   'https://www.goafricaonline.com/ci/annuaire/courrier-express',\n   'https://www.goafricaonline.com/ci/annuaire/demenagement-garde-meuble',\n   'https://www.goafricaonline.com/ci/annuaire/depannage-electronique',\n   'https://www.goafricaonline.com/ci/annuaire/deratisation-desinsectisation',\n   'https://www.goafricaonline.com/ci/annuaire/location-de-vehicules',\n   'https://www.goafricaonline.com/ci/annuaire/location-mat%C3%A9riels-r%C3%A9ception',\n   'https://www.goafricaonline.com/ci/annuaire/materiel-manutention',\n   'https://www.goafricaonline.com/ci/annuaire/nettoyage-etretien',\n   'https://www.goafricaonline.com/ci/annuaire/photocopie-copie-service',\n   'https://www.goafricaonline.com/ci/annuaire/photographe-cameraman',\n   'https://www.goafricaonline.com/ci/annuaire/photographes',\n   'https://www.goafricaonline.com/ci/annuaire/poste-envoi-courrier',\n   'https://www.goafricaonline.com/ci/annuaire/prestataires-services',\n   'https://www.goafricaonline.com/ci/annuaire/relocation',\n   'https://www.goafricaonline.com/ci/annuaire/securite-aeroport',\n   'https://www.goafricaonline.com/ci/annuaire/societes-nettoyage-industriel',\n   'https://www.goafricaonline.com/ci/annuaire/studio-production',\n   'https://www.goafricaonline.com/ci/annuaire/toilettage-animaux',\n   'https://www.goafricaonline.com/ci/annuaire/traducteurs-interpretes'}},\n {'secteurs': 'PRODUITS-HYGIENE',\n  'links': {'https://www.goafricaonline.com/ci/annuaire/hygiene-corporelle-sante',\n   'https://www.goafricaonline.com/ci/annuaire/produits-entretien-hygiene'}},\n {'secteurs': 'COMPTABILITE-JURIDIQUE-CONSEIL',\n  'links': {'https://www.goafricaonline.com/ci/annuaire/audit-conseil',\n   'https://www.goafricaonline.com/ci/annuaire/bureaux-controles',\n   'https://www.goafricaonline.com/ci/annuaire/bureaux-etude-conseils',\n   'https://www.goafricaonline.com/ci/annuaire/bureaux-expertises',\n   'https://www.goafricaonline.com/ci/annuaire/cabinets-avocat',\n   'https://www.goafricaonline.com/ci/annuaire/certification',\n   'https://www.goafricaonline.com/ci/annuaire/commissaires-aux-comptes',\n   'https://www.goafricaonline.com/ci/annuaire/commissaires-priseurs',\n   'https://www.goafricaonline.com/ci/annuaire/commissionnaires-en-douane',\n   'https://www.goafricaonline.com/ci/annuaire/conseil-juridique-fiscal',\n   'https://www.goafricaonline.com/ci/annuaire/contr%C3%B4le-inspection',\n   'https://www.goafricaonline.com/ci/annuaire/controle-qualite',\n   'https://www.goafricaonline.com/ci/annuaire/expert-comptable',\n   'https://www.goafricaonline.com/ci/annuaire/expert-maritime',\n   'https://www.goafricaonline.com/ci/annuaire/expertise-controle',\n   'https://www.goafricaonline.com/ci/annuaire/gestion-ressources-humaines',\n   'https://www.goafricaonline.com/ci/annuaire/huissiers-de-justice',\n   'https://www.goafricaonline.com/ci/annuaire/ingenieurs-conseils',\n   'https://www.goafricaonline.com/ci/annuaire/management',\n   'https://www.goafricaonline.com/ci/annuaire/notaires',\n   'https://www.goafricaonline.com/ci/annuaire/projets-bureaux-appui',\n   'https://www.goafricaonline.com/ci/annuaire/propriete-intellectuelle-industrielle-brevets-marques',\n   'https://www.goafricaonline.com/ci/annuaire/recouvrement',\n   'https://www.goafricaonline.com/ci/annuaire/societes-marketing'}},\n {'secteurs': 'PROFESSIONNELS-IMMOBILIER',\n  'links': {'https://www.goafricaonline.com/ci/annuaire/agences-immobilieres',\n   'https://www.goafricaonline.com/ci/annuaire/expertise-immobiliere',\n   'https://www.goafricaonline.com/ci/annuaire/gestion-immobiliere',\n   'https://www.goafricaonline.com/ci/annuaire/immobilier',\n   'https://www.goafricaonline.com/ci/annuaire/promoteurs-immobiliers'}},\n {'secteurs': 'URGENCE',\n  'links': {'https://www.goafricaonline.com/ci/annuaire/ambulances',\n   'https://www.goafricaonline.com/ci/annuaire/commissariats-police',\n   'https://www.goafricaonline.com/ci/annuaire/sapeurs-pompiers'}},\n {'secteurs': 'ARTISANS',\n  'links': {'https://www.goafricaonline.com/ci/annuaire/artisanat',\n   'https://www.goafricaonline.com/ci/annuaire/ateliers-de-couture',\n   'https://www.goafricaonline.com/ci/annuaire/ateliers-teinture',\n   'https://www.goafricaonline.com/ci/annuaire/broderies',\n   'https://www.goafricaonline.com/ci/annuaire/miroiterie-vitrerie',\n   'https://www.goafricaonline.com/ci/annuaire/plomberie-sanitaires',\n   'https://www.goafricaonline.com/ci/annuaire/salons-de-coiffure',\n   'https://www.goafricaonline.com/ci/annuaire/serrureries',\n   'https://www.goafricaonline.com/ci/annuaire/tapisserie'}},\n {'secteurs': 'SOCIETES-SECURITE',\n  'links': {'https://www.goafricaonline.com/ci/annuaire/conseil-aurit-securite',\n   'https://www.goafricaonline.com/ci/annuaire/entreprises-alarmes-surveillances',\n   'https://www.goafricaonline.com/ci/annuaire/equipements-protection-individuelle',\n   'https://www.goafricaonline.com/ci/annuaire/equipements-securite',\n   'https://www.goafricaonline.com/ci/annuaire/securite-aerienne',\n   'https://www.goafricaonline.com/ci/annuaire/securite-alimentaire',\n   'https://www.goafricaonline.com/ci/annuaire/securite-electronique',\n   'https://www.goafricaonline.com/ci/annuaire/securite-incendie',\n   'https://www.goafricaonline.com/ci/annuaire/securite-routiere',\n   'https://www.goafricaonline.com/ci/annuaire/societes-gardiennage-securite'}},\n {'secteurs': 'ADMINISTRATIONS',\n  'links': {'https://www.goafricaonline.com/ci/annuaire/administration',\n   'https://www.goafricaonline.com/ci/annuaire/agence-de-developpement',\n   'https://www.goafricaonline.com/ci/annuaire/ambassades-consulats',\n   'https://www.goafricaonline.com/ci/annuaire/amenagement',\n   'https://www.goafricaonline.com/ci/annuaire/appui-developpement',\n   'https://www.goafricaonline.com/ci/annuaire/assistance-sociale',\n   'https://www.goafricaonline.com/ci/annuaire/associations',\n   'https://www.goafricaonline.com/ci/annuaire/cartographie',\n   'https://www.goafricaonline.com/ci/annuaire/chambres-commerce',\n   'https://www.goafricaonline.com/ci/annuaire/directions-nationales',\n   'https://www.goafricaonline.com/ci/annuaire/douanes',\n   'https://www.goafricaonline.com/ci/annuaire/environnement',\n   'https://www.goafricaonline.com/ci/annuaire/fondations',\n   'https://www.goafricaonline.com/ci/annuaire/ministeres',\n   'https://www.goafricaonline.com/ci/annuaire/offices-nationaux',\n   'https://www.goafricaonline.com/ci/annuaire/organisations-non-gouvernementales-ong',\n   'https://www.goafricaonline.com/ci/annuaire/organismes-internationaux',\n   'https://www.goafricaonline.com/ci/annuaire/postes',\n   'https://www.goafricaonline.com/ci/annuaire/securite-sociale',\n   'https://www.goafricaonline.com/ci/annuaire/tresor-public',\n   'https://www.goafricaonline.com/ci/annuaire/zones-franche'}},\n {'secteurs': 'COMMERCES',\n  'links': {'https://www.goafricaonline.com/ci/annuaire/animalerie-aquariophilie',\n   'https://www.goafricaonline.com/ci/annuaire/appareils-electromenagers',\n   'https://www.goafricaonline.com/ci/annuaire/bijouterie-joaillerie',\n   'https://www.goafricaonline.com/ci/annuaire/boutiques',\n   'https://www.goafricaonline.com/ci/annuaire/boutiques-bricolage',\n   'https://www.goafricaonline.com/ci/annuaire/centres-affaires',\n   'https://www.goafricaonline.com/ci/annuaire/centres-commerciaux',\n   'https://www.goafricaonline.com/ci/annuaire/cosmetique',\n   'https://www.goafricaonline.com/ci/annuaire/fleuristes',\n   'https://www.goafricaonline.com/ci/annuaire/fournitures-bureau',\n   'https://www.goafricaonline.com/ci/annuaire/fournitures-scolaires',\n   'https://www.goafricaonline.com/ci/annuaire/jeux-jouets',\n   'https://www.goafricaonline.com/ci/annuaire/laboratoires-photographiques',\n   'https://www.goafricaonline.com/ci/annuaire/librairie',\n   'https://www.goafricaonline.com/ci/annuaire/loterie',\n   'https://www.goafricaonline.com/ci/annuaire/materiel-froid',\n   'https://www.goafricaonline.com/ci/annuaire/materiels-de-reception',\n   'https://www.goafricaonline.com/ci/annuaire/merceries',\n   'https://www.goafricaonline.com/ci/annuaire/mobilier-de-bureau',\n   'https://www.goafricaonline.com/ci/annuaire/papeterie',\n   'https://www.goafricaonline.com/ci/annuaire/parfumerie',\n   'https://www.goafricaonline.com/ci/annuaire/pompes-funebres',\n   'https://www.goafricaonline.com/ci/annuaire/pressings',\n   'https://www.goafricaonline.com/ci/annuaire/produits-entretien',\n   'https://www.goafricaonline.com/ci/annuaire/quincailleries',\n   'https://www.goafricaonline.com/ci/annuaire/representants-commerciaux',\n   'https://www.goafricaonline.com/ci/annuaire/sites-vente-en-ligne',\n   'https://www.goafricaonline.com/ci/annuaire/stylismes',\n   'https://www.goafricaonline.com/ci/annuaire/supermarches',\n   'https://www.goafricaonline.com/ci/annuaire/tabac-cigarette',\n   'https://www.goafricaonline.com/ci/annuaire/toles',\n   'https://www.goafricaonline.com/ci/annuaire/vente-ciment',\n   'https://www.goafricaonline.com/ci/annuaire/vente-produits-cosmetique'}},\n {'secteurs': 'TOURISME-ET-LOISIRS',\n  'links': {'https://www.goafricaonline.com/ci/annuaire/agences-de-voyage',\n   'https://www.goafricaonline.com/ci/annuaire/agences-immigration',\n   'https://www.goafricaonline.com/ci/annuaire/auberges',\n   'https://www.goafricaonline.com/ci/annuaire/casinos',\n   'https://www.goafricaonline.com/ci/annuaire/centre-loisirs',\n   'https://www.goafricaonline.com/ci/annuaire/centres-culturels',\n   'https://www.goafricaonline.com/ci/annuaire/chambres-maison-hotes',\n   'https://www.goafricaonline.com/ci/annuaire/cinemas',\n   'https://www.goafricaonline.com/ci/annuaire/equipements-hoteliers',\n   'https://www.goafricaonline.com/ci/annuaire/foires-expositions',\n   'https://www.goafricaonline.com/ci/annuaire/hotels',\n   'https://www.goafricaonline.com/ci/annuaire/locatio-salles-reception',\n   'https://www.goafricaonline.com/ci/annuaire/musees',\n   'https://www.goafricaonline.com/ci/annuaire/musique',\n   'https://www.goafricaonline.com/ci/annuaire/night-club-discotheques',\n   'https://www.goafricaonline.com/ci/annuaire/offices-du-tourisme',\n   'https://www.goafricaonline.com/ci/annuaire/parcs-attraction',\n   'https://www.goafricaonline.com/ci/annuaire/parcs-nationaux',\n   'https://www.goafricaonline.com/ci/annuaire/piscines',\n   'https://www.goafricaonline.com/ci/annuaire/residence',\n   'https://www.goafricaonline.com/ci/annuaire/safaris',\n   'https://www.goafricaonline.com/ci/annuaire/sites-touristiques',\n   'https://www.goafricaonline.com/ci/annuaire/sonorisation-eclairage',\n   'https://www.goafricaonline.com/ci/annuaire/tourisme'}},\n {'secteurs': 'SPORT',\n  'links': {'https://www.goafricaonline.com/ci/annuaire/centres-omnisports-stades',\n   'https://www.goafricaonline.com/ci/annuaire/clubs-sport',\n   'https://www.goafricaonline.com/ci/annuaire/salles-sport-gym-fitness',\n   'https://www.goafricaonline.com/ci/annuaire/vente-articles-sport'}},\n {'secteurs': 'ENTREPRISES-FINANCES',\n  'links': {'https://www.goafricaonline.com/ci/annuaire/actuaires',\n   'https://www.goafricaonline.com/ci/annuaire/assurances',\n   'https://www.goafricaonline.com/ci/annuaire/banques',\n   'https://www.goafricaonline.com/ci/annuaire/bureaux-appui-financier',\n   'https://www.goafricaonline.com/ci/annuaire/bureaux-de-change',\n   'https://www.goafricaonline.com/ci/annuaire/courtiers-en-assurance',\n   'https://www.goafricaonline.com/ci/annuaire/epargne',\n   'https://www.goafricaonline.com/ci/annuaire/equipement-bancaire',\n   'https://www.goafricaonline.com/ci/annuaire/expertise-automobile',\n   'https://www.goafricaonline.com/ci/annuaire/expertise-financiere',\n   'https://www.goafricaonline.com/ci/annuaire/fond-investissement',\n   'https://www.goafricaonline.com/ci/annuaire/microfinance',\n   'https://www.goafricaonline.com/ci/annuaire/organismes-de-credit',\n   'https://www.goafricaonline.com/ci/annuaire/securite-bancaire',\n   'https://www.goafricaonline.com/ci/annuaire/societes-de-bourse',\n   'https://www.goafricaonline.com/ci/annuaire/societes-financement',\n   'https://www.goafricaonline.com/ci/annuaire/transferts-de-fonds',\n   'https://www.goafricaonline.com/ci/annuaire/transport-fonds'}},\n {'secteurs': 'INFORMATIQUE-INTERNET',\n  'links': {'https://www.goafricaonline.com/ci/annuaire/archivage-numerique',\n   'https://www.goafricaonline.com/ci/annuaire/assistance-technique',\n   'https://www.goafricaonline.com/ci/annuaire/bureautique',\n   'https://www.goafricaonline.com/ci/annuaire/consommables-informatiques-reseaux',\n   'https://www.goafricaonline.com/ci/annuaire/consultants-informatiques',\n   'https://www.goafricaonline.com/ci/annuaire/cybercafes',\n   'https://www.goafricaonline.com/ci/annuaire/formation-informatique',\n   'https://www.goafricaonline.com/ci/annuaire/fournisseurs-acces-internet',\n   'https://www.goafricaonline.com/ci/annuaire/geolocalisation',\n   'https://www.goafricaonline.com/ci/annuaire/hebergement-sites-internet-cloud',\n   'https://www.goafricaonline.com/ci/annuaire/informatique',\n   'https://www.goafricaonline.com/ci/annuaire/ingenierie-informatique',\n   'https://www.goafricaonline.com/ci/annuaire/internet',\n   'https://www.goafricaonline.com/ci/annuaire/maintenance-informatique',\n   'https://www.goafricaonline.com/ci/annuaire/materiels-informatiques-bureautique',\n   'https://www.goafricaonline.com/ci/annuaire/monetique-informatique',\n   'https://www.goafricaonline.com/ci/annuaire/reseaux-telecommunication',\n   'https://www.goafricaonline.com/ci/annuaire/securite-informatique',\n   'https://www.goafricaonline.com/ci/annuaire/societes-de-technologie-appliquee',\n   'https://www.goafricaonline.com/ci/annuaire/startup'}},\n {'secteurs': 'COMMERCE-IMPORT-EXPORT',\n  'links': {'https://www.goafricaonline.com/ci/annuaire/centrales-achat',\n   'https://www.goafricaonline.com/ci/annuaire/distributeur-grossiste',\n   'https://www.goafricaonline.com/ci/annuaire/entreposage',\n   'https://www.goafricaonline.com/ci/annuaire/societes-import-export',\n   'https://www.goafricaonline.com/ci/annuaire/societes-negoce'}},\n {'secteurs': 'MAISON-DECORATION',\n  'links': {'https://www.goafricaonline.com/ci/annuaire/ameublement',\n   'https://www.goafricaonline.com/ci/annuaire/architecte-interieur',\n   'https://www.goafricaonline.com/ci/annuaire/decoration-interieur',\n   'https://www.goafricaonline.com/ci/annuaire/fabriquant-distribution-vente-cuisine',\n   'https://www.goafricaonline.com/ci/annuaire/galerie-art',\n   'https://www.goafricaonline.com/ci/annuaire/jardinage',\n   'https://www.goafricaonline.com/ci/annuaire/luminaires',\n   'https://www.goafricaonline.com/ci/annuaire/matelas-mousse'}},\n {'secteurs': 'EMPLOI',\n  'links': {'https://www.goafricaonline.com/ci/annuaire/agence-de-recrutement',\n   'https://www.goafricaonline.com/ci/annuaire/cat-emploi',\n   'https://www.goafricaonline.com/ci/annuaire/societes-travail-temporaire-interim'}},\n {'secteurs': 'AUTRES',\n  'links': {'https://www.goafricaonline.com/ci/annuaire/controle-technique',\n   'https://www.goafricaonline.com/ci/annuaire/moteurs-marins',\n   'https://www.goafricaonline.com/ci/annuaire/religion-lieux-de-culte'}},\n {'secteurs': 'SANTE',\n  'links': {'https://www.goafricaonline.com/ci/annuaire/anesthesistes',\n   'https://www.goafricaonline.com/ci/annuaire/audioprothesistes',\n   'https://www.goafricaonline.com/ci/annuaire/biologistes',\n   'https://www.goafricaonline.com/ci/annuaire/cabinets-medicaux',\n   'https://www.goafricaonline.com/ci/annuaire/cardiologues',\n   'https://www.goafricaonline.com/ci/annuaire/centres-medicaux-sociaux',\n   'https://www.goafricaonline.com/ci/annuaire/chirurgiens',\n   'https://www.goafricaonline.com/ci/annuaire/cliniques-polycliniques',\n   'https://www.goafricaonline.com/ci/annuaire/dentistes',\n   'https://www.goafricaonline.com/ci/annuaire/dermatologues',\n   'https://www.goafricaonline.com/ci/annuaire/dieteticiens',\n   'https://www.goafricaonline.com/ci/annuaire/equipements-medicaux',\n   'https://www.goafricaonline.com/ci/annuaire/gastro-enterologie',\n   'https://www.goafricaonline.com/ci/annuaire/grossistes-pharmaceutiques',\n   'https://www.goafricaonline.com/ci/annuaire/gynecologues',\n   'https://www.goafricaonline.com/ci/annuaire/hopitaux',\n   'https://www.goafricaonline.com/ci/annuaire/kinesitherapeutes-physiotherapeutes',\n   'https://www.goafricaonline.com/ci/annuaire/laboratoires-analyses-medicales',\n   'https://www.goafricaonline.com/ci/annuaire/medecine-interne',\n   'https://www.goafricaonline.com/ci/annuaire/medecine-traditionnelle',\n   'https://www.goafricaonline.com/ci/annuaire/medecine-travail',\n   'https://www.goafricaonline.com/ci/annuaire/medecins-generalistes',\n   'https://www.goafricaonline.com/ci/annuaire/medecins-orl',\n   'https://www.goafricaonline.com/ci/annuaire/neurologie',\n   'https://www.goafricaonline.com/ci/annuaire/ophtalmologues',\n   'https://www.goafricaonline.com/ci/annuaire/opticiens',\n   'https://www.goafricaonline.com/ci/annuaire/orthopedique',\n   'https://www.goafricaonline.com/ci/annuaire/orthophonistes',\n   'https://www.goafricaonline.com/ci/annuaire/osteopathe-chiropracteur',\n   'https://www.goafricaonline.com/ci/annuaire/pediatrie',\n   'https://www.goafricaonline.com/ci/annuaire/pharmacies',\n   'https://www.goafricaonline.com/ci/annuaire/pharmacies-veterinaires',\n   'https://www.goafricaonline.com/ci/annuaire/pneumologie',\n   'https://www.goafricaonline.com/ci/annuaire/podologue-pedicure',\n   'https://www.goafricaonline.com/ci/annuaire/produits-dietetiques',\n   'https://www.goafricaonline.com/ci/annuaire/produits-pharmaceutiques',\n   'https://www.goafricaonline.com/ci/annuaire/produits-phytosanitaires',\n   'https://www.goafricaonline.com/ci/annuaire/produits-veterinaires',\n   'https://www.goafricaonline.com/ci/annuaire/psychiatre',\n   'https://www.goafricaonline.com/ci/annuaire/psychologues',\n   'https://www.goafricaonline.com/ci/annuaire/radiologie',\n   'https://www.goafricaonline.com/ci/annuaire/representants-medicaux',\n   'https://www.goafricaonline.com/ci/annuaire/sante_',\n   'https://www.goafricaonline.com/ci/annuaire/traditherapeutes',\n   'https://www.goafricaonline.com/ci/annuaire/veterinaires'}},\n {'secteurs': 'ENTREPRISES-BATIMENT-CONSTRUCTION',\n  'links': {'https://www.goafricaonline.com/ci/annuaire/amenagement-foncier',\n   'https://www.goafricaonline.com/ci/annuaire/ascenseurs',\n   'https://www.goafricaonline.com/ci/annuaire/assainissement-canalisations',\n   'https://www.goafricaonline.com/ci/annuaire/batiment-travaux-publics',\n   'https://www.goafricaonline.com/ci/annuaire/bois',\n   'https://www.goafricaonline.com/ci/annuaire/chaudronnerie',\n   'https://www.goafricaonline.com/ci/annuaire/concassage',\n   'https://www.goafricaonline.com/ci/annuaire/construction',\n   'https://www.goafricaonline.com/ci/annuaire/construction-beton',\n   'https://www.goafricaonline.com/ci/annuaire/constructions-metalliques',\n   'https://www.goafricaonline.com/ci/annuaire/eau-forage',\n   'https://www.goafricaonline.com/ci/annuaire/ebenisterie',\n   'https://www.goafricaonline.com/ci/annuaire/entreprises-adduction-eau',\n   'https://www.goafricaonline.com/ci/annuaire/entreprises-carrelage',\n   'https://www.goafricaonline.com/ci/annuaire/entreprises-peinture',\n   'https://www.goafricaonline.com/ci/annuaire/etancheite',\n   'https://www.goafricaonline.com/ci/annuaire/ferronneries-fer-forge',\n   'https://www.goafricaonline.com/ci/annuaire/froid-climatisation',\n   'https://www.goafricaonline.com/ci/annuaire/genie-civil',\n   'https://www.goafricaonline.com/ci/annuaire/geometres',\n   'https://www.goafricaonline.com/ci/annuaire/hydraulique-irrigation',\n   'https://www.goafricaonline.com/ci/annuaire/laboratoires-btp',\n   'https://www.goafricaonline.com/ci/annuaire/marbreries-marbriers',\n   'https://www.goafricaonline.com/ci/annuaire/materiaux-construction',\n   'https://www.goafricaonline.com/ci/annuaire/materiel-topographique',\n   'https://www.goafricaonline.com/ci/annuaire/materiels-btp',\n   'https://www.goafricaonline.com/ci/annuaire/menuiserie-aluminium',\n   'https://www.goafricaonline.com/ci/annuaire/menuiserie-bois',\n   'https://www.goafricaonline.com/ci/annuaire/menuiserie-industrielle',\n   'https://www.goafricaonline.com/ci/annuaire/menuiserie-metallique',\n   'https://www.goafricaonline.com/ci/annuaire/moteurs-pompes',\n   'https://www.goafricaonline.com/ci/annuaire/portes-fenetres',\n   'https://www.goafricaonline.com/ci/annuaire/prefabriques-construction-modulaire',\n   'https://www.goafricaonline.com/ci/annuaire/revetements',\n   'https://www.goafricaonline.com/ci/annuaire/sanitaires',\n   'https://www.goafricaonline.com/ci/annuaire/scieries-specialistes-bois',\n   'https://www.goafricaonline.com/ci/annuaire/societes-architecture',\n   'https://www.goafricaonline.com/ci/annuaire/societes-specialistes-aluminium',\n   'https://www.goafricaonline.com/ci/annuaire/societes-urbanisme',\n   'https://www.goafricaonline.com/ci/annuaire/soudeurs',\n   'https://www.goafricaonline.com/ci/annuaire/toitures',\n   'https://www.goafricaonline.com/ci/annuaire/tolerie',\n   'https://www.goafricaonline.com/ci/annuaire/topographies',\n   'https://www.goafricaonline.com/ci/annuaire/travaux-sous-marins-constructions-marines'}},\n {'secteurs': 'SECTEUR-ENERGIE',\n  'links': {'https://www.goafricaonline.com/ci/annuaire/batteries-piles',\n   'https://www.goafricaonline.com/ci/annuaire/electriciens',\n   'https://www.goafricaonline.com/ci/annuaire/electricite-production-distribution',\n   'https://www.goafricaonline.com/ci/annuaire/energie',\n   'https://www.goafricaonline.com/ci/annuaire/energie-solaire-renouvelable',\n   'https://www.goafricaonline.com/ci/annuaire/entreprises-electromecanique',\n   'https://www.goafricaonline.com/ci/annuaire/entreprises-gaz',\n   'https://www.goafricaonline.com/ci/annuaire/equipements-petroliers',\n   'https://www.goafricaonline.com/ci/annuaire/hydrocarbure-petrole',\n   'https://www.goafricaonline.com/ci/annuaire/hydrocarbure-stockage',\n   'https://www.goafricaonline.com/ci/annuaire/hydrocarbure-transport',\n   'https://www.goafricaonline.com/ci/annuaire/societes-electrotechnique',\n   'https://www.goafricaonline.com/ci/annuaire/vente-groupe-electrogene'}},\n {'secteurs': 'ENTREPRISES-AGROALIMENTAIRES',\n  'links': {'https://www.goafricaonline.com/ci/annuaire/abattoirs-viande',\n   'https://www.goafricaonline.com/ci/annuaire/agriculture',\n   'https://www.goafricaonline.com/ci/annuaire/agroalimentaire',\n   'https://www.goafricaonline.com/ci/annuaire/agronomie',\n   'https://www.goafricaonline.com/ci/annuaire/alimentation-animale',\n   'https://www.goafricaonline.com/ci/annuaire/alimentation-generale',\n   'https://www.goafricaonline.com/ci/annuaire/aquaculture-pisciculture',\n   'https://www.goafricaonline.com/ci/annuaire/boissons-fabrication-distribution',\n   'https://www.goafricaonline.com/ci/annuaire/cafe-cacao',\n   'https://www.goafricaonline.com/ci/annuaire/complements-alimentaires',\n   'https://www.goafricaonline.com/ci/annuaire/eau-de-table',\n   'https://www.goafricaonline.com/ci/annuaire/eau-production-distribution',\n   'https://www.goafricaonline.com/ci/annuaire/eaux-minerales',\n   'https://www.goafricaonline.com/ci/annuaire/engrais-fabrication-distribution',\n   'https://www.goafricaonline.com/ci/annuaire/enterprises-peche-commercialisation-exportation',\n   'https://www.goafricaonline.com/ci/annuaire/entreprises-agro-industrie',\n   'https://www.goafricaonline.com/ci/annuaire/entreprises-agrochimie',\n   'https://www.goafricaonline.com/ci/annuaire/farine-minoteries',\n   'https://www.goafricaonline.com/ci/annuaire/fermes-avicoles-elevage-volailles',\n   'https://www.goafricaonline.com/ci/annuaire/fruits-legumes',\n   'https://www.goafricaonline.com/ci/annuaire/grossites-produits-alimentaires',\n   'https://www.goafricaonline.com/ci/annuaire/hevea-caoutchouc',\n   'https://www.goafricaonline.com/ci/annuaire/huile-production-commercialisation',\n   'https://www.goafricaonline.com/ci/annuaire/intrants-agricoles',\n   'https://www.goafricaonline.com/ci/annuaire/mat%C3%A9riels-equipements-agricoles',\n   'https://www.goafricaonline.com/ci/annuaire/peche-industrielle',\n   'https://www.goafricaonline.com/ci/annuaire/phytotherapie',\n   'https://www.goafricaonline.com/ci/annuaire/production-agricole-biologique',\n   'https://www.goafricaonline.com/ci/annuaire/production-distribution-riz',\n   'https://www.goafricaonline.com/ci/annuaire/production-produits-laitiers',\n   'https://www.goafricaonline.com/ci/annuaire/produits-agricoles',\n   'https://www.goafricaonline.com/ci/annuaire/produits-elevage',\n   'https://www.goafricaonline.com/ci/annuaire/produits-surgeles-congeles',\n   'https://www.goafricaonline.com/ci/annuaire/societes-elevage',\n   'https://www.goafricaonline.com/ci/annuaire/sucre-production-distribution',\n   'https://www.goafricaonline.com/ci/annuaire/the-production-commercialisation',\n   'https://www.goafricaonline.com/ci/annuaire/traitement-eau'}},\n {'secteurs': 'COMMUNICATION-PUBLICITE',\n  'links': {'https://www.goafricaonline.com/ci/annuaire/agences-de-communication',\n   'https://www.goafricaonline.com/ci/annuaire/art-graphique',\n   'https://www.goafricaonline.com/ci/annuaire/centres-appels-call-center',\n   'https://www.goafricaonline.com/ci/annuaire/editeurs',\n   'https://www.goafricaonline.com/ci/annuaire/enseignes-lumineuses',\n   'https://www.goafricaonline.com/ci/annuaire/enseignes-lumineuses-gravures',\n   'https://www.goafricaonline.com/ci/annuaire/impression-numerique',\n   'https://www.goafricaonline.com/ci/annuaire/imprimeries',\n   'https://www.goafricaonline.com/ci/annuaire/journaux-presse',\n   'https://www.goafricaonline.com/ci/annuaire/magazines-journaux-presse',\n   'https://www.goafricaonline.com/ci/annuaire/medias',\n   'https://www.goafricaonline.com/ci/annuaire/multimedias',\n   'https://www.goafricaonline.com/ci/annuaire/objets-cadeaux-publicitaires',\n   'https://www.goafricaonline.com/ci/annuaire/publicite',\n   'https://www.goafricaonline.com/ci/annuaire/radios',\n   'https://www.goafricaonline.com/ci/annuaire/regie-publicitaire',\n   'https://www.goafricaonline.com/ci/annuaire/salons-foires',\n   'https://www.goafricaonline.com/ci/annuaire/serigraphie',\n   'https://www.goafricaonline.com/ci/annuaire/societes-audiovisuel',\n   'https://www.goafricaonline.com/ci/annuaire/societes-evenementiel',\n   'https://www.goafricaonline.com/ci/annuaire/televisions'}},\n {'secteurs': 'TRANSPORTS',\n  'links': {'https://www.goafricaonline.com/ci/annuaire/aeroports',\n   'https://www.goafricaonline.com/ci/annuaire/agences-en-douane',\n   'https://www.goafricaonline.com/ci/annuaire/agences-maritimes',\n   'https://www.goafricaonline.com/ci/annuaire/assistance-aeroportuaire',\n   'https://www.goafricaonline.com/ci/annuaire/assistance-maritime',\n   'https://www.goafricaonline.com/ci/annuaire/aviation-affaires',\n   'https://www.goafricaonline.com/ci/annuaire/avitaillement-maritime',\n   'https://www.goafricaonline.com/ci/annuaire/cat-transports',\n   'https://www.goafricaonline.com/ci/annuaire/compagnies-aeriennes',\n   'https://www.goafricaonline.com/ci/annuaire/compagnies-maritimes',\n   'https://www.goafricaonline.com/ci/annuaire/entreprises-fret',\n   'https://www.goafricaonline.com/ci/annuaire/entreprises-transit',\n   'https://www.goafricaonline.com/ci/annuaire/location-avion',\n   'https://www.goafricaonline.com/ci/annuaire/logistique',\n   'https://www.goafricaonline.com/ci/annuaire/manutention-entreposage',\n   'https://www.goafricaonline.com/ci/annuaire/ports',\n   'https://www.goafricaonline.com/ci/annuaire/routes-signalisation-entretien',\n   'https://www.goafricaonline.com/ci/annuaire/shipping',\n   'https://www.goafricaonline.com/ci/annuaire/taxis-vtc',\n   'https://www.goafricaonline.com/ci/annuaire/transit-consignation',\n   'https://www.goafricaonline.com/ci/annuaire/transit-maritime',\n   'https://www.goafricaonline.com/ci/annuaire/transport-aerien',\n   'https://www.goafricaonline.com/ci/annuaire/transport-maritime',\n   'https://www.goafricaonline.com/ci/annuaire/transport-routier',\n   'https://www.goafricaonline.com/ci/annuaire/transports-ferroviaires',\n   'https://www.goafricaonline.com/ci/annuaire/transports-hydrocarbures',\n   'https://www.goafricaonline.com/ci/annuaire/transports-internationaux',\n   'https://www.goafricaonline.com/ci/annuaire/transports-logistiques',\n   'https://www.goafricaonline.com/ci/annuaire/transports-urbains'}},\n {'secteurs': 'FORMATIONS-EDUCATION',\n  'links': {'https://www.goafricaonline.com/ci/annuaire/agences-preinscription-visa-etudes',\n   'https://www.goafricaonline.com/ci/annuaire/bibliotheques-mediatheques',\n   'https://www.goafricaonline.com/ci/annuaire/centres-de-formation',\n   'https://www.goafricaonline.com/ci/annuaire/centres-de-recherche',\n   'https://www.goafricaonline.com/ci/annuaire/creche-jardin-enfant-garderies',\n   'https://www.goafricaonline.com/ci/annuaire/ecole-langue',\n   'https://www.goafricaonline.com/ci/annuaire/ecole-maternelle',\n   'https://www.goafricaonline.com/ci/annuaire/ecole-mode',\n   'https://www.goafricaonline.com/ci/annuaire/ecole-secondaire-technique',\n   'https://www.goafricaonline.com/ci/annuaire/ecoles-primaires',\n   'https://www.goafricaonline.com/ci/annuaire/ecoles-secondaires',\n   'https://www.goafricaonline.com/ci/annuaire/enseignement-superieur-universite',\n   'https://www.goafricaonline.com/ci/annuaire/formation-professionnelle',\n   'https://www.goafricaonline.com/ci/annuaire/formations-techniques'}},\n {'secteurs': 'AUTOMOBILE-MOTO',\n  'links': {'https://www.goafricaonline.com/ci/annuaire/auto-ecoles-apprendre-conduire',\n   'https://www.goafricaonline.com/ci/annuaire/bateaux-moteurs-vente-location',\n   'https://www.goafricaonline.com/ci/annuaire/bobinage-generale',\n   'https://www.goafricaonline.com/ci/annuaire/carrossries-voitures-moto',\n   'https://www.goafricaonline.com/ci/annuaire/concessionnaires-automobiles-moto',\n   'https://www.goafricaonline.com/ci/annuaire/dieseliste',\n   'https://www.goafricaonline.com/ci/annuaire/garages-mecanique-generale',\n   'https://www.goafricaonline.com/ci/annuaire/lavage-automobile-voiture',\n   'https://www.goafricaonline.com/ci/annuaire/location-voitures',\n   'https://www.goafricaonline.com/ci/annuaire/lubrifiants',\n   'https://www.goafricaonline.com/ci/annuaire/parc-auto',\n   'https://www.goafricaonline.com/ci/annuaire/pieces-detachees-automobile-voiture-moto',\n   'https://www.goafricaonline.com/ci/annuaire/pneumatiques-vente-pneus',\n   'https://www.goafricaonline.com/ci/annuaire/stations-essence',\n   'https://www.goafricaonline.com/ci/annuaire/vente-cycles-motos',\n   'https://www.goafricaonline.com/ci/annuaire/vente-de-camions',\n   'https://www.goafricaonline.com/ci/annuaire/vente-vehicules-industriels',\n   'https://www.goafricaonline.com/ci/annuaire/vente-voitures-automobile'}},\n {'secteurs': 'MODE-VETEMENTS-TEXTILES',\n  'links': {'https://www.goafricaonline.com/ci/annuaire/accessoires-mode',\n   'https://www.goafricaonline.com/ci/annuaire/boutiques-enfants',\n   'https://www.goafricaonline.com/ci/annuaire/boutiques-pret-a-porter',\n   'https://www.goafricaonline.com/ci/annuaire/chaussures',\n   'https://www.goafricaonline.com/ci/annuaire/friperies',\n   'https://www.goafricaonline.com/ci/annuaire/lingerie',\n   'https://www.goafricaonline.com/ci/annuaire/maroquinerie',\n   'https://www.goafricaonline.com/ci/annuaire/vente-vetements-textiles'}}]"
     },
     "execution_count": 75,
     "metadata": {},
     "output_type": "execute_result"
    }
   ],
   "source": [
    "category_links"
   ],
   "metadata": {
    "collapsed": false,
    "ExecuteTime": {
     "end_time": "2024-02-23T10:35:33.135478Z",
     "start_time": "2024-02-23T10:35:33.125305Z"
    }
   },
   "id": "b9f51702b2da06ec",
   "execution_count": 75
  },
  {
   "cell_type": "code",
   "outputs": [],
   "source": [
    "df_category = annuaire_parser.list_of_dicts_to_dataframe(category_links)"
   ],
   "metadata": {
    "collapsed": false,
    "ExecuteTime": {
     "end_time": "2024-02-23T10:35:46.209830Z",
     "start_time": "2024-02-23T10:35:46.203995Z"
    }
   },
   "id": "32646e0362b15e00",
   "execution_count": 76
  },
  {
   "cell_type": "code",
   "outputs": [
    {
     "data": {
      "text/plain": "     secteurs                                              links\n0  INDUSTRIES  https://www.goafricaonline.com/ci/annuaire/exp...\n0  INDUSTRIES  https://www.goafricaonline.com/ci/annuaire/tuiles\n0  INDUSTRIES  https://www.goafricaonline.com/ci/annuaire/fab...\n0  INDUSTRIES  https://www.goafricaonline.com/ci/annuaire/air...\n0  INDUSTRIES  https://www.goafricaonline.com/ci/annuaire/ind...",
      "text/html": "<div>\n<style scoped>\n    .dataframe tbody tr th:only-of-type {\n        vertical-align: middle;\n    }\n\n    .dataframe tbody tr th {\n        vertical-align: top;\n    }\n\n    .dataframe thead th {\n        text-align: right;\n    }\n</style>\n<table border=\"1\" class=\"dataframe\">\n  <thead>\n    <tr style=\"text-align: right;\">\n      <th></th>\n      <th>secteurs</th>\n      <th>links</th>\n    </tr>\n  </thead>\n  <tbody>\n    <tr>\n      <th>0</th>\n      <td>INDUSTRIES</td>\n      <td>https://www.goafricaonline.com/ci/annuaire/exp...</td>\n    </tr>\n    <tr>\n      <th>0</th>\n      <td>INDUSTRIES</td>\n      <td>https://www.goafricaonline.com/ci/annuaire/tuiles</td>\n    </tr>\n    <tr>\n      <th>0</th>\n      <td>INDUSTRIES</td>\n      <td>https://www.goafricaonline.com/ci/annuaire/fab...</td>\n    </tr>\n    <tr>\n      <th>0</th>\n      <td>INDUSTRIES</td>\n      <td>https://www.goafricaonline.com/ci/annuaire/air...</td>\n    </tr>\n    <tr>\n      <th>0</th>\n      <td>INDUSTRIES</td>\n      <td>https://www.goafricaonline.com/ci/annuaire/ind...</td>\n    </tr>\n  </tbody>\n</table>\n</div>"
     },
     "execution_count": 77,
     "metadata": {},
     "output_type": "execute_result"
    }
   ],
   "source": [
    "df_category.head()"
   ],
   "metadata": {
    "collapsed": false,
    "ExecuteTime": {
     "end_time": "2024-02-23T10:35:47.806881Z",
     "start_time": "2024-02-23T10:35:47.799422Z"
    }
   },
   "id": "a7b2da32d6eed439",
   "execution_count": 77
  },
  {
   "cell_type": "code",
   "outputs": [],
   "source": [
    "annuaire_parser.save_dataframe_to_excel(df_category)"
   ],
   "metadata": {
    "collapsed": false,
    "ExecuteTime": {
     "end_time": "2024-02-22T16:43:27.840191Z",
     "start_time": "2024-02-22T16:43:27.781936Z"
    }
   },
   "id": "c4b9b98869e4ab9b",
   "execution_count": 222
  },
  {
   "cell_type": "code",
   "outputs": [
    {
     "name": "stdout",
     "output_type": "stream",
     "text": [
      "['SECTEUR-ENERGIE']\n"
     ]
    }
   ],
   "source": [
    "sectors_key = [sectors[30]]\n",
    "print(sectors_key)"
   ],
   "metadata": {
    "collapsed": false,
    "ExecuteTime": {
     "end_time": "2024-02-23T15:20:53.350417Z",
     "start_time": "2024-02-23T15:20:53.342406Z"
    }
   },
   "id": "ca701a52b31706a9",
   "execution_count": 374
  },
  {
   "cell_type": "code",
   "outputs": [
    {
     "data": {
      "text/plain": "(13, 1370)"
     },
     "execution_count": 369,
     "metadata": {},
     "output_type": "execute_result"
    }
   ],
   "source": [
    "company_data = annuaire_parser.process_annuaire_company_link(category_links, sectors_key)\n",
    "len(company_data), calculate_company_links_length(company_data)"
   ],
   "metadata": {
    "collapsed": false,
    "ExecuteTime": {
     "end_time": "2024-02-23T15:19:00.310725Z",
     "start_time": "2024-02-23T15:17:25.662515Z"
    }
   },
   "id": "1e428713d5dc863b",
   "execution_count": 369
  },
  {
   "cell_type": "code",
   "outputs": [
    {
     "data": {
      "text/plain": "{'secteurs': 'SECTEUR-ENERGIE',\n 'categories': 'ELECTRICITE-PRODUCTION-DISTRIBUTION',\n 'links': ['https://www.goafricaonline.com/ci/723970-holding-hilmann-enes-batiment-travaux-publics-abidjan-cote-ivoire',\n  'https://www.goafricaonline.com/ci/791362-avtomat-group',\n  'https://www.goafricaonline.com/ci/368101-abc-contracting-electricite-production-distribution-abidjan-cote-ivoire',\n  'https://www.goafricaonline.com/ci/781983-africa-cooling-service-electricite-production-distribution-abidjan-cote-ivoire',\n  'https://www.goafricaonline.com/ci/502851-afrique-forages-hydrauliques-electricite-production-distribution-abidjan-cote-ivoire',\n  'https://www.goafricaonline.com/ci/62354-aggreko-electricite-abidjan-cote-ivoire',\n  'https://www.goafricaonline.com/ci/169133-ai-entreprise-electricite-abidjan-cote-ivoire',\n  'https://www.goafricaonline.com/ci/514150-alynimo-electricite-abidjan-cote-ivoire',\n  'https://www.goafricaonline.com/ci/826793-anare-ci-electricite-production-distribution-abidjan-cote-ivoire',\n  'https://www.goafricaonline.com/ci/585027-avenir-consulting-international-electricite-production-distribution-abidjan-cote-ivoire',\n  'https://www.goafricaonline.com/ci/654026-cadelec-electricite-production-distribution-abidjan-cote-ivoire',\n  'https://www.goafricaonline.com/ci/42767-ci-energies-electricite-production-distribution-abidjan-cote-ivoire',\n  'https://www.goafricaonline.com/ci/50300-cie-electricite-production-distribution-abidjan-cote-ivoire',\n  'https://www.goafricaonline.com/ci/593773-cie-electricite-production-distribution-bingerville-cote-ivoire',\n  'https://www.goafricaonline.com/ci/585568-cm-electricite-production-distribution-abidjan-cote-ivoire',\n  'https://www.goafricaonline.com/ci/682705-ehouman-services-abidjan-cote-d-ivoire',\n  'https://www.goafricaonline.com/ci/59269-eier-electricite-production-distribution-abidjan-cote-ivoire',\n  'https://www.goafricaonline.com/ci/576577-elecplus-electricite-production-distribution-abidjan-cote-ivoire',\n  'https://www.goafricaonline.com/ci/498477-emir-holding-electricite-production-distribution-abidjan-cote-ivoire',\n  'https://www.goafricaonline.com/ci/578086-eranove-electricite-abidjan-cote-ivoire',\n  'https://www.goafricaonline.com/ci/723981-esel-ci-electricite-production-distribution-abidjan-cote-ivoire',\n  'https://www.goafricaonline.com/ci/594442-esy-electricite-produit-distribution-abidjan-cote-ivoire',\n  'https://www.goafricaonline.com/ci/575448-esy-sarl-abidjan-cote-ivoire',\n  'https://www.goafricaonline.com/ci/594097-alex-fonk-electricite-production-distribution-abidjan-cote-ivoire',\n  'https://www.goafricaonline.com/ci/639604-gelec-ci-electricite-production-distribution-abidjan-cote-ivoire',\n  'https://www.goafricaonline.com/ci/682558-giter-energie-electricite-production-distribution-abidjan-cote-ivoire',\n  'https://www.goafricaonline.com/ci/656920-ism-abidjan-cote-d-ivoire',\n  'https://www.goafricaonline.com/ci/853169-isma-energies-electricite-production-distribution-abidjan-cote-ivoire',\n  'https://www.goafricaonline.com/ci/596521-iveb-electricite-production-distribution-abidjan-cote-ivoire',\n  'https://www.goafricaonline.com/ci/549386-ivoire-lab-electricite-production-distribution-abidjan-cote',\n  'https://www.goafricaonline.com/ci/723970-holding-hilmann-enes-batiment-travaux-publics-abidjan-cote-ivoire',\n  'https://www.goafricaonline.com/ci/791362-avtomat-group',\n  'https://www.goafricaonline.com/ci/368101-abc-contracting-electricite-production-distribution-abidjan-cote-ivoire',\n  'https://www.goafricaonline.com/ci/781983-africa-cooling-service-electricite-production-distribution-abidjan-cote-ivoire',\n  'https://www.goafricaonline.com/ci/502851-afrique-forages-hydrauliques-electricite-production-distribution-abidjan-cote-ivoire',\n  'https://www.goafricaonline.com/ci/62354-aggreko-electricite-abidjan-cote-ivoire',\n  'https://www.goafricaonline.com/ci/169133-ai-entreprise-electricite-abidjan-cote-ivoire',\n  'https://www.goafricaonline.com/ci/514150-alynimo-electricite-abidjan-cote-ivoire',\n  'https://www.goafricaonline.com/ci/826793-anare-ci-electricite-production-distribution-abidjan-cote-ivoire',\n  'https://www.goafricaonline.com/ci/585027-avenir-consulting-international-electricite-production-distribution-abidjan-cote-ivoire',\n  'https://www.goafricaonline.com/ci/654026-cadelec-electricite-production-distribution-abidjan-cote-ivoire',\n  'https://www.goafricaonline.com/ci/42767-ci-energies-electricite-production-distribution-abidjan-cote-ivoire',\n  'https://www.goafricaonline.com/ci/50300-cie-electricite-production-distribution-abidjan-cote-ivoire',\n  'https://www.goafricaonline.com/ci/593773-cie-electricite-production-distribution-bingerville-cote-ivoire',\n  'https://www.goafricaonline.com/ci/585568-cm-electricite-production-distribution-abidjan-cote-ivoire',\n  'https://www.goafricaonline.com/ci/682705-ehouman-services-abidjan-cote-d-ivoire',\n  'https://www.goafricaonline.com/ci/59269-eier-electricite-production-distribution-abidjan-cote-ivoire',\n  'https://www.goafricaonline.com/ci/576577-elecplus-electricite-production-distribution-abidjan-cote-ivoire',\n  'https://www.goafricaonline.com/ci/498477-emir-holding-electricite-production-distribution-abidjan-cote-ivoire',\n  'https://www.goafricaonline.com/ci/578086-eranove-electricite-abidjan-cote-ivoire',\n  'https://www.goafricaonline.com/ci/723981-esel-ci-electricite-production-distribution-abidjan-cote-ivoire',\n  'https://www.goafricaonline.com/ci/594442-esy-electricite-produit-distribution-abidjan-cote-ivoire',\n  'https://www.goafricaonline.com/ci/575448-esy-sarl-abidjan-cote-ivoire',\n  'https://www.goafricaonline.com/ci/594097-alex-fonk-electricite-production-distribution-abidjan-cote-ivoire',\n  'https://www.goafricaonline.com/ci/639604-gelec-ci-electricite-production-distribution-abidjan-cote-ivoire',\n  'https://www.goafricaonline.com/ci/682558-giter-energie-electricite-production-distribution-abidjan-cote-ivoire',\n  'https://www.goafricaonline.com/ci/656920-ism-abidjan-cote-d-ivoire',\n  'https://www.goafricaonline.com/ci/853169-isma-energies-electricite-production-distribution-abidjan-cote-ivoire',\n  'https://www.goafricaonline.com/ci/596521-iveb-electricite-production-distribution-abidjan-cote-ivoire',\n  'https://www.goafricaonline.com/ci/549386-ivoire-lab-electricite-production-distribution-abidjan-cote']}"
     },
     "execution_count": 370,
     "metadata": {},
     "output_type": "execute_result"
    }
   ],
   "source": [
    "company_data[0]"
   ],
   "metadata": {
    "collapsed": false,
    "ExecuteTime": {
     "end_time": "2024-02-23T15:20:11.849064Z",
     "start_time": "2024-02-23T15:20:11.843793Z"
    }
   },
   "id": "a9afa250b2222f9d",
   "execution_count": 370
  },
  {
   "cell_type": "code",
   "outputs": [
    {
     "data": {
      "text/plain": "          secteurs                           categories  \\\n0  SECTEUR-ENERGIE  ELECTRICITE-PRODUCTION-DISTRIBUTION   \n0  SECTEUR-ENERGIE  ELECTRICITE-PRODUCTION-DISTRIBUTION   \n0  SECTEUR-ENERGIE  ELECTRICITE-PRODUCTION-DISTRIBUTION   \n0  SECTEUR-ENERGIE  ELECTRICITE-PRODUCTION-DISTRIBUTION   \n0  SECTEUR-ENERGIE  ELECTRICITE-PRODUCTION-DISTRIBUTION   \n0  SECTEUR-ENERGIE  ELECTRICITE-PRODUCTION-DISTRIBUTION   \n0  SECTEUR-ENERGIE  ELECTRICITE-PRODUCTION-DISTRIBUTION   \n0  SECTEUR-ENERGIE  ELECTRICITE-PRODUCTION-DISTRIBUTION   \n0  SECTEUR-ENERGIE  ELECTRICITE-PRODUCTION-DISTRIBUTION   \n0  SECTEUR-ENERGIE  ELECTRICITE-PRODUCTION-DISTRIBUTION   \n\n                                               links  \n0  https://www.goafricaonline.com/ci/723970-holdi...  \n0  https://www.goafricaonline.com/ci/791362-avtom...  \n0  https://www.goafricaonline.com/ci/368101-abc-c...  \n0  https://www.goafricaonline.com/ci/781983-afric...  \n0  https://www.goafricaonline.com/ci/502851-afriq...  \n0  https://www.goafricaonline.com/ci/62354-aggrek...  \n0  https://www.goafricaonline.com/ci/169133-ai-en...  \n0  https://www.goafricaonline.com/ci/514150-alyni...  \n0  https://www.goafricaonline.com/ci/826793-anare...  \n0  https://www.goafricaonline.com/ci/585027-aveni...  ",
      "text/html": "<div>\n<style scoped>\n    .dataframe tbody tr th:only-of-type {\n        vertical-align: middle;\n    }\n\n    .dataframe tbody tr th {\n        vertical-align: top;\n    }\n\n    .dataframe thead th {\n        text-align: right;\n    }\n</style>\n<table border=\"1\" class=\"dataframe\">\n  <thead>\n    <tr style=\"text-align: right;\">\n      <th></th>\n      <th>secteurs</th>\n      <th>categories</th>\n      <th>links</th>\n    </tr>\n  </thead>\n  <tbody>\n    <tr>\n      <th>0</th>\n      <td>SECTEUR-ENERGIE</td>\n      <td>ELECTRICITE-PRODUCTION-DISTRIBUTION</td>\n      <td>https://www.goafricaonline.com/ci/723970-holdi...</td>\n    </tr>\n    <tr>\n      <th>0</th>\n      <td>SECTEUR-ENERGIE</td>\n      <td>ELECTRICITE-PRODUCTION-DISTRIBUTION</td>\n      <td>https://www.goafricaonline.com/ci/791362-avtom...</td>\n    </tr>\n    <tr>\n      <th>0</th>\n      <td>SECTEUR-ENERGIE</td>\n      <td>ELECTRICITE-PRODUCTION-DISTRIBUTION</td>\n      <td>https://www.goafricaonline.com/ci/368101-abc-c...</td>\n    </tr>\n    <tr>\n      <th>0</th>\n      <td>SECTEUR-ENERGIE</td>\n      <td>ELECTRICITE-PRODUCTION-DISTRIBUTION</td>\n      <td>https://www.goafricaonline.com/ci/781983-afric...</td>\n    </tr>\n    <tr>\n      <th>0</th>\n      <td>SECTEUR-ENERGIE</td>\n      <td>ELECTRICITE-PRODUCTION-DISTRIBUTION</td>\n      <td>https://www.goafricaonline.com/ci/502851-afriq...</td>\n    </tr>\n    <tr>\n      <th>0</th>\n      <td>SECTEUR-ENERGIE</td>\n      <td>ELECTRICITE-PRODUCTION-DISTRIBUTION</td>\n      <td>https://www.goafricaonline.com/ci/62354-aggrek...</td>\n    </tr>\n    <tr>\n      <th>0</th>\n      <td>SECTEUR-ENERGIE</td>\n      <td>ELECTRICITE-PRODUCTION-DISTRIBUTION</td>\n      <td>https://www.goafricaonline.com/ci/169133-ai-en...</td>\n    </tr>\n    <tr>\n      <th>0</th>\n      <td>SECTEUR-ENERGIE</td>\n      <td>ELECTRICITE-PRODUCTION-DISTRIBUTION</td>\n      <td>https://www.goafricaonline.com/ci/514150-alyni...</td>\n    </tr>\n    <tr>\n      <th>0</th>\n      <td>SECTEUR-ENERGIE</td>\n      <td>ELECTRICITE-PRODUCTION-DISTRIBUTION</td>\n      <td>https://www.goafricaonline.com/ci/826793-anare...</td>\n    </tr>\n    <tr>\n      <th>0</th>\n      <td>SECTEUR-ENERGIE</td>\n      <td>ELECTRICITE-PRODUCTION-DISTRIBUTION</td>\n      <td>https://www.goafricaonline.com/ci/585027-aveni...</td>\n    </tr>\n  </tbody>\n</table>\n</div>"
     },
     "execution_count": 371,
     "metadata": {},
     "output_type": "execute_result"
    }
   ],
   "source": [
    "df_company = annuaire_parser.list_of_dicts_to_dataframe(company_data)\n",
    "df_company.head(10)"
   ],
   "metadata": {
    "collapsed": false,
    "ExecuteTime": {
     "end_time": "2024-02-23T15:20:17.529965Z",
     "start_time": "2024-02-23T15:20:17.514549Z"
    }
   },
   "id": "200004cd1133a094",
   "execution_count": 371
  },
  {
   "cell_type": "code",
   "outputs": [],
   "source": [
    "annuaire_parser.save_dataframe_to_excel(df_company)"
   ],
   "metadata": {
    "collapsed": false,
    "ExecuteTime": {
     "end_time": "2024-02-23T15:20:25.450759Z",
     "start_time": "2024-02-23T15:20:25.317614Z"
    }
   },
   "id": "a873a65ab82c9e6b",
   "execution_count": 372
  },
  {
   "cell_type": "code",
   "outputs": [
    {
     "data": {
      "text/plain": "          secteurs                           categories  \\\n0  SECTEUR-ENERGIE  ELECTRICITE-PRODUCTION-DISTRIBUTION   \n\n                                               links  \n0  https://www.goafricaonline.com/ci/723970-holdi...  ",
      "text/html": "<div>\n<style scoped>\n    .dataframe tbody tr th:only-of-type {\n        vertical-align: middle;\n    }\n\n    .dataframe tbody tr th {\n        vertical-align: top;\n    }\n\n    .dataframe thead th {\n        text-align: right;\n    }\n</style>\n<table border=\"1\" class=\"dataframe\">\n  <thead>\n    <tr style=\"text-align: right;\">\n      <th></th>\n      <th>secteurs</th>\n      <th>categories</th>\n      <th>links</th>\n    </tr>\n  </thead>\n  <tbody>\n    <tr>\n      <th>0</th>\n      <td>SECTEUR-ENERGIE</td>\n      <td>ELECTRICITE-PRODUCTION-DISTRIBUTION</td>\n      <td>https://www.goafricaonline.com/ci/723970-holdi...</td>\n    </tr>\n  </tbody>\n</table>\n</div>"
     },
     "execution_count": 410,
     "metadata": {},
     "output_type": "execute_result"
    }
   ],
   "source": [
    "df_text = df_company[:1]\n",
    "df_text.head()"
   ],
   "metadata": {
    "collapsed": false,
    "ExecuteTime": {
     "end_time": "2024-02-23T17:04:05.388180Z",
     "start_time": "2024-02-23T17:04:05.380862Z"
    }
   },
   "id": "8293d26e430f670d",
   "execution_count": 410
  },
  {
   "cell_type": "code",
   "outputs": [
    {
     "data": {
      "text/plain": "[['SECTEUR-ENERGIE',\n  'ELECTRICITE-PRODUCTION-DISTRIBUTION',\n  'https://www.goafricaonline.com/ci/723970-holding-hilmann-enes-batiment-travaux-publics-abidjan-cote-ivoire'],\n ['SECTEUR-ENERGIE',\n  'ELECTRICITE-PRODUCTION-DISTRIBUTION',\n  'https://www.goafricaonline.com/ci/791362-avtomat-group'],\n ['SECTEUR-ENERGIE',\n  'ELECTRICITE-PRODUCTION-DISTRIBUTION',\n  'https://www.goafricaonline.com/ci/368101-abc-contracting-electricite-production-distribution-abidjan-cote-ivoire'],\n ['SECTEUR-ENERGIE',\n  'ELECTRICITE-PRODUCTION-DISTRIBUTION',\n  'https://www.goafricaonline.com/ci/781983-africa-cooling-service-electricite-production-distribution-abidjan-cote-ivoire'],\n ['SECTEUR-ENERGIE',\n  'ELECTRICITE-PRODUCTION-DISTRIBUTION',\n  'https://www.goafricaonline.com/ci/502851-afrique-forages-hydrauliques-electricite-production-distribution-abidjan-cote-ivoire'],\n ['SECTEUR-ENERGIE',\n  'ELECTRICITE-PRODUCTION-DISTRIBUTION',\n  'https://www.goafricaonline.com/ci/62354-aggreko-electricite-abidjan-cote-ivoire'],\n ['SECTEUR-ENERGIE',\n  'ELECTRICITE-PRODUCTION-DISTRIBUTION',\n  'https://www.goafricaonline.com/ci/169133-ai-entreprise-electricite-abidjan-cote-ivoire'],\n ['SECTEUR-ENERGIE',\n  'ELECTRICITE-PRODUCTION-DISTRIBUTION',\n  'https://www.goafricaonline.com/ci/514150-alynimo-electricite-abidjan-cote-ivoire'],\n ['SECTEUR-ENERGIE',\n  'ELECTRICITE-PRODUCTION-DISTRIBUTION',\n  'https://www.goafricaonline.com/ci/826793-anare-ci-electricite-production-distribution-abidjan-cote-ivoire'],\n ['SECTEUR-ENERGIE',\n  'ELECTRICITE-PRODUCTION-DISTRIBUTION',\n  'https://www.goafricaonline.com/ci/585027-avenir-consulting-international-electricite-production-distribution-abidjan-cote-ivoire'],\n ['SECTEUR-ENERGIE',\n  'ELECTRICITE-PRODUCTION-DISTRIBUTION',\n  'https://www.goafricaonline.com/ci/654026-cadelec-electricite-production-distribution-abidjan-cote-ivoire'],\n ['SECTEUR-ENERGIE',\n  'ELECTRICITE-PRODUCTION-DISTRIBUTION',\n  'https://www.goafricaonline.com/ci/42767-ci-energies-electricite-production-distribution-abidjan-cote-ivoire'],\n ['SECTEUR-ENERGIE',\n  'ELECTRICITE-PRODUCTION-DISTRIBUTION',\n  'https://www.goafricaonline.com/ci/50300-cie-electricite-production-distribution-abidjan-cote-ivoire'],\n ['SECTEUR-ENERGIE',\n  'ELECTRICITE-PRODUCTION-DISTRIBUTION',\n  'https://www.goafricaonline.com/ci/593773-cie-electricite-production-distribution-bingerville-cote-ivoire'],\n ['SECTEUR-ENERGIE',\n  'ELECTRICITE-PRODUCTION-DISTRIBUTION',\n  'https://www.goafricaonline.com/ci/585568-cm-electricite-production-distribution-abidjan-cote-ivoire'],\n ['SECTEUR-ENERGIE',\n  'ELECTRICITE-PRODUCTION-DISTRIBUTION',\n  'https://www.goafricaonline.com/ci/682705-ehouman-services-abidjan-cote-d-ivoire'],\n ['SECTEUR-ENERGIE',\n  'ELECTRICITE-PRODUCTION-DISTRIBUTION',\n  'https://www.goafricaonline.com/ci/59269-eier-electricite-production-distribution-abidjan-cote-ivoire'],\n ['SECTEUR-ENERGIE',\n  'ELECTRICITE-PRODUCTION-DISTRIBUTION',\n  'https://www.goafricaonline.com/ci/576577-elecplus-electricite-production-distribution-abidjan-cote-ivoire'],\n ['SECTEUR-ENERGIE',\n  'ELECTRICITE-PRODUCTION-DISTRIBUTION',\n  'https://www.goafricaonline.com/ci/498477-emir-holding-electricite-production-distribution-abidjan-cote-ivoire'],\n ['SECTEUR-ENERGIE',\n  'ELECTRICITE-PRODUCTION-DISTRIBUTION',\n  'https://www.goafricaonline.com/ci/578086-eranove-electricite-abidjan-cote-ivoire']]"
     },
     "execution_count": 381,
     "metadata": {},
     "output_type": "execute_result"
    }
   ],
   "source": [
    "data = df_text.values.tolist()\n",
    "data"
   ],
   "metadata": {
    "collapsed": false,
    "ExecuteTime": {
     "end_time": "2024-02-23T15:52:08.627793Z",
     "start_time": "2024-02-23T15:52:08.621967Z"
    }
   },
   "id": "bb8d712cda3f89f0",
   "execution_count": 381
  },
  {
   "cell_type": "markdown",
   "source": [],
   "metadata": {
    "collapsed": false
   },
   "id": "d979b54e0dfd077"
  },
  {
   "cell_type": "code",
   "outputs": [],
   "source": [],
   "metadata": {
    "collapsed": false,
    "ExecuteTime": {
     "end_time": "2024-03-04T15:36:58.244802Z",
     "start_time": "2024-03-04T15:36:58.240898Z"
    }
   },
   "id": "e3a66feae0bd09ca",
   "execution_count": 13
  },
  {
   "cell_type": "code",
   "outputs": [],
   "source": [],
   "metadata": {
    "collapsed": false,
    "ExecuteTime": {
     "end_time": "2024-03-04T15:37:01.818531Z",
     "start_time": "2024-03-04T15:37:00.978069Z"
    }
   },
   "id": "8a346e26317703fa",
   "execution_count": 14
  },
  {
   "cell_type": "code",
   "outputs": [],
   "source": [],
   "metadata": {
    "collapsed": false,
    "ExecuteTime": {
     "end_time": "2024-03-04T15:39:39.435495Z",
     "start_time": "2024-03-04T15:39:39.430790Z"
    }
   },
   "id": "f5b8db58b9b5e46e",
   "execution_count": 18
  },
  {
   "cell_type": "code",
   "outputs": [],
   "source": [],
   "metadata": {
    "collapsed": false,
    "ExecuteTime": {
     "end_time": "2024-03-04T15:38:05.569234Z",
     "start_time": "2024-03-04T15:38:05.561426Z"
    }
   },
   "id": "c995db43a211be7d",
   "execution_count": 16
  },
  {
   "cell_type": "markdown",
   "source": [
    "## Get Data Inforamtion"
   ],
   "metadata": {
    "collapsed": false
   },
   "id": "30c3b543773faf49"
  },
  {
   "cell_type": "code",
   "outputs": [
    {
     "data": {
      "text/plain": "[{'company_secteur': 'SECTEUR-ENERGIE',\n  'company_categotie': 'ELECTRICITE-PRODUCTION-DISTRIBUTION',\n  'company_adress': 'Quartier GFCI , rue Dimbokro, Non loin de ADVANS\\nMarcory - 01 BP 12594 Abidjan 01\\nAbidjan - Côte d’Ivoire',\n  'company_social_media_links': None,\n  'company_url_logo': 'https://www.goafricaonline.com/media/cache/resolve/w200/uploads/media/company_square/0003/39/64020e7f47dac-logo-holding-hilmann-abidjan-cote-ivoire.jpg',\n  'company_url': 'https://www.goafricaonline.com/ci/723970-holding-hilmann-enes-batiment-travaux-publics-abidjan-cote-ivoire'}]"
     },
     "execution_count": 422,
     "metadata": {},
     "output_type": "execute_result"
    }
   ],
   "source": [
    "raison_social"
   ],
   "metadata": {
    "collapsed": false,
    "ExecuteTime": {
     "end_time": "2024-02-23T17:10:49.357628Z",
     "start_time": "2024-02-23T17:10:49.350510Z"
    }
   },
   "id": "35dfccf87540036",
   "execution_count": 422
  },
  {
   "cell_type": "code",
   "outputs": [
    {
     "data": {
      "text/plain": "'Agences de communication'"
     },
     "execution_count": 22,
     "metadata": {},
     "output_type": "execute_result"
    }
   ],
   "source": [
    "category = try_parsers_find(html_company_page, 'a', 'text-16 ls:text-20 text-link w-full')\n",
    "category"
   ],
   "metadata": {
    "collapsed": false,
    "ExecuteTime": {
     "end_time": "2024-01-31T08:13:07.610802Z",
     "start_time": "2024-01-31T08:13:07.512368Z"
    }
   },
   "id": "38a02bafdf312a4e",
   "execution_count": 22
  },
  {
   "cell_type": "code",
   "outputs": [
    {
     "data": {
      "text/plain": "'https://www.goafricaonline.com/media/cache/resolve/w200/uploads/media/company_square/0002/76/623a0f1919047-LOGO ASENSIA.jpg'"
     },
     "execution_count": 23,
     "metadata": {},
     "output_type": "execute_result"
    }
   ],
   "source": [
    "company_logo = try_parsers_find_image(html_company_page, 'img', 'ml-10 w-[118px] h-[118px] object-cover rounded shadow border-solid border-4 border-white cursor-pointer')\n",
    "company_logo"
   ],
   "metadata": {
    "collapsed": false,
    "ExecuteTime": {
     "end_time": "2024-01-31T08:13:07.782942Z",
     "start_time": "2024-01-31T08:13:07.656032Z"
    }
   },
   "id": "436ca76fd4299848",
   "execution_count": 23
  },
  {
   "cell_type": "code",
   "outputs": [
    {
     "data": {
      "text/plain": "'Rue Louis Lumière, Zone 4\\nMarcory\\nAbidjan - Côte d’Ivoire'"
     },
     "execution_count": 24,
     "metadata": {},
     "output_type": "execute_result"
    }
   ],
   "source": [
    "address = try_parsers_find_address(html_company_page, 'address', 'text-14')\n",
    "address"
   ],
   "metadata": {
    "collapsed": false
   },
   "id": "ef1cf33cc1af028c",
   "execution_count": 24
  },
  {
   "cell_type": "code",
   "outputs": [],
   "source": [
    "contacts = try_parsers_find_contact(html_company_page, 'a', 'text-13 text-gray-700 underline hover:no-underline')\n",
    "contacts"
   ],
   "metadata": {
    "collapsed": false
   },
   "id": "2cd9bd2230273d5c",
   "execution_count": 25
  },
  {
   "cell_type": "code",
   "outputs": [],
   "source": [
    "website = try_parsers_find_website(html_company_page, 'a', 'font-bold text-link block')\n",
    "website"
   ],
   "metadata": {
    "collapsed": false
   },
   "id": "b772441c42e48113",
   "execution_count": 26
  },
  {
   "cell_type": "code",
   "outputs": [
    {
     "data": {
      "text/plain": "{'facebook': 'https://www.facebook.com/Asensia',\n 'instagram': 'https://www.instagram.com/asensia_africa/',\n 'linkedin': 'https://www.linkedin.com/company/asensia-africa/',\n 'whatsapp': 'https://api.whatsapp.com/send?phone=2250701508398&text=Bonjour%2C%20je%20vous%20contacte%20de%20la%20part%20de%20%2AGo%20Africa%20Online%2A%2C%0A'}"
     },
     "execution_count": 40,
     "metadata": {},
     "output_type": "execute_result"
    }
   ],
   "source": [
    "social_links = try_parsers_find_facebook_links(html_company_page)\n",
    "social_links"
   ],
   "metadata": {
    "collapsed": false,
    "ExecuteTime": {
     "end_time": "2024-01-31T08:36:16.991586Z",
     "start_time": "2024-01-31T08:36:16.503108Z"
    }
   },
   "id": "4deb3441f2949375",
   "execution_count": 40
  },
  {
   "cell_type": "code",
   "outputs": [
    {
     "name": "stdout",
     "output_type": "stream",
     "text": [
      "AGENCE ENDÉVELOPPEMENT DE MARQUESASENSIA AFRICA GROUP, agence conseil en stratégie de développement de Marques, s'érige en moteur d'ascension pour les entreprises responsables en Afrique. Notre expertise unique en Relations Publics 2.0 Digital réinvente & construit des réputations solides et des images influentes, d’abord en interne puis vers l’externe.En développant le sens et la raison d'être des organisations, elle revitalise l’ADN et la culture d'entreprise, stimulant ainsi la raison d’être et l’intelligence collective du capital humain, renforcé par des ateliers de développement de potentiel et de parcours SENS+ agréés par le FDFP (Fonds de Développement de la Formation Professionnelle). Avec des contenus spécifiques et des événements BtoB sur mesure, ASENSIA garantit une visibilité exceptionnelle grâce aux médias & à la force de ses réseaux.Guidée par ses valeurs de confiance, d'empathie et d'authenticité, ASENSIA se positionne comme l'allié indispensable des équipes dirigeantes pour une ascension durable et notable au cœur de l'économie de l'Afrique de l'Ouest.\n"
     ]
    }
   ],
   "source": [
    "description = try_parsers_find_description(html_company_page, 'div', 'description')\n",
    "\n",
    "if description:\n",
    "    print(description)\n",
    "else:\n",
    "    print(\"Aucun élément trouvé avec les parsers spécifiés.\")"
   ],
   "metadata": {
    "collapsed": false,
    "ExecuteTime": {
     "end_time": "2024-01-31T09:00:24.139555Z",
     "start_time": "2024-01-31T09:00:24.082815Z"
    }
   },
   "id": "eaa412b9d9029927",
   "execution_count": 56
  },
  {
   "cell_type": "code",
   "outputs": [],
   "source": [
    "html_test = '''\n",
    "<div id=\"description\">\n",
    "    <div class=\"p-10 border-b border-gray-300 last:border-none overflow-x-auto\">\n",
    "        <div class=\"colored-titles bbcode-type bbcode-type-company_presentation text-14 ls:text-16 leading-relaxed\">\n",
    "            <br>\n",
    "            IBAC Aide les entreprises et les particuliers à se développer pour profiter des avantages du web marketing. Nous vous accompagnons dans l’amélioration de vos compétences en marketing digital (social media marketing, formation…).<br>\n",
    "            Notre objectif est d’aider les entreprises à développer leur activité grâce à Internet. Nous proposons des services de création de site internet, de gestion de compte sur les réseaux sociaux, d’infographie, de publicité internet, de stratégie et de développement digital. Nos services visent à augmenter votre visibilité, améliorer votre notoriété et augmenter votre chiffre d’affaires.\n",
    "        </div>\n",
    "    </div>\n",
    "</div>\n",
    "'''\n"
   ],
   "metadata": {
    "collapsed": false,
    "ExecuteTime": {
     "end_time": "2024-01-31T08:59:59.641768Z",
     "start_time": "2024-01-31T08:59:59.615050Z"
    }
   },
   "id": "82577716bd5a8257",
   "execution_count": 54
  },
  {
   "cell_type": "code",
   "outputs": [
    {
     "name": "stdout",
     "output_type": "stream",
     "text": [
      "IBAC Aide les entreprises et les particuliers à se développer pour profiter des avantages du web marketing. Nous vous accompagnons dans l’amélioration de vos compétences en marketing digital (social media marketing, formation…).Notre objectif est d’aider les entreprises à développer leur activité grâce à Internet. Nous proposons des services de création de site internet, de gestion de compte sur les réseaux sociaux, d’infographie, de publicité internet, de stratégie et de développement digital. Nos services visent à augmenter votre visibilité, améliorer votre notoriété et augmenter votre chiffre d’affaires.\n"
     ]
    }
   ],
   "source": [
    "description = try_parsers_find_description(html_test, 'div', 'description')\n",
    "\n",
    "if description:\n",
    "    print(description)\n",
    "else:\n",
    "    print(\"Aucun élément trouvé avec les parsers spécifiés.\")"
   ],
   "metadata": {
    "collapsed": false,
    "ExecuteTime": {
     "end_time": "2024-01-31T09:00:01.579318Z",
     "start_time": "2024-01-31T09:00:01.568038Z"
    }
   },
   "id": "64a8d775204b43f3",
   "execution_count": 55
  },
  {
   "cell_type": "code",
   "outputs": [
    {
     "data": {
      "text/plain": "{'Mardi': '08H00 — 17H30',\n 'Mercredi': '08H00 — 17H30',\n 'Jeudi': '08H00 — 17H30',\n 'Vendredi': '08H00 — 17H30',\n 'Samedi': 'Fermé',\n 'Dimanche': 'Fermé'}"
     },
     "execution_count": 68,
     "metadata": {},
     "output_type": "execute_result"
    }
   ],
   "source": [
    "opening_hours = extract_opening_hours(html_company_page)\n",
    "opening_hours"
   ],
   "metadata": {
    "collapsed": false,
    "ExecuteTime": {
     "end_time": "2024-01-31T09:11:31.872895Z",
     "start_time": "2024-01-31T09:11:31.801851Z"
    }
   },
   "id": "45a5ed98ff25651c",
   "execution_count": 68
  },
  {
   "cell_type": "code",
   "outputs": [
    {
     "data": {
      "text/plain": "{'indicatif': '+225', 'numero': '0701508398', 'contact': '+225 0701508398'}"
     },
     "execution_count": 102,
     "metadata": {},
     "output_type": "execute_result"
    }
   ],
   "source": [
    "cleaned_contact = extract_contact_details(html_company_page, 'div', 'flex mb-4')\n",
    "cleaned_contact"
   ],
   "metadata": {
    "collapsed": false,
    "ExecuteTime": {
     "end_time": "2024-01-31T09:45:57.550470Z",
     "start_time": "2024-01-31T09:45:57.483252Z"
    }
   },
   "id": "1520333f8d5a31a0",
   "execution_count": 102
  },
  {
   "cell_type": "code",
   "outputs": [
    {
     "data": {
      "text/plain": "['Cultures d’entreprise',\n 'Les événements SENS+',\n 'Innovation managériale',\n 'Image de marque externe & interne']"
     },
     "execution_count": 109,
     "metadata": {},
     "output_type": "execute_result"
    }
   ],
   "source": [
    "services_list = extract_services(html_company_page)\n",
    "services_list"
   ],
   "metadata": {
    "collapsed": false,
    "ExecuteTime": {
     "end_time": "2024-01-31T10:23:57.082517Z",
     "start_time": "2024-01-31T10:23:56.904581Z"
    }
   },
   "id": "844ec741af073f31",
   "execution_count": 109
  },
  {
   "cell_type": "markdown",
   "source": [
    "## Use Excel File"
   ],
   "metadata": {
    "collapsed": false
   },
   "id": "5330ac2926c79570"
  },
  {
   "cell_type": "code",
   "outputs": [],
   "source": [
    "path_file = \"Resultats/ADMINISTRATIONS_20240223150907.xlsx\""
   ],
   "metadata": {
    "collapsed": false,
    "ExecuteTime": {
     "end_time": "2024-03-12T08:28:26.527146Z",
     "start_time": "2024-03-12T08:28:26.523728Z"
    }
   },
   "id": "b05be2ed770998c1",
   "execution_count": 18
  },
  {
   "cell_type": "code",
   "outputs": [
    {
     "data": {
      "text/plain": "          secteurs  categories  \\\n0  ADMINISTRATIONS  MINISTERES   \n1  ADMINISTRATIONS  MINISTERES   \n2  ADMINISTRATIONS  MINISTERES   \n3  ADMINISTRATIONS  MINISTERES   \n4  ADMINISTRATIONS  MINISTERES   \n\n                                               links  \n0  https://www.goafricaonline.com/ci/821118-termi...  \n1  https://www.goafricaonline.com/ci/821123-cgi-g...  \n2  https://www.goafricaonline.com/ci/821121-cgi-t...  \n3  https://www.goafricaonline.com/ci/821120-direc...  \n4  https://www.goafricaonline.com/ci/821122-guich...  ",
      "text/html": "<div>\n<style scoped>\n    .dataframe tbody tr th:only-of-type {\n        vertical-align: middle;\n    }\n\n    .dataframe tbody tr th {\n        vertical-align: top;\n    }\n\n    .dataframe thead th {\n        text-align: right;\n    }\n</style>\n<table border=\"1\" class=\"dataframe\">\n  <thead>\n    <tr style=\"text-align: right;\">\n      <th></th>\n      <th>secteurs</th>\n      <th>categories</th>\n      <th>links</th>\n    </tr>\n  </thead>\n  <tbody>\n    <tr>\n      <th>0</th>\n      <td>ADMINISTRATIONS</td>\n      <td>MINISTERES</td>\n      <td>https://www.goafricaonline.com/ci/821118-termi...</td>\n    </tr>\n    <tr>\n      <th>1</th>\n      <td>ADMINISTRATIONS</td>\n      <td>MINISTERES</td>\n      <td>https://www.goafricaonline.com/ci/821123-cgi-g...</td>\n    </tr>\n    <tr>\n      <th>2</th>\n      <td>ADMINISTRATIONS</td>\n      <td>MINISTERES</td>\n      <td>https://www.goafricaonline.com/ci/821121-cgi-t...</td>\n    </tr>\n    <tr>\n      <th>3</th>\n      <td>ADMINISTRATIONS</td>\n      <td>MINISTERES</td>\n      <td>https://www.goafricaonline.com/ci/821120-direc...</td>\n    </tr>\n    <tr>\n      <th>4</th>\n      <td>ADMINISTRATIONS</td>\n      <td>MINISTERES</td>\n      <td>https://www.goafricaonline.com/ci/821122-guich...</td>\n    </tr>\n  </tbody>\n</table>\n</div>"
     },
     "execution_count": 19,
     "metadata": {},
     "output_type": "execute_result"
    }
   ],
   "source": [
    "df_raw = pd.read_excel(path_file)\n",
    "df_raw.head()"
   ],
   "metadata": {
    "collapsed": false,
    "ExecuteTime": {
     "end_time": "2024-03-12T08:28:28.838673Z",
     "start_time": "2024-03-12T08:28:28.654859Z"
    }
   },
   "id": "4dff3375ea73da3e",
   "execution_count": 19
  },
  {
   "cell_type": "code",
   "outputs": [],
   "source": [
    "df = df_raw.copy()"
   ],
   "metadata": {
    "collapsed": false,
    "ExecuteTime": {
     "end_time": "2024-03-12T08:28:33.404749Z",
     "start_time": "2024-03-12T08:28:33.399752Z"
    }
   },
   "id": "f921b3d3d452e611",
   "execution_count": 20
  },
  {
   "cell_type": "code",
   "outputs": [
    {
     "data": {
      "text/plain": "(1747, 3)"
     },
     "execution_count": 21,
     "metadata": {},
     "output_type": "execute_result"
    }
   ],
   "source": [
    "df.shape"
   ],
   "metadata": {
    "collapsed": false,
    "ExecuteTime": {
     "end_time": "2024-03-12T08:39:00.333738Z",
     "start_time": "2024-03-12T08:39:00.328242Z"
    }
   },
   "id": "d0a6f2140fe3f454",
   "execution_count": 21
  },
  {
   "cell_type": "code",
   "outputs": [],
   "source": [
    "companies = []\n",
    "links_visited = []\n",
    "companies, links_visited = annuaire_parser.extract_company_info(df[:5])"
   ],
   "metadata": {
    "collapsed": false,
    "ExecuteTime": {
     "end_time": "2024-03-12T08:39:28.545580Z",
     "start_time": "2024-03-12T08:39:25.117007Z"
    }
   },
   "id": "d865e4de1047cf07",
   "execution_count": 22
  },
  {
   "cell_type": "code",
   "outputs": [
    {
     "data": {
      "text/plain": "[{'company_secteur': 'ADMINISTRATIONS',\n  'company_categotie': 'MINISTERES',\n  'company_adress': '8X7H+R78 - Plateau\\nAbidjan\\nAbidjan - Côte d’Ivoire',\n  'company_name': \"Terminal Fruitier d'Abidjan\",\n  'company_email': '',\n  'company_description': None,\n  'company_houre': {'Mardi': '00H00 — 00H00',\n   'Mercredi': '00H00 — 00H00',\n   'Jeudi': '00H00 — 00H00',\n   'Vendredi': '00H00 — 00H00',\n   'Samedi': '00H00 — 00H00',\n   'Dimanche': '00H00 — 00H00'},\n  'company_social_media_links': None,\n  'company_website': None,\n  'company_url_logo': None,\n  'company_url': 'https://www.goafricaonline.com/ci/821118-terminal-fruitier-d-abidjan',\n  'services': None},\n {'company_secteur': 'ADMINISTRATIONS',\n  'company_categotie': 'MINISTERES',\n  'company_adress': 'GGM8+WR5 Quartier Residence\\nGuiglo - Côte d’Ivoire',\n  'company_name': 'CGI GUIGLO',\n  'company_email': '',\n  'company_description': None,\n  'company_houre': None,\n  'company_social_media_links': None,\n  'company_website': None,\n  'company_url_logo': None,\n  'company_url': 'https://www.goafricaonline.com/ci/821123-cgi-guiglo',\n  'services': None},\n {'company_secteur': 'ADMINISTRATIONS',\n  'company_categotie': 'MINISTERES',\n  'company_adress': '8X4M+296 - Treichville\\nAbidjan\\nAbidjan - Côte d’Ivoire',\n  'company_name': 'CGI Treichville',\n  'company_email': '',\n  'company_description': None,\n  'company_houre': {'Mardi': '07H45 — 16H45',\n   'Mercredi': '07H45 — 16H45',\n   'Jeudi': '07H45 — 16H45',\n   'Vendredi': '07H45 — 16H45',\n   'Samedi': 'Fermé',\n   'Dimanche': 'Fermé'},\n  'company_social_media_links': None,\n  'company_website': None,\n  'company_url_logo': None,\n  'company_url': 'https://www.goafricaonline.com/ci/821121-cgi-treichville',\n  'services': None},\n {'company_secteur': 'ADMINISTRATIONS',\n  'company_categotie': 'MINISTERES',\n  'company_adress': '2 Plateaux - Cocody\\nAbidjan - Côte d’Ivoire',\n  'company_name': 'Direction Générale des Affaires Maritimes et Portuaires',\n  'company_email': '',\n  'company_description': None,\n  'company_houre': None,\n  'company_social_media_links': None,\n  'company_website': None,\n  'company_url_logo': None,\n  'company_url': 'https://www.goafricaonline.com/ci/821120-direction-generale-des-affaires-maritimes-et-portuaires',\n  'services': None},\n {'company_secteur': 'ADMINISTRATIONS',\n  'company_categotie': 'MINISTERES',\n  'company_adress': 'MXCC+PP2, A3\\nVallée du Bandama\\nBouake - Côte d’Ivoire',\n  'company_name': 'Guichet Unique Automobile de BOUAKE',\n  'company_email': '',\n  'company_description': None,\n  'company_houre': None,\n  'company_social_media_links': None,\n  'company_website': None,\n  'company_url_logo': None,\n  'company_url': 'https://www.goafricaonline.com/ci/821122-guichet-unique-automobile-de-bouake',\n  'services': None}]"
     },
     "execution_count": 23,
     "metadata": {},
     "output_type": "execute_result"
    }
   ],
   "source": [
    "companies"
   ],
   "metadata": {
    "collapsed": false,
    "ExecuteTime": {
     "end_time": "2024-03-12T08:39:31.611407Z",
     "start_time": "2024-03-12T08:39:31.603486Z"
    }
   },
   "id": "13594c3ab7ba5153",
   "execution_count": 23
  },
  {
   "cell_type": "code",
   "outputs": [
    {
     "data": {
      "text/plain": "['https://www.goafricaonline.com/ci/821118-terminal-fruitier-d-abidjan',\n 'https://www.goafricaonline.com/ci/821123-cgi-guiglo',\n 'https://www.goafricaonline.com/ci/821121-cgi-treichville',\n 'https://www.goafricaonline.com/ci/821120-direction-generale-des-affaires-maritimes-et-portuaires',\n 'https://www.goafricaonline.com/ci/821122-guichet-unique-automobile-de-bouake']"
     },
     "execution_count": 24,
     "metadata": {},
     "output_type": "execute_result"
    }
   ],
   "source": [
    "links_visited"
   ],
   "metadata": {
    "collapsed": false,
    "ExecuteTime": {
     "end_time": "2024-03-12T08:39:36.759885Z",
     "start_time": "2024-03-12T08:39:36.753950Z"
    }
   },
   "id": "b5ad0e98699ea76b",
   "execution_count": 24
  },
  {
   "cell_type": "markdown",
   "source": [
    "## Use All File"
   ],
   "metadata": {
    "collapsed": false
   },
   "id": "df607254d77b24c4"
  },
  {
   "cell_type": "code",
   "outputs": [],
   "source": [
    "folder_path = 'Resultats'\n",
    "df_raw = annuaire_parser.concat_excel_files(folder_path)"
   ],
   "metadata": {
    "collapsed": false,
    "ExecuteTime": {
     "end_time": "2024-03-12T10:45:44.084908Z",
     "start_time": "2024-03-12T10:45:31.057381Z"
    }
   },
   "id": "2d8cefd644407e20",
   "execution_count": 91
  },
  {
   "cell_type": "code",
   "outputs": [
    {
     "data": {
      "text/plain": "     secteurs                 categories  \\\n0  TRANSPORTS  TRANSPORTS-INTERNATIONAUX   \n1  TRANSPORTS  TRANSPORTS-INTERNATIONAUX   \n2  TRANSPORTS  TRANSPORTS-INTERNATIONAUX   \n3  TRANSPORTS  TRANSPORTS-INTERNATIONAUX   \n4  TRANSPORTS  TRANSPORTS-INTERNATIONAUX   \n\n                                               links  \n0  https://www.goafricaonline.com/ci/828280-gcl-t...  \n1  https://www.goafricaonline.com/ci/74438-gls-tr...  \n2  https://www.goafricaonline.com/ci/542548-group...  \n3  https://www.goafricaonline.com/ci/133784-k-log...  \n4  https://www.goafricaonline.com/ci/504986-maind...  ",
      "text/html": "<div>\n<style scoped>\n    .dataframe tbody tr th:only-of-type {\n        vertical-align: middle;\n    }\n\n    .dataframe tbody tr th {\n        vertical-align: top;\n    }\n\n    .dataframe thead th {\n        text-align: right;\n    }\n</style>\n<table border=\"1\" class=\"dataframe\">\n  <thead>\n    <tr style=\"text-align: right;\">\n      <th></th>\n      <th>secteurs</th>\n      <th>categories</th>\n      <th>links</th>\n    </tr>\n  </thead>\n  <tbody>\n    <tr>\n      <th>0</th>\n      <td>TRANSPORTS</td>\n      <td>TRANSPORTS-INTERNATIONAUX</td>\n      <td>https://www.goafricaonline.com/ci/828280-gcl-t...</td>\n    </tr>\n    <tr>\n      <th>1</th>\n      <td>TRANSPORTS</td>\n      <td>TRANSPORTS-INTERNATIONAUX</td>\n      <td>https://www.goafricaonline.com/ci/74438-gls-tr...</td>\n    </tr>\n    <tr>\n      <th>2</th>\n      <td>TRANSPORTS</td>\n      <td>TRANSPORTS-INTERNATIONAUX</td>\n      <td>https://www.goafricaonline.com/ci/542548-group...</td>\n    </tr>\n    <tr>\n      <th>3</th>\n      <td>TRANSPORTS</td>\n      <td>TRANSPORTS-INTERNATIONAUX</td>\n      <td>https://www.goafricaonline.com/ci/133784-k-log...</td>\n    </tr>\n    <tr>\n      <th>4</th>\n      <td>TRANSPORTS</td>\n      <td>TRANSPORTS-INTERNATIONAUX</td>\n      <td>https://www.goafricaonline.com/ci/504986-maind...</td>\n    </tr>\n  </tbody>\n</table>\n</div>"
     },
     "execution_count": 92,
     "metadata": {},
     "output_type": "execute_result"
    }
   ],
   "source": [
    "df_raw.head()"
   ],
   "metadata": {
    "collapsed": false,
    "ExecuteTime": {
     "end_time": "2024-03-12T10:45:47.066143Z",
     "start_time": "2024-03-12T10:45:47.050818Z"
    }
   },
   "id": "5c3df203df74237e",
   "execution_count": 92
  },
  {
   "cell_type": "code",
   "outputs": [
    {
     "data": {
      "text/plain": "(86514, 3)"
     },
     "execution_count": 93,
     "metadata": {},
     "output_type": "execute_result"
    }
   ],
   "source": [
    "df_raw.shape"
   ],
   "metadata": {
    "collapsed": false,
    "ExecuteTime": {
     "end_time": "2024-03-12T10:45:50.886607Z",
     "start_time": "2024-03-12T10:45:50.881327Z"
    }
   },
   "id": "3b848b089beee290",
   "execution_count": 93
  },
  {
   "cell_type": "code",
   "outputs": [],
   "source": [
    "df_raw.to_excel('ALL_COMPAGNIES_URL.xlsx', index=False, engine='openpyxl')"
   ],
   "metadata": {
    "collapsed": false,
    "ExecuteTime": {
     "end_time": "2024-03-12T11:24:16.760439Z",
     "start_time": "2024-03-12T11:24:06.294449Z"
    }
   },
   "id": "5ce5c7083fcf4b67",
   "execution_count": 123
  },
  {
   "cell_type": "code",
   "outputs": [],
   "source": [
    "df = df_raw.copy()"
   ],
   "metadata": {
    "collapsed": false,
    "ExecuteTime": {
     "end_time": "2024-03-12T10:46:13.652151Z",
     "start_time": "2024-03-12T10:46:13.644749Z"
    }
   },
   "id": "ed0adda6ab5f4479",
   "execution_count": 94
  },
  {
   "cell_type": "code",
   "outputs": [],
   "source": [
    "path_file_com = 'Resultats/COMMUNICATION-PUBLICITE_20240223134713.xlsx'"
   ],
   "metadata": {
    "collapsed": false,
    "ExecuteTime": {
     "end_time": "2024-03-13T09:05:01.312057Z",
     "start_time": "2024-03-13T09:05:01.308458Z"
    }
   },
   "id": "1cd76a98bec0fa8d",
   "execution_count": 7
  },
  {
   "cell_type": "code",
   "outputs": [],
   "source": [
    "df_raw_com = pd.read_excel(path_file_com)"
   ],
   "metadata": {
    "collapsed": false,
    "ExecuteTime": {
     "end_time": "2024-03-13T09:05:05.516032Z",
     "start_time": "2024-03-13T09:05:03.779141Z"
    }
   },
   "id": "740466b3003451e",
   "execution_count": 8
  },
  {
   "cell_type": "code",
   "outputs": [
    {
     "data": {
      "text/plain": "(5554, 3)"
     },
     "execution_count": 9,
     "metadata": {},
     "output_type": "execute_result"
    }
   ],
   "source": [
    "df_raw_com.shape"
   ],
   "metadata": {
    "collapsed": false,
    "ExecuteTime": {
     "end_time": "2024-03-13T09:05:08.813648Z",
     "start_time": "2024-03-13T09:05:08.799981Z"
    }
   },
   "id": "49057a0cae6377b8",
   "execution_count": 9
  },
  {
   "cell_type": "code",
   "outputs": [],
   "source": [
    "df = df_raw_com.copy()"
   ],
   "metadata": {
    "collapsed": false,
    "ExecuteTime": {
     "end_time": "2024-03-13T09:05:11.261454Z",
     "start_time": "2024-03-13T09:05:11.257618Z"
    }
   },
   "id": "fa34f8850d75dcc6",
   "execution_count": 10
  },
  {
   "cell_type": "code",
   "outputs": [],
   "source": [
    "companies, links_visited = annuaire_parser.extract_company_info(df.iloc[2005:2055])"
   ],
   "metadata": {
    "collapsed": false,
    "ExecuteTime": {
     "end_time": "2024-03-13T11:14:22.354924Z",
     "start_time": "2024-03-13T11:13:54.749846Z"
    }
   },
   "id": "79584d88eb702a41",
   "execution_count": 99
  },
  {
   "cell_type": "code",
   "outputs": [
    {
     "data": {
      "text/plain": "[{'identifier': 'CI30135218',\n  'company_secteur': 'COMMUNICATION-PUBLICITE',\n  'company_categotie': 'IMPRIMERIES',\n  'company_adress': 'En face de l’agence MTN et la SGBCI - Riviéra Jardins Cocody - 26 BP 451 Abidjan 26 Abidjan - Côte d’Ivoire',\n  'company_name': 'ALY CARTOUCHE INFORMATIQUE',\n  'company_email': '',\n  'company_description': 'ALY CARTOUCHE INFORMATIQUE est à votre disposition pour tous travaux dans le domaine de l’imprimerie. Nous sommes spécialisés dans les domaines suivants :Plaques jusqu’à 300gr, Posters, Cartes postales, Chemises jusqu’à 300gr, Cartes de visite, Cartes commerciales, Cartes de correspondance, Brochures dépliantes, Calques, Etiquettes adhésives et transparentes, Brochures, Calendriers, Couvertures de livre, Packagings, Routages mailing, Finition, Faire-parts, Affiches grand Format, Tampons et Plaques gravées, l’Impression et la Photocopie.',\n  'company_website': None,\n  'company_url_logo': 'https://www.goafricaonline.com/media/cache/resolve/w200/uploads/media/company_square/0001/21/5a15941969b92-logo-aly-cartouche-cote-ivoire.jpg',\n  'company_url': 'https://www.goafricaonline.com/ci/74391-aly-cartouche-informatique-imprimeries-abidjan-cote-ivoire',\n  'services': [],\n  'facebook': '',\n  'instagram': '',\n  'linkedin': '',\n  'whatsapp': ''},\n {'identifier': 'CI63564825',\n  'company_secteur': 'COMMUNICATION-PUBLICITE',\n  'company_categotie': 'IMPRIMERIES',\n  'company_adress': 'Face Lycée français Blaise Pascal, Coprim - Riviera 3 Cocody - 04 BP 81 Abidjan 04 Abidjan - Côte d’Ivoire',\n  'company_name': \"L'ATELIER\",\n  'company_email': '',\n  'company_description': 'L’Atelier est une imprimerie de 300 m² à la riviera 3, derrière le lycée français avec une base technique de 2500 m² dans la zone industrielle de Yopougon.Société sœur de l’Agence de Marketing Opérationnel « La Boite à Idées » et de la Régie publicitaire « Syntheti’k », l’Atelier avait pour mission initiale la gestion des besoins techniques de ces deux structures.Depuis janvier 2011, l’Atelier a ouvert ses portes aux entreprises afin de leur apporter son savoir-faire dans les domaines de : l’impression numérique, la décoration publicitaire, la fabrication de supports publicitaires, tous travaux de polyester, l’infographie, la construction métallique, la tôlerie, la peinture, la décoration de véhicules…',\n  'company_website': None,\n  'company_url_logo': 'https://www.goafricaonline.com/media/cache/resolve/w200/uploads/media/company_square/0001/05/592d64c4e43af-logo-atelier-cote-ivoire.jpg',\n  'company_url': 'https://www.goafricaonline.com/ci/93607-atelier-imprimeries-abidjan-cote-ivoire',\n  'services': ['Décorations publicitaires indoor et outdoor',\n   'Branding de véhicules  toutes catégories',\n   'Publicité sur Lieu de Vente (PLV)',\n   'Enseignes lumineuses',\n   'Tous travaux de polyester',\n   'Construction Métallique',\n   'Impressions Numériques'],\n  'facebook': 'https://www.facebook.com/laboiteaid/',\n  'instagram': '',\n  'linkedin': '',\n  'whatsapp': '',\n  'Lundi': '08H00 — 17H30',\n  'Mardi': '08H00 — 17H30',\n  'Mercredi': '08H00 — 17H30',\n  'Jeudi': '08H00 — 17H30',\n  'Vendredi': '08H00 — 17H30',\n  'Samedi': 'Fermé',\n  'Dimanche': 'Fermé',\n  'image1': 'https://www.goafricaonline.com/media/cache/resolve/w800/uploads/media/company_media/0002/48/611e3f7e77f36-visuelok-atelier-cote-ivoire.png',\n  'image2': 'https://www.goafricaonline.com/media/cache/resolve/w800/uploads/media/company_media/0002/48/610bd89559e6a-branding0-vehicules-atelier.png',\n  'image3': 'https://www.goafricaonline.com/media/cache/resolve/w800/uploads/media/company_media/0002/48/610bd8a555998-enseigne-lumineuse-atelier.png',\n  'image4': 'https://www.goafricaonline.com/media/cache/resolve/w800/uploads/media/company_media/0002/48/610bd8b6ae1e3-impression-numerique-atelier.png',\n  'image5': 'https://www.goafricaonline.com/media/cache/resolve/w800/uploads/media/company_media/0002/48/610bd8c64f3aa-peinture0-vehicules-atelier.png',\n  'image6': 'https://www.goafricaonline.com/media/cache/resolve/w800/uploads/media/company_media/0002/48/610bd8d5de4a9-peinture1-vehicules-atelier.png',\n  'image7': 'https://www.goafricaonline.com/media/cache/resolve/w800/uploads/media/company_media/0002/48/610bd9043d1f3-peinture-vehicules-atelier.png',\n  'image8': 'https://www.goafricaonline.com/media/cache/resolve/w800/uploads/media/company_media/0002/48/610bd91c84d6b-publicite0-sur-le-lieu-de-vente-atelier.png',\n  'image9': 'https://www.goafricaonline.com/media/cache/resolve/w800/uploads/media/company_media/0002/48/610bd92c973b3-publicite-atelier.png',\n  'image10': 'https://www.goafricaonline.com/media/cache/resolve/w800/uploads/media/company_media/0002/48/610bd9425c769-publicite-sur-le-lieu-de-vente-atelier.png',\n  'image11': 'https://www.goafricaonline.com/media/cache/resolve/w800/uploads/media/company_media/0002/48/610bd98008c1e-decoration-vehicules-atelier.png',\n  'image12': 'https://www.goafricaonline.com/media/cache/resolve/w800/uploads/media/company_media/0002/48/610bd99a32b29-vehicules-publicite-atelier.png'},\n {'identifier': 'CI20065501',\n  'company_secteur': 'COMMUNICATION-PUBLICITE',\n  'company_categotie': 'IMPRIMERIES',\n  'company_adress': 'Près de l’Agence SIB - Siporex Yopougon - 03 BP 370 Abidjan 03 Abidjan - Côte d’Ivoire',\n  'company_name': 'IMPRIMERIE LOYAUTE',\n  'company_email': '',\n  'company_description': \"L'IMPRIMERIE LOYAUTE est une imprimerie spécialisée dans l'impression sur tout support.\\nNous sommes nées de la passion pour le métier d’imprimerie. En plus de la production de divers articles d'imprimerie, IMPRIMERIE LOYAUTE est agréée pour la fabrication de factures normalisées personnalisées sous le numéro Y 0101 depuis janvier 2019.Nos réalisations se résument comme suit :.Fabrication de Factures Normalisées.Carnets autocopiants.Calendriers.Affiches.Dépliants.Autocollants.Prospectus.Plaquettes.Tee-shirts.Cartes Professionnelles.Livres.Etiquettes de produits.Cartes de Visite.Pochette CD.Bâches numériques.Kakemono.Vernissage UVNos equipements.2 KORS Heidelberg.GTO 46 Heidelberg.PLATINE Heidelberg.2 INSOLEUSES Heidelberg.VERNISSEUSE UV.2 MASSICOTS OUVERTURE 82.UNE PRESSE NUMERIQUE POUR TEE-SHIRT.UNE PRESSE NUMERIQUE POUR CASQUETTENos partenaires:.SOUMAHORO TRANSPORT(ST).ETABLISSEMENT FLORA SUPER.SAVON CI.LECIM.BIOREP\",\n  'company_website': None,\n  'company_url_logo': 'https://www.goafricaonline.com/media/cache/resolve/w200/uploads/media/company_square/0001/16/5a743bef073fe-logo-imprimerie-loyaute-cote-ivoire.jpg',\n  'company_url': 'https://www.goafricaonline.com/ci/112401-loyaute-imprimeries-abidjan-cote-ivoire',\n  'services': ['Prospectus',\n   'Factures normalisée',\n   'Sacs cabas personnalisés',\n   'Calendrier',\n   'Impression de tee-shirt',\n   'Affiche',\n   'Etui de savon',\n   'Carte de visite'],\n  'facebook': '',\n  'instagram': '',\n  'linkedin': '',\n  'whatsapp': '',\n  'Lundi': '08H00 — 17H30',\n  'Mardi': '08H00 — 17H30',\n  'Mercredi': '08H00 — 17H30',\n  'Jeudi': '08H00 — 17H30',\n  'Vendredi': '08H00 — 17H30',\n  'Samedi': 'Fermé',\n  'Dimanche': 'Fermé',\n  'image1': 'https://www.goafricaonline.com/media/cache/resolve/w800/uploads/media/company_media/0001/96/5e95d6f30d0c8-facture-liasse-imprimerie-loyaute-cote-ivoire.png',\n  'image2': 'https://www.goafricaonline.com/media/cache/resolve/w800/uploads/media/company_media/0001/96/5e95d70fc2e15-facture-normalisee-imprimerie-loyaute-cote-ivoire.jpg',\n  'image3': 'https://www.goafricaonline.com/media/cache/resolve/w800/uploads/media/company_media/0001/16/58ed14c5118db-imprimerie-loyaute-cote-ivoire.jpg',\n  'image4': 'https://www.goafricaonline.com/media/cache/resolve/w800/uploads/media/company_media/0001/55/5e95d5d4af5e6-anou-imprimerie-loyaute-cote-ivoire.jpg',\n  'image5': 'https://www.goafricaonline.com/media/cache/resolve/w800/uploads/media/company_media/0001/55/5c6c236cef301-affiche-imprimerie-loyaute-cote-ivoire.jpg',\n  'image6': 'https://www.goafricaonline.com/media/cache/resolve/w800/uploads/media/company_media/0001/55/5c6c237d49f6f-calendrier2019-imprimerie-loyaute-cote-ivoire.jpg',\n  'image7': 'https://www.goafricaonline.com/media/cache/resolve/w800/uploads/media/company_media/0001/55/5c6c238dbf63a-prospectus2-imprimerie-loyaute-cote-ivoire.jpg',\n  'image8': 'https://www.goafricaonline.com/media/cache/resolve/w800/uploads/media/company_media/0001/55/5c6c239c84d5a-prospectus-imprimerie-loyaute-cote-ivoire.jpg',\n  'image9': 'https://www.goafricaonline.com/media/cache/resolve/w800/uploads/media/company_media/0001/55/5c6c23ab275f9-savon-anti-embellissant-imprimerie-loyaute-cote-ivoire.jpg',\n  'image10': 'https://www.goafricaonline.com/media/cache/resolve/w800/uploads/media/company_media/0001/55/5c6c23bcea4ca-savonnerie-imprimerie-loyaute-cote-ivoire.jpg',\n  'image11': 'https://www.goafricaonline.com/media/cache/resolve/w800/uploads/media/company_media/0001/55/5c6c23cc1a6cb-sgna-imprimerie-loyaute-cote-ivoire.jpg',\n  'image12': 'https://www.goafricaonline.com/media/cache/resolve/w800/uploads/media/company_media/0001/96/5e95d6215feb3-complexe-hotelier-olympe-imprimerie-loyaute-cote-ivoire.jpg',\n  'image13': 'https://www.goafricaonline.com/media/cache/resolve/w800/uploads/media/company_media/0001/96/5e95d64e462c4-hotel-baobab-imprimerie-loyaute-cote-ivoire.jpg',\n  'image14': 'https://www.goafricaonline.com/media/cache/resolve/w800/uploads/media/company_media/0001/96/5e95d60f4c668-clinique-medicale-oasis-imprimerie-loyaute-cote-ivoire.jpg',\n  'image15': 'https://www.goafricaonline.com/media/cache/resolve/w800/uploads/media/company_media/0001/96/5e95d6703263e-pharmacie-nitoro-imprimerie-loyaute-cote-ivoire.jpg',\n  'image16': 'https://www.goafricaonline.com/media/cache/resolve/w800/uploads/media/company_media/0001/96/5e95d69bd9d5b-pharmacie-ste-rita-imprimerie-loyaute-cote-ivoire.jpg',\n  'image17': 'https://www.goafricaonline.com/media/cache/resolve/w800/uploads/media/company_media/0001/96/5e95d6b344df5-pharmacie-st-joseph-imprimerie-loyaute-cote-ivoire.jpg',\n  'image18': 'https://www.goafricaonline.com/media/cache/resolve/w800/uploads/media/company_media/0001/96/5e95d6c6afcff-crea-kakemono-MOSES-ART-imprimerie-loyaute-cote-ivoire.jpg',\n  'image19': 'https://www.goafricaonline.com/media/cache/resolve/w800/uploads/media/company_media/0001/96/5e95d5ff85efd-biberon-imprimerie-loyaute-cote-ivoire.jpg',\n  'image20': 'https://www.goafricaonline.com/media/cache/resolve/w800/uploads/media/company_media/0001/96/5e95d6e0bdbfb-dread-star-imprimerie-loyaute-cote-ivoire.jpg',\n  'image21': 'https://www.goafricaonline.com/media/cache/resolve/w800/uploads/media/company_media/0001/96/5e95d7293c429-poulet-fume-imprimerie-loyaute-cote-ivoire.jpg'},\n {'identifier': 'CI22931966',\n  'company_secteur': 'COMMUNICATION-PUBLICITE',\n  'company_categotie': 'IMPRIMERIES',\n  'company_adress': 'Rue D33 - Ambassade des USA - Riviera Golf Cocody - 28 BP 1762 Abidjan 28 Abidjan - Côte d’Ivoire',\n  'company_name': 'SOLUCIOL IMPRIMERIE',\n  'company_email': '',\n  'company_description': 'SOLUCIOL prend en charge votre commande depuis la conception jusqu’à la livraison avec des modalités de paiement flexibles. Notre Satisfaction est de vous donner une image unique, attrayante et une bonne visibilité. Vous permettre d’offrir des gadgets uniques pour acquérir de nouveaux clients, les fidéliser et ainsi accroître votre chiffre d’affaires.DOMAINES D’INTERVENTION- Infographie (création graphique)- Impression Offset et Numérique- Sérigraphie (Gadgets publicitaires)- Gadgets publicitaires',\n  'company_website': 'https://soluciol.com/',\n  'company_url_logo': 'https://www.goafricaonline.com/media/cache/resolve/w200/uploads/media/company_square/0003/27/63aacefad707e-logo-soluciol-imprimerie-cote-ivoire.jpg',\n  'company_url': 'https://www.goafricaonline.com/ci/109241-soluciol-imprimerie-abidjan-cote-ivoire',\n  'services': ['Impressions de haute qualité (offset et numérique)',\n   \"Tout type d'Impression\",\n   'La sérigraphie sur gadgets publicitaires',\n   'Gadgets',\n   'Infographie (création graphique)'],\n  'facebook': '',\n  'instagram': '',\n  'linkedin': '',\n  'whatsapp': 'https://api.whatsapp.com/send?phone=2250103321881&text=Bonjour%2C%20je%20vous%20contacte%20de%20la%20part%20de%20%2AGo%20Africa%20Online%2A%2C%0A',\n  'Lundi': '08H00 — 17H30',\n  'Mardi': '08H00 — 17H30',\n  'Mercredi': '08H00 — 17H30',\n  'Jeudi': '08H00 — 17H30',\n  'Vendredi': '08H00 — 17H30',\n  'Samedi': 'Fermé',\n  'Dimanche': 'Fermé',\n  'image1': 'https://www.goafricaonline.com/media/cache/resolve/w800/uploads/media/company_media/0003/27/63aace2acf5bb-visuel1-soluciol-imprimerie-cote-ivoire.jpg',\n  'image2': 'https://www.goafricaonline.com/media/cache/resolve/w800/uploads/media/company_media/0003/27/63aace3670505-visuel2-soluciol-imprimerie-cote-ivoire.jpg',\n  'image3': 'https://www.goafricaonline.com/media/cache/resolve/w800/uploads/media/company_media/0003/27/63aace3f63c5d-visuel3-soluciol-imprimerie-cote-ivoire.jpg',\n  'image4': 'https://www.goafricaonline.com/media/cache/resolve/w800/uploads/media/company_media/0003/27/63aace4723543-visuel4-soluciol-imprimerie-cote-ivoire.jpg'},\n {'identifier': 'CI15732640',\n  'company_secteur': 'COMMUNICATION-PUBLICITE',\n  'company_categotie': 'IMPRIMERIES',\n  'company_adress': 'Angré , pharmacie des allées Cocody Abidjan - Côte d’Ivoire',\n  'company_name': 'OTHENTICK ENTREPRISE',\n  'company_email': '',\n  'company_description': 'OTHENTICK structure de prestations de services et commerciales a une équipe d’experts disposant d’un éventail de compétences et d’outils de travaux performants qui font de la société une des meilleures dans les domaine suivants :COMMUNICATIONMARKETINGEVENEMENTIELIMPRIMERIE.Production audiovisuelle, spot radio et téléGraphisme, Design, logotype, charte graphiqueEditionWeb & multimédiaRelations publiques & Relations PresseEvénementiel (salon, foire, concert, mariage, etc...)Cadeaux d’entreprise & objets publicitairesLobbying et intermédiationRéalisation de documents administratifs et commerciauxConseil en Marketing et CommerceSuivi EvaluationCommunication digitaleConception et impression sur tous supports (carte de visite, carte pro, flyers, kakemono, banderole, plaquette commerciale, tee short, polo, casquette, stylo, tasse, clé USB, agenda, bloc note, affiche dos bleu',\n  'company_website': None,\n  'company_url_logo': 'https://www.goafricaonline.com/media/cache/resolve/w200/uploads/media/company_square/0003/21/63809c7c1354f-logo-othentick-entreprise-abidjan-cote-ivoire.jpg',\n  'company_url': 'https://www.goafricaonline.com/ci/649667-othentick-entreprise-imprimeries-abidjan-cote-ivoire',\n  'services': [],\n  'facebook': '',\n  'instagram': '',\n  'linkedin': '',\n  'whatsapp': '',\n  'Lundi': '08H00 — 17H30',\n  'Mardi': '08H00 — 17H30',\n  'Mercredi': '08H00 — 17H30',\n  'Jeudi': '08H00 — 17H30',\n  'Vendredi': '08H00 — 17H30',\n  'Samedi': 'Fermé',\n  'Dimanche': 'Fermé',\n  'image1': 'https://www.goafricaonline.com/media/cache/resolve/w800/uploads/media/company_media/0003/24/639764f347f5f-image1-othentick-entreprise-abidjan-cote-ivoire.jpg',\n  'image2': 'https://www.goafricaonline.com/media/cache/resolve/w800/uploads/media/company_media/0003/24/6397650ef2be4-image2-othentick-entreprise-abidjan-cote-ivoire.jpg',\n  'image3': 'https://www.goafricaonline.com/media/cache/resolve/w800/uploads/media/company_media/0003/24/63976531c34d9-image3-othentick-entreprise-abidjan-cote-ivoire.jpg',\n  'image4': 'https://www.goafricaonline.com/media/cache/resolve/w800/uploads/media/company_media/0003/24/63976550f3c4a-image4-othentick-entreprise-abidjan-cote-ivoire.jpg',\n  'image5': 'https://www.goafricaonline.com/media/cache/resolve/w800/uploads/media/company_media/0003/24/6397656c36be4-image5-othentick-entreprise-abidjan-cote-ivoire.jpg',\n  'image6': 'https://www.goafricaonline.com/media/cache/resolve/w800/uploads/media/company_media/0003/24/639765868635c-image6-othentick-entreprise-abidjan-cote-ivoire.jpg',\n  'image7': 'https://www.goafricaonline.com/media/cache/resolve/w800/uploads/media/company_media/0003/24/6397659d008e1-image7-othentick-entreprise-abidjan-cote-ivoire.jpg',\n  'image8': 'https://www.goafricaonline.com/media/cache/resolve/w800/uploads/media/company_media/0003/24/639766442c9b1-image8-othentick-entreprise-abidjan-cote-ivoire.jpg',\n  'image9': 'https://www.goafricaonline.com/media/cache/resolve/w800/uploads/media/company_media/0003/24/6397666e1561e-image9-othentick-entreprise-abidjan-cote-ivoire.jpg',\n  'image10': 'https://www.goafricaonline.com/media/cache/resolve/w800/uploads/media/company_media/0003/24/639766951944e-image10-othentick-entreprise-abidjan-cote-ivoire.jpg'},\n {'identifier': 'CI10790899',\n  'company_secteur': 'COMMUNICATION-PUBLICITE',\n  'company_categotie': 'IMPRIMERIES',\n  'company_adress': 'Près de Offoumou Yapo - Toits rouges Yopougon - 01 BP 730 Abidjan 01 Abidjan - Côte d’Ivoire',\n  'company_name': 'FORMIAS IMPRIMERIE',\n  'company_email': '',\n  'company_description': \"FORMIAS IMPRIMERIE est une entreprise d'art graphique qui a vu le jour en 2020 sous l'initiative de monsieur SEKELY APPOLOS , PDG de la dite structure.Elle à en son sein 3 activitées majeurs:1- L'IMPRESSION NUMÉRIQUE ET OFFSET :Carte de visite , papier administratifs, flyers, affiches etc.2- L'IMPRESSION TEXTILE ET GADGET PUBLICITAIRES:ce sont des stylos, tee shirt ,polo casquette porte clé , pagne ,parapluie etc.3- L'IMPRESSION INDUSTRIELLE:Panneaux d'affichage, bâche numérique, autocollant, branding, enseigne lumineuse, Totem,étui de savon , étiquette pvc etc.\",\n  'company_website': None,\n  'company_url_logo': 'https://www.goafricaonline.com/media/cache/resolve/w200/uploads/media/company_square/0003/64/64a835fe2ca52-DONE(1).jpg',\n  'company_url': 'https://www.goafricaonline.com/ci/596544-formias-imprimeries-abidjan-cote-ivoire',\n  'services': [],\n  'facebook': 'https://www.facebook.com/p/Formias-Imprimerie-100063861765270/',\n  'instagram': '',\n  'linkedin': 'https://ci.linkedin.com/in/formias-imprimerie-392646205',\n  'whatsapp': ''},\n {'identifier': 'CI20672398',\n  'company_secteur': 'COMMUNICATION-PUBLICITE',\n  'company_categotie': 'IMPRIMERIES',\n  'company_adress': \"220 Logements Près d'Edipress Adjamé Abidjan - Côte d’Ivoire\",\n  'company_name': 'KING KREA',\n  'company_email': '',\n  'company_description': None,\n  'company_website': None,\n  'company_url_logo': 'https://www.goafricaonline.com/media/cache/resolve/w200/uploads/media/company_square/0001/32/5c57f74130edc-logo-king-krea-cote-ivoire.png',\n  'company_url': 'https://www.goafricaonline.com/ci/271698-king-krea-imprimeries-abidjan-cote-ivoire',\n  'services': [],\n  'facebook': '',\n  'instagram': '',\n  'linkedin': '',\n  'whatsapp': 'https://api.whatsapp.com/send?phone=2250757079845&text=Bonjour%2C%20je%20vous%20contacte%20de%20la%20part%20de%20%2AGo%20Africa%20Online%2A%2C%0A',\n  'Lundi': '08H00 — 17H30',\n  'Mardi': '08H00 — 17H30',\n  'Mercredi': '08H00 — 17H30',\n  'Jeudi': '08H00 — 17H30',\n  'Vendredi': '08H00 — 17H30',\n  'Samedi': 'Fermé',\n  'Dimanche': 'Fermé'},\n {'identifier': 'CI17466307',\n  'company_secteur': 'COMMUNICATION-PUBLICITE',\n  'company_categotie': 'IMPRIMERIES',\n  'company_adress': 'Centre commercial Marcory Abidjan - Côte d’Ivoire',\n  'company_name': 'KOSS PRINT',\n  'company_email': '',\n  'company_description': \"Bienvenue chez KOSS PRINT, votre partenaire d'exception pour des services d'impression de haute qualité, une expertise pointue en sérigraphie et une variété d'articles publicitaires innovants. Nous nous démarquons par notre engagement envers l'excellence, la personnalisation et la satisfaction client.Notre entreprise excelle dans l'art de l'impression, offrant des résultats exceptionnels grâce à des technologies de pointe et une équipe dévouée. Des supports marketing aux cartes de visite, nous personnalisons chaque projet pour créer des impressions qui captivent et laissent une impression durable.Au-delà de l'impression, nos prestations diverses sur mesure, telles que la découpe, la reliure et l'embossage, ajoutent une touche distinctive à chaque projet. Nous relevons avec passion le défi de répondre aux attentes les plus élevées de nos clients.Notre expertise en sérigraphie se distingue dans la reproduction précise des couleurs, la durabilité et la qualité visuelle incomparable. Que ce soit sur textiles, affiches ou panneaux publicitaires, nous transformons vos idées en réalité, ajoutant une dimension visuelle exceptionnelle à vos projets.Explorez notre gamme d'articles publicitaires innovants, soigneusement sélectionnés pour promouvoir votre marque de manière mémorable et pratique. Des stylos personnalisés aux cadeaux d'entreprise, chaque produit témoigne de notre engagement envers la qualité et l'impact.Chez KOSS PRINT, chaque projet est unique, et notre équipe est déterminée à offrir des solutions sur mesure qui dépassent les attentes. Notre engagement envers la qualité, la créativité et un service client exceptionnel fait de nous le partenaire idéal pour propulser votre image de marque vers de nouveaux sommets. Faites confiance à KOSS PRINT pour donner vie à vos idées avec élégance et professionnalisme.\",\n  'company_website': None,\n  'company_url_logo': 'https://www.goafricaonline.com/media/cache/resolve/w200/uploads/media/company_square/0003/26/63a1ce7752227-koss-print-abidjan-cote-ivoire.jpg',\n  'company_url': 'https://www.goafricaonline.com/ci/654494-koss-print-imprimeries-publicite-abidjan-cote-ivoire',\n  'services': [],\n  'facebook': '',\n  'instagram': '',\n  'linkedin': '',\n  'whatsapp': ''},\n {'identifier': 'CI18087129',\n  'company_secteur': 'COMMUNICATION-PUBLICITE',\n  'company_categotie': 'IMPRIMERIES',\n  'company_adress': 'C236+QF7, L 160 - Cocody Abidjan Abidjan - Côte d’Ivoire',\n  'company_name': '2A PRESTATIONS',\n  'company_email': '',\n  'company_description': None,\n  'company_website': None,\n  'company_url_logo': None,\n  'company_url': 'https://www.goafricaonline.com/ci/789507-2a-prestations',\n  'services': [],\n  'facebook': '',\n  'instagram': '',\n  'linkedin': '',\n  'whatsapp': '',\n  'Lundi': '08H00 — 17H30',\n  'Mardi': '08H00 — 17H30',\n  'Mercredi': '08H00 — 17H30',\n  'Jeudi': '08H00 — 17H30',\n  'Vendredi': '08H00 — 17H30',\n  'Samedi': 'Fermé',\n  'Dimanche': 'Fermé'},\n {'identifier': 'CI12600062',\n  'company_secteur': 'COMMUNICATION-PUBLICITE',\n  'company_categotie': 'IMPRIMERIES',\n  'company_adress': 'Rue de Dabou - Marcory Abidjan Abidjan - Côte d’Ivoire',\n  'company_name': '2is Plus',\n  'company_email': '',\n  'company_description': None,\n  'company_website': None,\n  'company_url_logo': None,\n  'company_url': 'https://www.goafricaonline.com/ci/789494-2is-plus',\n  'services': [],\n  'facebook': '',\n  'instagram': '',\n  'linkedin': '',\n  'whatsapp': ''},\n {'identifier': 'CI15254647',\n  'company_secteur': 'COMMUNICATION-PUBLICITE',\n  'company_categotie': 'IMPRIMERIES',\n  'company_adress': 'En face de la pharmacie St Christophe - Angré Petro Ivoire Cocody - 08 BP 2589 Abidjan 08 Abidjan - Côte d’Ivoire',\n  'company_name': '4YOUNGMAN COMMUNICATION',\n  'company_email': '',\n  'company_description': None,\n  'company_website': None,\n  'company_url_logo': None,\n  'company_url': 'https://www.goafricaonline.com/ci/132894-4youngman-communication-imprimeries-abidjan-cote-ivoire',\n  'services': [],\n  'facebook': '',\n  'instagram': '',\n  'linkedin': '',\n  'whatsapp': '',\n  'Lundi': '08H00 — 17H30',\n  'Mardi': '08H00 — 17H30',\n  'Mercredi': '08H00 — 17H30',\n  'Jeudi': '08H00 — 17H30',\n  'Vendredi': '08H00 — 17H30',\n  'Samedi': 'Fermé',\n  'Dimanche': 'Fermé'},\n {'identifier': 'CI22541491',\n  'company_secteur': 'COMMUNICATION-PUBLICITE',\n  'company_categotie': 'IMPRIMERIES',\n  'company_adress': '- - Adjamé Abidjan Abidjan - Côte d’Ivoire',\n  'company_name': 'A+IMPRIM',\n  'company_email': '',\n  'company_description': None,\n  'company_website': None,\n  'company_url_logo': None,\n  'company_url': 'https://www.goafricaonline.com/ci/789492-a-imprim',\n  'services': [],\n  'facebook': '',\n  'instagram': '',\n  'linkedin': '',\n  'whatsapp': '',\n  'Lundi': '08H00 — 17H30',\n  'Mardi': '08H00 — 17H30',\n  'Mercredi': '08H00 — 17H30',\n  'Jeudi': '08H00 — 17H30',\n  'Vendredi': '08H00 — 17H30',\n  'Samedi': 'Fermé',\n  'Dimanche': 'Fermé'},\n {'identifier': 'CI31750004',\n  'company_secteur': 'COMMUNICATION-PUBLICITE',\n  'company_categotie': 'IMPRIMERIES',\n  'company_adress': '05 BP 2512 ABIDJAN 05 Abidjan - Cocody - Cocody Abidjan Abidjan - Côte d’Ivoire',\n  'company_name': \"ACCESS INFORMATIQUE (COTE D'IVOIRE)\",\n  'company_email': '',\n  'company_description': None,\n  'company_website': 'https://access-informatique-cote-divoire.business.site/?utm_source=gmb&utm_medium=referral',\n  'company_url_logo': None,\n  'company_url': 'https://www.goafricaonline.com/ci/789483-access-informatique-cote-d-ivoire',\n  'services': [],\n  'facebook': '',\n  'instagram': '',\n  'linkedin': '',\n  'whatsapp': '',\n  'Lundi': '08H00 — 17H30',\n  'Mardi': '08H00 — 17H30',\n  'Mercredi': '08H00 — 17H30',\n  'Jeudi': '08H00 — 17H30',\n  'Vendredi': '08H00 — 17H30',\n  'Samedi': 'Fermé',\n  'Dimanche': 'Fermé'},\n {'identifier': 'CI31446195',\n  'company_secteur': 'COMMUNICATION-PUBLICITE',\n  'company_categotie': 'IMPRIMERIES',\n  'company_adress': 'arrêt - Cocody Abidjan - Côte d’Ivoire',\n  'company_name': 'AGNES-MERE COMMUNICATION',\n  'company_email': '',\n  'company_description': None,\n  'company_website': 'https://www.agnesmere-communication.com',\n  'company_url_logo': None,\n  'company_url': 'https://www.goafricaonline.com/ci/789465-agnes-mere-communication',\n  'services': [],\n  'facebook': '',\n  'instagram': '',\n  'linkedin': '',\n  'whatsapp': '',\n  'Lundi': '08H00 — 17H30',\n  'Mardi': '08H00 — 17H30',\n  'Mercredi': '08H00 — 17H30',\n  'Jeudi': '08H00 — 17H30',\n  'Vendredi': '08H00 — 17H30',\n  'Samedi': 'Fermé',\n  'Dimanche': 'Fermé'},\n {'identifier': 'CI29099770',\n  'company_secteur': 'COMMUNICATION-PUBLICITE',\n  'company_categotie': 'IMPRIMERIES',\n  'company_adress': '5.355116, -4.094959 - Yopougon Abidjan - 21 BP 1161 Abidjan 21 Abidjan - Côte d’Ivoire',\n  'company_name': 'ALADIN',\n  'company_email': '',\n  'company_description': None,\n  'company_website': 'https://aladin.ci',\n  'company_url_logo': None,\n  'company_url': 'https://www.goafricaonline.com/ci/585133-aladin-imprimeries-abidjan-cote-ivoire',\n  'services': [],\n  'facebook': 'https://www.facebook.com/marketplaceimprimerie',\n  'instagram': '',\n  'linkedin': 'https://www.linkedin.com/company/aladin-technology-sarl',\n  'whatsapp': '',\n  'Lundi': '08H00 — 17H30',\n  'Mardi': '08H00 — 17H30',\n  'Mercredi': '08H00 — 17H30',\n  'Jeudi': '08H00 — 17H30',\n  'Vendredi': '08H00 — 17H30',\n  'Samedi': 'Fermé',\n  'Dimanche': 'Fermé'},\n {'identifier': 'CI18202572',\n  'company_secteur': 'COMMUNICATION-PUBLICITE',\n  'company_categotie': 'IMPRIMERIES',\n  'company_adress': '8238+3WG - Marcory Abidjan Abidjan - Côte d’Ivoire',\n  'company_name': \"ALMA services cote d'ivoire\",\n  'company_email': '',\n  'company_description': None,\n  'company_website': None,\n  'company_url_logo': None,\n  'company_url': 'https://www.goafricaonline.com/ci/789322-alma-services-cote-d-ivoire',\n  'services': [],\n  'facebook': '',\n  'instagram': '',\n  'linkedin': '',\n  'whatsapp': '',\n  'Lundi': '08H00 — 17H30',\n  'Mardi': '08H00 — 17H30',\n  'Mercredi': '08H00 — 17H30',\n  'Jeudi': '08H00 — 17H30',\n  'Vendredi': '08H00 — 17H30',\n  'Samedi': 'Fermé',\n  'Dimanche': 'Fermé'},\n {'identifier': 'CI27434106',\n  'company_secteur': 'COMMUNICATION-PUBLICITE',\n  'company_categotie': 'IMPRIMERIES',\n  'company_adress': 'Marcory foyer des jeunes 11 BP 1893 Abidjan 11 - Marcory Abidjan Abidjan - Côte d’Ivoire',\n  'company_name': 'ALMA-SCI Sarl',\n  'company_email': '',\n  'company_description': None,\n  'company_website': None,\n  'company_url_logo': None,\n  'company_url': 'https://www.goafricaonline.com/ci/789501-alma-sci-sarl',\n  'services': [],\n  'facebook': '',\n  'instagram': '',\n  'linkedin': '',\n  'whatsapp': '',\n  'Lundi': '08H00 — 17H30',\n  'Mardi': '08H00 — 17H30',\n  'Mercredi': '08H00 — 17H30',\n  'Jeudi': '08H00 — 17H30',\n  'Vendredi': '08H00 — 17H30',\n  'Samedi': 'Fermé',\n  'Dimanche': 'Fermé'},\n {'identifier': 'CI74821918',\n  'company_secteur': 'COMMUNICATION-PUBLICITE',\n  'company_categotie': 'IMPRIMERIES',\n  'company_adress': 'mairie annexe, yopougon toit-rouge - Yopougon Abidjan Abidjan - Côte d’Ivoire',\n  'company_name': 'ANANIS CORPORATION',\n  'company_email': '',\n  'company_description': None,\n  'company_website': 'https://www.yasse.ci',\n  'company_url_logo': None,\n  'company_url': 'https://www.goafricaonline.com/ci/789324-ananis-corporation',\n  'services': [],\n  'facebook': '',\n  'instagram': '',\n  'linkedin': '',\n  'whatsapp': '',\n  'Lundi': '08H00 — 17H30',\n  'Mardi': '08H00 — 17H30',\n  'Mercredi': '08H00 — 17H30',\n  'Jeudi': '08H00 — 17H30',\n  'Vendredi': '08H00 — 17H30',\n  'Samedi': 'Fermé',\n  'Dimanche': 'Fermé'},\n {'identifier': 'CI27019416',\n  'company_secteur': 'COMMUNICATION-PUBLICITE',\n  'company_categotie': 'IMPRIMERIES',\n  'company_adress': '8WRM+76G - Yopougon Abidjan Abidjan - Côte d’Ivoire',\n  'company_name': 'APCOM YOP',\n  'company_email': '',\n  'company_description': None,\n  'company_website': None,\n  'company_url_logo': None,\n  'company_url': 'https://www.goafricaonline.com/ci/789489-apcom-yop',\n  'services': [],\n  'facebook': '',\n  'instagram': '',\n  'linkedin': '',\n  'whatsapp': ''},\n {'identifier': 'CI32687275',\n  'company_secteur': 'COMMUNICATION-PUBLICITE',\n  'company_categotie': 'IMPRIMERIES',\n  'company_adress': '100 BP Zanzan Bouna - Côte d’Ivoire',\n  'company_name': 'ART ET TECH',\n  'company_email': '',\n  'company_description': None,\n  'company_website': 'https://art-of-tech.business.site/?utm_source=gmb&utm_medium=referral',\n  'company_url_logo': None,\n  'company_url': 'https://www.goafricaonline.com/ci/789326-art-et-tech',\n  'services': [],\n  'facebook': '',\n  'instagram': '',\n  'linkedin': '',\n  'whatsapp': '',\n  'Lundi': '08H00 — 17H30',\n  'Mardi': '08H00 — 17H30',\n  'Mercredi': '08H00 — 17H30',\n  'Jeudi': '08H00 — 17H30',\n  'Vendredi': '08H00 — 17H30',\n  'Samedi': 'Fermé',\n  'Dimanche': 'Fermé'},\n {'identifier': 'CI92287780',\n  'company_secteur': 'COMMUNICATION-PUBLICITE',\n  'company_categotie': 'IMPRIMERIES',\n  'company_adress': '49990704 - Cocody Abidjan Abidjan - Côte d’Ivoire',\n  'company_name': 'ASER Communication',\n  'company_email': '',\n  'company_description': None,\n  'company_website': None,\n  'company_url_logo': None,\n  'company_url': 'https://www.goafricaonline.com/ci/789351-aser-communication',\n  'services': [],\n  'facebook': '',\n  'instagram': '',\n  'linkedin': '',\n  'whatsapp': '',\n  'Lundi': '08H00 — 17H30',\n  'Mardi': '08H00 — 17H30',\n  'Mercredi': '08H00 — 17H30',\n  'Jeudi': '08H00 — 17H30',\n  'Vendredi': '08H00 — 17H30',\n  'Samedi': 'Fermé',\n  'Dimanche': 'Fermé'},\n {'identifier': 'CI22715465',\n  'company_secteur': 'COMMUNICATION-PUBLICITE',\n  'company_categotie': 'IMPRIMERIES',\n  'company_adress': 'D 33 - Cocody Abidjan Abidjan - Côte d’Ivoire',\n  'company_name': 'Alycartouche',\n  'company_email': '',\n  'company_description': None,\n  'company_website': None,\n  'company_url_logo': None,\n  'company_url': 'https://www.goafricaonline.com/ci/789333-alycartouche',\n  'services': [],\n  'facebook': '',\n  'instagram': '',\n  'linkedin': '',\n  'whatsapp': '',\n  'Lundi': '08H00 — 17H30',\n  'Mardi': '08H00 — 17H30',\n  'Mercredi': '08H00 — 17H30',\n  'Jeudi': '08H00 — 17H30',\n  'Vendredi': '08H00 — 17H30',\n  'Samedi': 'Fermé',\n  'Dimanche': 'Fermé'},\n {'identifier': 'CI65703848',\n  'company_secteur': 'COMMUNICATION-PUBLICITE',\n  'company_categotie': 'IMPRIMERIES',\n  'company_adress': '00225 - Cocody Abidjan Abidjan - Côte d’Ivoire',\n  'company_name': 'App & Print',\n  'company_email': '',\n  'company_description': None,\n  'company_website': None,\n  'company_url_logo': None,\n  'company_url': 'https://www.goafricaonline.com/ci/789515-app-print',\n  'services': [],\n  'facebook': '',\n  'instagram': '',\n  'linkedin': '',\n  'whatsapp': '',\n  'Lundi': '08H00 — 17H30',\n  'Mardi': '08H00 — 17H30',\n  'Mercredi': '08H00 — 17H30',\n  'Jeudi': '08H00 — 17H30',\n  'Vendredi': '08H00 — 17H30',\n  'Samedi': 'Fermé',\n  'Dimanche': 'Fermé'},\n {'identifier': 'CI12670821',\n  'company_secteur': 'COMMUNICATION-PUBLICITE',\n  'company_categotie': 'IMPRIMERIES',\n  'company_adress': '8X3R+2XJ, Avenue 21 - Treichville Abidjan Abidjan - Côte d’Ivoire',\n  'company_name': 'Ardola Imprimerie Sarl',\n  'company_email': '',\n  'company_description': None,\n  'company_website': None,\n  'company_url_logo': None,\n  'company_url': 'https://www.goafricaonline.com/ci/789468-ardola-imprimerie-sarl',\n  'services': [],\n  'facebook': '',\n  'instagram': '',\n  'linkedin': '',\n  'whatsapp': '',\n  'Lundi': '08H00 — 17H30',\n  'Mardi': '08H00 — 17H30',\n  'Mercredi': '08H00 — 17H30',\n  'Jeudi': '08H00 — 17H30',\n  'Vendredi': '08H00 — 17H30',\n  'Samedi': 'Fermé',\n  'Dimanche': 'Fermé'},\n {'identifier': 'CI17877002',\n  'company_secteur': 'COMMUNICATION-PUBLICITE',\n  'company_categotie': 'IMPRIMERIES',\n  'company_adress': '00225 - Cocody Abidjan Abidjan - Côte d’Ivoire',\n  'company_name': 'Azgad-Désigne',\n  'company_email': '',\n  'company_description': None,\n  'company_website': None,\n  'company_url_logo': None,\n  'company_url': 'https://www.goafricaonline.com/ci/789524-azgad-designe',\n  'services': [],\n  'facebook': '',\n  'instagram': '',\n  'linkedin': '',\n  'whatsapp': '',\n  'Lundi': '08H00 — 17H30',\n  'Mardi': '08H00 — 17H30',\n  'Mercredi': '08H00 — 17H30',\n  'Jeudi': '08H00 — 17H30',\n  'Vendredi': '08H00 — 17H30',\n  'Samedi': 'Fermé',\n  'Dimanche': 'Fermé'},\n {'identifier': 'CI26890655',\n  'company_secteur': 'COMMUNICATION-PUBLICITE',\n  'company_categotie': 'IMPRIMERIES',\n  'company_adress': '8e tranche cité arc en ciel Face EPP, Angré - Cocody Abidjan Abidjan - Côte d’Ivoire',\n  'company_name': 'B-COM SARL',\n  'company_email': '',\n  'company_description': None,\n  'company_website': 'https://bcomci.com',\n  'company_url_logo': None,\n  'company_url': 'https://www.goafricaonline.com/ci/789350-b-com-sarl',\n  'services': [],\n  'facebook': '',\n  'instagram': 'https://instagram.com/refresh_access_token',\n  'linkedin': '',\n  'whatsapp': '',\n  'Lundi': '08H00 — 17H30',\n  'Mardi': '08H00 — 17H30',\n  'Mercredi': '08H00 — 17H30',\n  'Jeudi': '08H00 — 17H30',\n  'Vendredi': '08H00 — 17H30',\n  'Samedi': 'Fermé',\n  'Dimanche': 'Fermé'},\n {'identifier': 'CI81712644',\n  'company_secteur': 'COMMUNICATION-PUBLICITE',\n  'company_categotie': 'IMPRIMERIES',\n  'company_adress': 'Angré 22e arrondissement, Rue L 130, route du stade - Cocody Abidjan Abidjan - Côte d’Ivoire',\n  'company_name': 'BENY Communication',\n  'company_email': '',\n  'company_description': None,\n  'company_website': None,\n  'company_url_logo': None,\n  'company_url': 'https://www.goafricaonline.com/ci/789466-beny-communication',\n  'services': [],\n  'facebook': '',\n  'instagram': '',\n  'linkedin': '',\n  'whatsapp': '',\n  'Lundi': '08H00 — 17H30',\n  'Mardi': '08H00 — 17H30',\n  'Mercredi': '08H00 — 17H30',\n  'Jeudi': '08H00 — 17H30',\n  'Vendredi': '08H00 — 17H30',\n  'Samedi': 'Fermé',\n  'Dimanche': 'Fermé'},\n {'identifier': 'CI79264758',\n  'company_secteur': 'COMMUNICATION-PUBLICITE',\n  'company_categotie': 'IMPRIMERIES',\n  'company_adress': 'carrefour Reboul non loin de la Phcie Reboul - Dallas Adjamé - 09 BP 3689 Abidjan 09 Abidjan - Côte d’Ivoire',\n  'company_name': 'BJ PUB SERVICES',\n  'company_email': '',\n  'company_description': None,\n  'company_website': None,\n  'company_url_logo': None,\n  'company_url': 'https://www.goafricaonline.com/ci/112521-bj-pub-services-imprimeries-abidjan-cote-ivoire',\n  'services': [],\n  'facebook': '',\n  'instagram': '',\n  'linkedin': '',\n  'whatsapp': '',\n  'Lundi': '08H00 — 17H30',\n  'Mardi': '08H00 — 17H30',\n  'Mercredi': '08H00 — 17H30',\n  'Jeudi': '08H00 — 17H30',\n  'Vendredi': '08H00 — 17H30',\n  'Samedi': 'Fermé',\n  'Dimanche': 'Fermé'},\n {'identifier': 'CI68988686',\n  'company_secteur': 'COMMUNICATION-PUBLICITE',\n  'company_categotie': 'IMPRIMERIES',\n  'company_adress': 'Unnamed Road +225)07 18 13 45 - Port-Bouët Abidjan Abidjan - Côte d’Ivoire',\n  'company_name': 'BMSparke',\n  'company_email': '',\n  'company_description': None,\n  'company_website': 'https://bmsparke.business.site/?utm_source=gmb&utm_medium=referral',\n  'company_url_logo': None,\n  'company_url': 'https://www.goafricaonline.com/ci/789522-bmsparke',\n  'services': [],\n  'facebook': '',\n  'instagram': '',\n  'linkedin': '',\n  'whatsapp': '',\n  'Lundi': '08H00 — 17H30',\n  'Mardi': '08H00 — 17H30',\n  'Mercredi': '08H00 — 17H30',\n  'Jeudi': '08H00 — 17H30',\n  'Vendredi': '08H00 — 17H30',\n  'Samedi': 'Fermé',\n  'Dimanche': 'Fermé'},\n {'identifier': 'CI30452957',\n  'company_secteur': 'COMMUNICATION-PUBLICITE',\n  'company_categotie': 'IMPRIMERIES',\n  'company_adress': \"Route du CHU d'Angré, ruelle pharmacie Val d'Oise, 4ème carrefour à gauche Cocody - 11 BP 2248 Abidjan 11 Abidjan - Côte d’Ivoire\",\n  'company_name': 'IMPRIMERIE GRANDE MARQUE',\n  'company_email': '',\n  'company_description': \"IMPRIMERIE GRANDE MARQUEOffset & NumériqueVotre imprimerie de grande technicitéImprimerie Grande Marque (ex Synel Graphic)  intervient  dans plusieurs domaines que sont: l’offset,  le numérique et plus spécialisée dans la vente des machines d’imprimerie et la maintenance.Elle est donc dotée d’un équipement performant qui recouvre des techniques d’impression permettant la réproduction de vos travaux, voire vos images et textes sur un support de feuilles simples ou sous la forme de livres, de brochures etc...comportant ainsi plusieurs étapes successives qui précèdent l’impression : Vos documents à imprimer sont reproduits d’abord sur une plaque de métal gravée où sont définies des zones à encrer. Cette plaque est encrée plusieurs fois, avant qu’on y passe un cylindre ou rouleau  appelé blanchet recouvert d’une feuille de caoutchouc qui transfère l’encre sur le papier, appelé offset.Quant au numérique, c’est un procédé d’impression nettement plus simple, puisque le document est reproduit directement sur papier au moyen de l’outil informatique et d’imprimante laser. Cette technique est plus rapide et plus simple et le visuel est imprimé immédiatement une seule fois.Nos prestationsVente de machines d'imprimerie et maintenance, Impression numérique et offset, Studio graphique, Conception graphiqueVente de machines d'imprimerieVente de machines d'imprimerieFlasheuse AventraImpression numériqueGadgets PublicitairesFournitures de bureau\",\n  'company_website': None,\n  'company_url_logo': \"https://www.goafricaonline.com/media/cache/resolve/w200/uploads/media/company_square/0003/43/6419c2fb5aa21-Logo-Synel Graphic-Imprimerie Grande Marque Côte d'ivoire.jpg\",\n  'company_url': 'https://www.goafricaonline.com/ci/74441-synel-graphic-imprimeries-abidjan-cote-ivoire',\n  'services': ['Impression sur T.Shirt',\n   'Kakémono',\n   'Carnet de facture',\n   'Bloc note',\n   'Confection de sac Cabas',\n   'Impression numérique',\n   'Cartes de visite'],\n  'facebook': '',\n  'instagram': '',\n  'linkedin': '',\n  'whatsapp': 'https://api.whatsapp.com/send?phone=2250704409341&text=Bonjour%2C%20je%20vous%20contacte%20de%20la%20part%20de%20%2AGo%20Africa%20Online%2A%2C%0A',\n  'Lundi': '08H00 — 17H30',\n  'Mardi': '08H00 — 17H30',\n  'Mercredi': '08H00 — 17H30',\n  'Jeudi': '08H00 — 17H30',\n  'Vendredi': '08H00 — 17H30',\n  'Samedi': 'Fermé',\n  'Dimanche': 'Fermé',\n  'image1': 'https://www.goafricaonline.com/media/cache/resolve/w800/uploads/media/company_media/0004/33/65d61b5b4118e-img-3712-imprimerie-grande-marque-cote-ivoire.jpg',\n  'image2': 'https://www.goafricaonline.com/media/cache/resolve/w800/uploads/media/company_media/0004/33/65d61b5b4c92e-img-3604-imprimerie-grande-marque-cote-ivoire.jpg',\n  'image3': 'https://www.goafricaonline.com/media/cache/resolve/w800/uploads/media/company_media/0004/33/65d61b5c4601b-img-3725-imprimerie-grande-marque-cote-ivoire.jpg',\n  'image4': 'https://www.goafricaonline.com/media/cache/resolve/w800/uploads/media/company_media/0004/33/65d61b5c342c7-img-3742-imprimerie-grande-marque-cote-ivoire.jpg',\n  'image5': 'https://www.goafricaonline.com/media/cache/resolve/w800/uploads/media/company_media/0004/33/65d61b5c22509-img-3719-imprimerie-grande-marque-cote-ivoire.jpg',\n  'image6': 'https://www.goafricaonline.com/media/cache/resolve/w800/uploads/media/company_media/0004/33/65d61b5c15b3d-img-3746-imprimerie-grande-marque-cote-ivoire.jpg',\n  'image7': 'https://www.goafricaonline.com/media/cache/resolve/w800/uploads/media/company_media/0004/33/65d61b5c08dbe-img-3702-imprimerie-grande-marque-cote-ivoire.jpg',\n  'image8': 'https://www.goafricaonline.com/media/cache/resolve/w800/uploads/media/company_media/0004/33/65d61b5bf07a9-img-3665-imprimerie-grande-marque-cote-ivoire.jpg',\n  'image9': 'https://www.goafricaonline.com/media/cache/resolve/w800/uploads/media/company_media/0004/33/65d61b5be3bb8-img-3662-imprimerie-grande-marque-cote-ivoire.jpg',\n  'image10': 'https://www.goafricaonline.com/media/cache/resolve/w800/uploads/media/company_media/0004/33/65d61b5bcafc6-img-3729-imprimerie-grande-marque-cote-ivoire.jpg',\n  'image11': 'https://www.goafricaonline.com/media/cache/resolve/w800/uploads/media/company_media/0004/33/65d61b5bbf79d-img-3732-imprimerie-grande-marque-cote-ivoire.jpg',\n  'image12': 'https://www.goafricaonline.com/media/cache/resolve/w800/uploads/media/company_media/0004/33/65d61b5bad502-img-3726-imprimerie-grande-marque-cote-ivoire.jpg',\n  'image13': 'https://www.goafricaonline.com/media/cache/resolve/w800/uploads/media/company_media/0004/33/65d61b5b9e06c-img-3717-imprimerie-grande-marque-cote-ivoire.jpg',\n  'image14': 'https://www.goafricaonline.com/media/cache/resolve/w800/uploads/media/company_media/0004/33/65d61b5b92466-img-3658-imprimerie-grande-marque-cote-ivoire.jpg',\n  'image15': 'https://www.goafricaonline.com/media/cache/resolve/w800/uploads/media/company_media/0004/33/65d61b5b7f1c2-img-3686-imprimerie-grande-marque-cote-ivoire.jpg',\n  'image16': 'https://www.goafricaonline.com/media/cache/resolve/w800/uploads/media/company_media/0004/33/65d61b5b7078f-img-3705-imprimerie-grande-marque-cote-ivoire.jpg',\n  'image17': 'https://www.goafricaonline.com/media/cache/resolve/w800/uploads/media/company_media/0004/33/65d61b5b648c5-img-3655-imprimerie-grande-marque-cote-ivoire.jpg',\n  'image18': 'https://www.goafricaonline.com/media/cache/resolve/w800/uploads/media/company_media/0004/33/65d61b5b5844f-img-3679-imprimerie-grande-marque-cote-ivoire.jpg',\n  'image19': 'https://www.goafricaonline.com/media/cache/resolve/w800/uploads/media/company_media/0004/33/65d61b5b36b73-img-3699-imprimerie-grande-marque-cote-ivoire.jpg',\n  'image20': 'https://www.goafricaonline.com/media/cache/resolve/w800/uploads/media/company_media/0004/33/65d61b5b2b6d2-img-3681-imprimerie-grande-marque-cote-ivoire.jpg',\n  'image21': 'https://www.goafricaonline.com/media/cache/resolve/w800/uploads/media/company_media/0004/33/65d61b5b20705-img-3692-imprimerie-grande-marque-cote-ivoire.jpg',\n  'image22': 'https://www.goafricaonline.com/media/cache/resolve/w800/uploads/media/company_media/0004/33/65d61b5b13776-img-3669-imprimerie-grande-marque-cote-ivoire.jpg',\n  'image23': 'https://www.goafricaonline.com/media/cache/resolve/w800/uploads/media/company_media/0004/33/65d61b5b03d32-img-3676-imprimerie-grande-marque-cote-ivoire.jpg',\n  'image24': 'https://www.goafricaonline.com/media/cache/resolve/w800/uploads/media/company_media/0004/33/65d61b5add273-img-3653-imprimerie-grande-marque-cote-ivoire.jpg',\n  'image25': 'https://www.goafricaonline.com/media/cache/resolve/w800/uploads/media/company_media/0004/33/65d61b5ac681c-img-3647-imprimerie-grande-marque-cote-ivoire.jpg',\n  'image26': 'https://www.goafricaonline.com/media/cache/resolve/w800/uploads/media/company_media/0004/33/65d61b5ab5199-img-3613-imprimerie-grande-marque-cote-ivoire.jpg',\n  'image27': 'https://www.goafricaonline.com/media/cache/resolve/w800/uploads/media/company_media/0004/33/65d61b5aaa6a5-img-3595-imprimerie-grande-marque-cote-ivoire.jpg',\n  'image28': 'https://www.goafricaonline.com/media/cache/resolve/w800/uploads/media/company_media/0004/33/65d61b5a8bba1-img-3638-imprimerie-grande-marque-cote-ivoire.jpg',\n  'image29': 'https://www.goafricaonline.com/media/cache/resolve/w800/uploads/media/company_media/0004/33/65d61b5a5f728-img-3586-imprimerie-grande-marque-cote-ivoire.jpg',\n  'image30': \"https://www.goafricaonline.com/media/cache/resolve/w800/uploads/media/company_media/0002/84/627513457eacb-Imprimante-Synel Graphic Côte d'ivoire.jpg\"},\n {'identifier': 'CI85746576',\n  'company_secteur': 'COMMUNICATION-PUBLICITE',\n  'company_categotie': 'IMPRIMERIES',\n  'company_adress': 'En face de l’agence MTN et la SGBCI - Riviéra Jardins Cocody - 26 BP 451 Abidjan 26 Abidjan - Côte d’Ivoire',\n  'company_name': 'ALY CARTOUCHE INFORMATIQUE',\n  'company_email': '',\n  'company_description': 'ALY CARTOUCHE INFORMATIQUE est à votre disposition pour tous travaux dans le domaine de l’imprimerie. Nous sommes spécialisés dans les domaines suivants :Plaques jusqu’à 300gr, Posters, Cartes postales, Chemises jusqu’à 300gr, Cartes de visite, Cartes commerciales, Cartes de correspondance, Brochures dépliantes, Calques, Etiquettes adhésives et transparentes, Brochures, Calendriers, Couvertures de livre, Packagings, Routages mailing, Finition, Faire-parts, Affiches grand Format, Tampons et Plaques gravées, l’Impression et la Photocopie.',\n  'company_website': None,\n  'company_url_logo': 'https://www.goafricaonline.com/media/cache/resolve/w200/uploads/media/company_square/0001/21/5a15941969b92-logo-aly-cartouche-cote-ivoire.jpg',\n  'company_url': 'https://www.goafricaonline.com/ci/74391-aly-cartouche-informatique-imprimeries-abidjan-cote-ivoire',\n  'services': [],\n  'facebook': '',\n  'instagram': '',\n  'linkedin': '',\n  'whatsapp': ''},\n {'identifier': 'CI23844073',\n  'company_secteur': 'COMMUNICATION-PUBLICITE',\n  'company_categotie': 'IMPRIMERIES',\n  'company_adress': 'Face Lycée français Blaise Pascal, Coprim - Riviera 3 Cocody - 04 BP 81 Abidjan 04 Abidjan - Côte d’Ivoire',\n  'company_name': \"L'ATELIER\",\n  'company_email': '',\n  'company_description': 'L’Atelier est une imprimerie de 300 m² à la riviera 3, derrière le lycée français avec une base technique de 2500 m² dans la zone industrielle de Yopougon.Société sœur de l’Agence de Marketing Opérationnel « La Boite à Idées » et de la Régie publicitaire « Syntheti’k », l’Atelier avait pour mission initiale la gestion des besoins techniques de ces deux structures.Depuis janvier 2011, l’Atelier a ouvert ses portes aux entreprises afin de leur apporter son savoir-faire dans les domaines de : l’impression numérique, la décoration publicitaire, la fabrication de supports publicitaires, tous travaux de polyester, l’infographie, la construction métallique, la tôlerie, la peinture, la décoration de véhicules…',\n  'company_website': None,\n  'company_url_logo': 'https://www.goafricaonline.com/media/cache/resolve/w200/uploads/media/company_square/0001/05/592d64c4e43af-logo-atelier-cote-ivoire.jpg',\n  'company_url': 'https://www.goafricaonline.com/ci/93607-atelier-imprimeries-abidjan-cote-ivoire',\n  'services': ['Décorations publicitaires indoor et outdoor',\n   'Branding de véhicules  toutes catégories',\n   'Publicité sur Lieu de Vente (PLV)',\n   'Enseignes lumineuses',\n   'Tous travaux de polyester',\n   'Construction Métallique',\n   'Impressions Numériques'],\n  'facebook': 'https://www.facebook.com/laboiteaid/',\n  'instagram': '',\n  'linkedin': '',\n  'whatsapp': '',\n  'Lundi': '08H00 — 17H30',\n  'Mardi': '08H00 — 17H30',\n  'Mercredi': '08H00 — 17H30',\n  'Jeudi': '08H00 — 17H30',\n  'Vendredi': '08H00 — 17H30',\n  'Samedi': 'Fermé',\n  'Dimanche': 'Fermé',\n  'image1': 'https://www.goafricaonline.com/media/cache/resolve/w800/uploads/media/company_media/0002/48/611e3f7e77f36-visuelok-atelier-cote-ivoire.png',\n  'image2': 'https://www.goafricaonline.com/media/cache/resolve/w800/uploads/media/company_media/0002/48/610bd89559e6a-branding0-vehicules-atelier.png',\n  'image3': 'https://www.goafricaonline.com/media/cache/resolve/w800/uploads/media/company_media/0002/48/610bd8a555998-enseigne-lumineuse-atelier.png',\n  'image4': 'https://www.goafricaonline.com/media/cache/resolve/w800/uploads/media/company_media/0002/48/610bd8b6ae1e3-impression-numerique-atelier.png',\n  'image5': 'https://www.goafricaonline.com/media/cache/resolve/w800/uploads/media/company_media/0002/48/610bd8c64f3aa-peinture0-vehicules-atelier.png',\n  'image6': 'https://www.goafricaonline.com/media/cache/resolve/w800/uploads/media/company_media/0002/48/610bd8d5de4a9-peinture1-vehicules-atelier.png',\n  'image7': 'https://www.goafricaonline.com/media/cache/resolve/w800/uploads/media/company_media/0002/48/610bd9043d1f3-peinture-vehicules-atelier.png',\n  'image8': 'https://www.goafricaonline.com/media/cache/resolve/w800/uploads/media/company_media/0002/48/610bd91c84d6b-publicite0-sur-le-lieu-de-vente-atelier.png',\n  'image9': 'https://www.goafricaonline.com/media/cache/resolve/w800/uploads/media/company_media/0002/48/610bd92c973b3-publicite-atelier.png',\n  'image10': 'https://www.goafricaonline.com/media/cache/resolve/w800/uploads/media/company_media/0002/48/610bd9425c769-publicite-sur-le-lieu-de-vente-atelier.png',\n  'image11': 'https://www.goafricaonline.com/media/cache/resolve/w800/uploads/media/company_media/0002/48/610bd98008c1e-decoration-vehicules-atelier.png',\n  'image12': 'https://www.goafricaonline.com/media/cache/resolve/w800/uploads/media/company_media/0002/48/610bd99a32b29-vehicules-publicite-atelier.png'},\n {'identifier': 'CI14879322',\n  'company_secteur': 'COMMUNICATION-PUBLICITE',\n  'company_categotie': 'IMPRIMERIES',\n  'company_adress': 'Près de l’Agence SIB - Siporex Yopougon - 03 BP 370 Abidjan 03 Abidjan - Côte d’Ivoire',\n  'company_name': 'IMPRIMERIE LOYAUTE',\n  'company_email': '',\n  'company_description': \"L'IMPRIMERIE LOYAUTE est une imprimerie spécialisée dans l'impression sur tout support.\\nNous sommes nées de la passion pour le métier d’imprimerie. En plus de la production de divers articles d'imprimerie, IMPRIMERIE LOYAUTE est agréée pour la fabrication de factures normalisées personnalisées sous le numéro Y 0101 depuis janvier 2019.Nos réalisations se résument comme suit :.Fabrication de Factures Normalisées.Carnets autocopiants.Calendriers.Affiches.Dépliants.Autocollants.Prospectus.Plaquettes.Tee-shirts.Cartes Professionnelles.Livres.Etiquettes de produits.Cartes de Visite.Pochette CD.Bâches numériques.Kakemono.Vernissage UVNos equipements.2 KORS Heidelberg.GTO 46 Heidelberg.PLATINE Heidelberg.2 INSOLEUSES Heidelberg.VERNISSEUSE UV.2 MASSICOTS OUVERTURE 82.UNE PRESSE NUMERIQUE POUR TEE-SHIRT.UNE PRESSE NUMERIQUE POUR CASQUETTENos partenaires:.SOUMAHORO TRANSPORT(ST).ETABLISSEMENT FLORA SUPER.SAVON CI.LECIM.BIOREP\",\n  'company_website': None,\n  'company_url_logo': 'https://www.goafricaonline.com/media/cache/resolve/w200/uploads/media/company_square/0001/16/5a743bef073fe-logo-imprimerie-loyaute-cote-ivoire.jpg',\n  'company_url': 'https://www.goafricaonline.com/ci/112401-loyaute-imprimeries-abidjan-cote-ivoire',\n  'services': ['Prospectus',\n   'Factures normalisée',\n   'Sacs cabas personnalisés',\n   'Calendrier',\n   'Impression de tee-shirt',\n   'Affiche',\n   'Etui de savon',\n   'Carte de visite'],\n  'facebook': '',\n  'instagram': '',\n  'linkedin': '',\n  'whatsapp': '',\n  'Lundi': '08H00 — 17H30',\n  'Mardi': '08H00 — 17H30',\n  'Mercredi': '08H00 — 17H30',\n  'Jeudi': '08H00 — 17H30',\n  'Vendredi': '08H00 — 17H30',\n  'Samedi': 'Fermé',\n  'Dimanche': 'Fermé',\n  'image1': 'https://www.goafricaonline.com/media/cache/resolve/w800/uploads/media/company_media/0001/96/5e95d6f30d0c8-facture-liasse-imprimerie-loyaute-cote-ivoire.png',\n  'image2': 'https://www.goafricaonline.com/media/cache/resolve/w800/uploads/media/company_media/0001/96/5e95d70fc2e15-facture-normalisee-imprimerie-loyaute-cote-ivoire.jpg',\n  'image3': 'https://www.goafricaonline.com/media/cache/resolve/w800/uploads/media/company_media/0001/16/58ed14c5118db-imprimerie-loyaute-cote-ivoire.jpg',\n  'image4': 'https://www.goafricaonline.com/media/cache/resolve/w800/uploads/media/company_media/0001/55/5e95d5d4af5e6-anou-imprimerie-loyaute-cote-ivoire.jpg',\n  'image5': 'https://www.goafricaonline.com/media/cache/resolve/w800/uploads/media/company_media/0001/55/5c6c236cef301-affiche-imprimerie-loyaute-cote-ivoire.jpg',\n  'image6': 'https://www.goafricaonline.com/media/cache/resolve/w800/uploads/media/company_media/0001/55/5c6c237d49f6f-calendrier2019-imprimerie-loyaute-cote-ivoire.jpg',\n  'image7': 'https://www.goafricaonline.com/media/cache/resolve/w800/uploads/media/company_media/0001/55/5c6c238dbf63a-prospectus2-imprimerie-loyaute-cote-ivoire.jpg',\n  'image8': 'https://www.goafricaonline.com/media/cache/resolve/w800/uploads/media/company_media/0001/55/5c6c239c84d5a-prospectus-imprimerie-loyaute-cote-ivoire.jpg',\n  'image9': 'https://www.goafricaonline.com/media/cache/resolve/w800/uploads/media/company_media/0001/55/5c6c23ab275f9-savon-anti-embellissant-imprimerie-loyaute-cote-ivoire.jpg',\n  'image10': 'https://www.goafricaonline.com/media/cache/resolve/w800/uploads/media/company_media/0001/55/5c6c23bcea4ca-savonnerie-imprimerie-loyaute-cote-ivoire.jpg',\n  'image11': 'https://www.goafricaonline.com/media/cache/resolve/w800/uploads/media/company_media/0001/55/5c6c23cc1a6cb-sgna-imprimerie-loyaute-cote-ivoire.jpg',\n  'image12': 'https://www.goafricaonline.com/media/cache/resolve/w800/uploads/media/company_media/0001/96/5e95d6215feb3-complexe-hotelier-olympe-imprimerie-loyaute-cote-ivoire.jpg',\n  'image13': 'https://www.goafricaonline.com/media/cache/resolve/w800/uploads/media/company_media/0001/96/5e95d64e462c4-hotel-baobab-imprimerie-loyaute-cote-ivoire.jpg',\n  'image14': 'https://www.goafricaonline.com/media/cache/resolve/w800/uploads/media/company_media/0001/96/5e95d60f4c668-clinique-medicale-oasis-imprimerie-loyaute-cote-ivoire.jpg',\n  'image15': 'https://www.goafricaonline.com/media/cache/resolve/w800/uploads/media/company_media/0001/96/5e95d6703263e-pharmacie-nitoro-imprimerie-loyaute-cote-ivoire.jpg',\n  'image16': 'https://www.goafricaonline.com/media/cache/resolve/w800/uploads/media/company_media/0001/96/5e95d69bd9d5b-pharmacie-ste-rita-imprimerie-loyaute-cote-ivoire.jpg',\n  'image17': 'https://www.goafricaonline.com/media/cache/resolve/w800/uploads/media/company_media/0001/96/5e95d6b344df5-pharmacie-st-joseph-imprimerie-loyaute-cote-ivoire.jpg',\n  'image18': 'https://www.goafricaonline.com/media/cache/resolve/w800/uploads/media/company_media/0001/96/5e95d6c6afcff-crea-kakemono-MOSES-ART-imprimerie-loyaute-cote-ivoire.jpg',\n  'image19': 'https://www.goafricaonline.com/media/cache/resolve/w800/uploads/media/company_media/0001/96/5e95d5ff85efd-biberon-imprimerie-loyaute-cote-ivoire.jpg',\n  'image20': 'https://www.goafricaonline.com/media/cache/resolve/w800/uploads/media/company_media/0001/96/5e95d6e0bdbfb-dread-star-imprimerie-loyaute-cote-ivoire.jpg',\n  'image21': 'https://www.goafricaonline.com/media/cache/resolve/w800/uploads/media/company_media/0001/96/5e95d7293c429-poulet-fume-imprimerie-loyaute-cote-ivoire.jpg'},\n {'identifier': 'CI50933873',\n  'company_secteur': 'COMMUNICATION-PUBLICITE',\n  'company_categotie': 'IMPRIMERIES',\n  'company_adress': 'Rue D33 - Ambassade des USA - Riviera Golf Cocody - 28 BP 1762 Abidjan 28 Abidjan - Côte d’Ivoire',\n  'company_name': 'SOLUCIOL IMPRIMERIE',\n  'company_email': '',\n  'company_description': 'SOLUCIOL prend en charge votre commande depuis la conception jusqu’à la livraison avec des modalités de paiement flexibles. Notre Satisfaction est de vous donner une image unique, attrayante et une bonne visibilité. Vous permettre d’offrir des gadgets uniques pour acquérir de nouveaux clients, les fidéliser et ainsi accroître votre chiffre d’affaires.DOMAINES D’INTERVENTION- Infographie (création graphique)- Impression Offset et Numérique- Sérigraphie (Gadgets publicitaires)- Gadgets publicitaires',\n  'company_website': 'https://soluciol.com/',\n  'company_url_logo': 'https://www.goafricaonline.com/media/cache/resolve/w200/uploads/media/company_square/0003/27/63aacefad707e-logo-soluciol-imprimerie-cote-ivoire.jpg',\n  'company_url': 'https://www.goafricaonline.com/ci/109241-soluciol-imprimerie-abidjan-cote-ivoire',\n  'services': ['Impressions de haute qualité (offset et numérique)',\n   \"Tout type d'Impression\",\n   'La sérigraphie sur gadgets publicitaires',\n   'Gadgets',\n   'Infographie (création graphique)'],\n  'facebook': '',\n  'instagram': '',\n  'linkedin': '',\n  'whatsapp': 'https://api.whatsapp.com/send?phone=2250103321881&text=Bonjour%2C%20je%20vous%20contacte%20de%20la%20part%20de%20%2AGo%20Africa%20Online%2A%2C%0A',\n  'Lundi': '08H00 — 17H30',\n  'Mardi': '08H00 — 17H30',\n  'Mercredi': '08H00 — 17H30',\n  'Jeudi': '08H00 — 17H30',\n  'Vendredi': '08H00 — 17H30',\n  'Samedi': 'Fermé',\n  'Dimanche': 'Fermé',\n  'image1': 'https://www.goafricaonline.com/media/cache/resolve/w800/uploads/media/company_media/0003/27/63aace2acf5bb-visuel1-soluciol-imprimerie-cote-ivoire.jpg',\n  'image2': 'https://www.goafricaonline.com/media/cache/resolve/w800/uploads/media/company_media/0003/27/63aace3670505-visuel2-soluciol-imprimerie-cote-ivoire.jpg',\n  'image3': 'https://www.goafricaonline.com/media/cache/resolve/w800/uploads/media/company_media/0003/27/63aace3f63c5d-visuel3-soluciol-imprimerie-cote-ivoire.jpg',\n  'image4': 'https://www.goafricaonline.com/media/cache/resolve/w800/uploads/media/company_media/0003/27/63aace4723543-visuel4-soluciol-imprimerie-cote-ivoire.jpg'},\n {'identifier': 'CI58437277',\n  'company_secteur': 'COMMUNICATION-PUBLICITE',\n  'company_categotie': 'IMPRIMERIES',\n  'company_adress': 'Angré , pharmacie des allées Cocody Abidjan - Côte d’Ivoire',\n  'company_name': 'OTHENTICK ENTREPRISE',\n  'company_email': '',\n  'company_description': 'OTHENTICK structure de prestations de services et commerciales a une équipe d’experts disposant d’un éventail de compétences et d’outils de travaux performants qui font de la société une des meilleures dans les domaine suivants :COMMUNICATIONMARKETINGEVENEMENTIELIMPRIMERIE.Production audiovisuelle, spot radio et téléGraphisme, Design, logotype, charte graphiqueEditionWeb & multimédiaRelations publiques & Relations PresseEvénementiel (salon, foire, concert, mariage, etc...)Cadeaux d’entreprise & objets publicitairesLobbying et intermédiationRéalisation de documents administratifs et commerciauxConseil en Marketing et CommerceSuivi EvaluationCommunication digitaleConception et impression sur tous supports (carte de visite, carte pro, flyers, kakemono, banderole, plaquette commerciale, tee short, polo, casquette, stylo, tasse, clé USB, agenda, bloc note, affiche dos bleu',\n  'company_website': None,\n  'company_url_logo': 'https://www.goafricaonline.com/media/cache/resolve/w200/uploads/media/company_square/0003/21/63809c7c1354f-logo-othentick-entreprise-abidjan-cote-ivoire.jpg',\n  'company_url': 'https://www.goafricaonline.com/ci/649667-othentick-entreprise-imprimeries-abidjan-cote-ivoire',\n  'services': [],\n  'facebook': '',\n  'instagram': '',\n  'linkedin': '',\n  'whatsapp': '',\n  'Lundi': '08H00 — 17H30',\n  'Mardi': '08H00 — 17H30',\n  'Mercredi': '08H00 — 17H30',\n  'Jeudi': '08H00 — 17H30',\n  'Vendredi': '08H00 — 17H30',\n  'Samedi': 'Fermé',\n  'Dimanche': 'Fermé',\n  'image1': 'https://www.goafricaonline.com/media/cache/resolve/w800/uploads/media/company_media/0003/24/639764f347f5f-image1-othentick-entreprise-abidjan-cote-ivoire.jpg',\n  'image2': 'https://www.goafricaonline.com/media/cache/resolve/w800/uploads/media/company_media/0003/24/6397650ef2be4-image2-othentick-entreprise-abidjan-cote-ivoire.jpg',\n  'image3': 'https://www.goafricaonline.com/media/cache/resolve/w800/uploads/media/company_media/0003/24/63976531c34d9-image3-othentick-entreprise-abidjan-cote-ivoire.jpg',\n  'image4': 'https://www.goafricaonline.com/media/cache/resolve/w800/uploads/media/company_media/0003/24/63976550f3c4a-image4-othentick-entreprise-abidjan-cote-ivoire.jpg',\n  'image5': 'https://www.goafricaonline.com/media/cache/resolve/w800/uploads/media/company_media/0003/24/6397656c36be4-image5-othentick-entreprise-abidjan-cote-ivoire.jpg',\n  'image6': 'https://www.goafricaonline.com/media/cache/resolve/w800/uploads/media/company_media/0003/24/639765868635c-image6-othentick-entreprise-abidjan-cote-ivoire.jpg',\n  'image7': 'https://www.goafricaonline.com/media/cache/resolve/w800/uploads/media/company_media/0003/24/6397659d008e1-image7-othentick-entreprise-abidjan-cote-ivoire.jpg',\n  'image8': 'https://www.goafricaonline.com/media/cache/resolve/w800/uploads/media/company_media/0003/24/639766442c9b1-image8-othentick-entreprise-abidjan-cote-ivoire.jpg',\n  'image9': 'https://www.goafricaonline.com/media/cache/resolve/w800/uploads/media/company_media/0003/24/6397666e1561e-image9-othentick-entreprise-abidjan-cote-ivoire.jpg',\n  'image10': 'https://www.goafricaonline.com/media/cache/resolve/w800/uploads/media/company_media/0003/24/639766951944e-image10-othentick-entreprise-abidjan-cote-ivoire.jpg'},\n {'identifier': 'CI17200454',\n  'company_secteur': 'COMMUNICATION-PUBLICITE',\n  'company_categotie': 'IMPRIMERIES',\n  'company_adress': 'Près de Offoumou Yapo - Toits rouges Yopougon - 01 BP 730 Abidjan 01 Abidjan - Côte d’Ivoire',\n  'company_name': 'FORMIAS IMPRIMERIE',\n  'company_email': '',\n  'company_description': \"FORMIAS IMPRIMERIE est une entreprise d'art graphique qui a vu le jour en 2020 sous l'initiative de monsieur SEKELY APPOLOS , PDG de la dite structure.Elle à en son sein 3 activitées majeurs:1- L'IMPRESSION NUMÉRIQUE ET OFFSET :Carte de visite , papier administratifs, flyers, affiches etc.2- L'IMPRESSION TEXTILE ET GADGET PUBLICITAIRES:ce sont des stylos, tee shirt ,polo casquette porte clé , pagne ,parapluie etc.3- L'IMPRESSION INDUSTRIELLE:Panneaux d'affichage, bâche numérique, autocollant, branding, enseigne lumineuse, Totem,étui de savon , étiquette pvc etc.\",\n  'company_website': None,\n  'company_url_logo': 'https://www.goafricaonline.com/media/cache/resolve/w200/uploads/media/company_square/0003/64/64a835fe2ca52-DONE(1).jpg',\n  'company_url': 'https://www.goafricaonline.com/ci/596544-formias-imprimeries-abidjan-cote-ivoire',\n  'services': [],\n  'facebook': 'https://www.facebook.com/p/Formias-Imprimerie-100063861765270/',\n  'instagram': '',\n  'linkedin': 'https://ci.linkedin.com/in/formias-imprimerie-392646205',\n  'whatsapp': ''},\n {'identifier': 'CI22512656',\n  'company_secteur': 'COMMUNICATION-PUBLICITE',\n  'company_categotie': 'IMPRIMERIES',\n  'company_adress': \"220 Logements Près d'Edipress Adjamé Abidjan - Côte d’Ivoire\",\n  'company_name': 'KING KREA',\n  'company_email': '',\n  'company_description': None,\n  'company_website': None,\n  'company_url_logo': 'https://www.goafricaonline.com/media/cache/resolve/w200/uploads/media/company_square/0001/32/5c57f74130edc-logo-king-krea-cote-ivoire.png',\n  'company_url': 'https://www.goafricaonline.com/ci/271698-king-krea-imprimeries-abidjan-cote-ivoire',\n  'services': [],\n  'facebook': '',\n  'instagram': '',\n  'linkedin': '',\n  'whatsapp': 'https://api.whatsapp.com/send?phone=2250757079845&text=Bonjour%2C%20je%20vous%20contacte%20de%20la%20part%20de%20%2AGo%20Africa%20Online%2A%2C%0A',\n  'Lundi': '08H00 — 17H30',\n  'Mardi': '08H00 — 17H30',\n  'Mercredi': '08H00 — 17H30',\n  'Jeudi': '08H00 — 17H30',\n  'Vendredi': '08H00 — 17H30',\n  'Samedi': 'Fermé',\n  'Dimanche': 'Fermé'},\n {'identifier': 'CI24359812',\n  'company_secteur': 'COMMUNICATION-PUBLICITE',\n  'company_categotie': 'IMPRIMERIES',\n  'company_adress': 'Centre commercial Marcory Abidjan - Côte d’Ivoire',\n  'company_name': 'KOSS PRINT',\n  'company_email': '',\n  'company_description': \"Bienvenue chez KOSS PRINT, votre partenaire d'exception pour des services d'impression de haute qualité, une expertise pointue en sérigraphie et une variété d'articles publicitaires innovants. Nous nous démarquons par notre engagement envers l'excellence, la personnalisation et la satisfaction client.Notre entreprise excelle dans l'art de l'impression, offrant des résultats exceptionnels grâce à des technologies de pointe et une équipe dévouée. Des supports marketing aux cartes de visite, nous personnalisons chaque projet pour créer des impressions qui captivent et laissent une impression durable.Au-delà de l'impression, nos prestations diverses sur mesure, telles que la découpe, la reliure et l'embossage, ajoutent une touche distinctive à chaque projet. Nous relevons avec passion le défi de répondre aux attentes les plus élevées de nos clients.Notre expertise en sérigraphie se distingue dans la reproduction précise des couleurs, la durabilité et la qualité visuelle incomparable. Que ce soit sur textiles, affiches ou panneaux publicitaires, nous transformons vos idées en réalité, ajoutant une dimension visuelle exceptionnelle à vos projets.Explorez notre gamme d'articles publicitaires innovants, soigneusement sélectionnés pour promouvoir votre marque de manière mémorable et pratique. Des stylos personnalisés aux cadeaux d'entreprise, chaque produit témoigne de notre engagement envers la qualité et l'impact.Chez KOSS PRINT, chaque projet est unique, et notre équipe est déterminée à offrir des solutions sur mesure qui dépassent les attentes. Notre engagement envers la qualité, la créativité et un service client exceptionnel fait de nous le partenaire idéal pour propulser votre image de marque vers de nouveaux sommets. Faites confiance à KOSS PRINT pour donner vie à vos idées avec élégance et professionnalisme.\",\n  'company_website': None,\n  'company_url_logo': 'https://www.goafricaonline.com/media/cache/resolve/w200/uploads/media/company_square/0003/26/63a1ce7752227-koss-print-abidjan-cote-ivoire.jpg',\n  'company_url': 'https://www.goafricaonline.com/ci/654494-koss-print-imprimeries-publicite-abidjan-cote-ivoire',\n  'services': [],\n  'facebook': '',\n  'instagram': '',\n  'linkedin': '',\n  'whatsapp': ''},\n {'identifier': 'CI19989370',\n  'company_secteur': 'COMMUNICATION-PUBLICITE',\n  'company_categotie': 'IMPRIMERIES',\n  'company_adress': 'C236+QF7, L 160 - Cocody Abidjan Abidjan - Côte d’Ivoire',\n  'company_name': '2A PRESTATIONS',\n  'company_email': '',\n  'company_description': None,\n  'company_website': None,\n  'company_url_logo': None,\n  'company_url': 'https://www.goafricaonline.com/ci/789507-2a-prestations',\n  'services': [],\n  'facebook': '',\n  'instagram': '',\n  'linkedin': '',\n  'whatsapp': '',\n  'Lundi': '08H00 — 17H30',\n  'Mardi': '08H00 — 17H30',\n  'Mercredi': '08H00 — 17H30',\n  'Jeudi': '08H00 — 17H30',\n  'Vendredi': '08H00 — 17H30',\n  'Samedi': 'Fermé',\n  'Dimanche': 'Fermé'},\n {'identifier': 'CI25801470',\n  'company_secteur': 'COMMUNICATION-PUBLICITE',\n  'company_categotie': 'IMPRIMERIES',\n  'company_adress': 'Rue de Dabou - Marcory Abidjan Abidjan - Côte d’Ivoire',\n  'company_name': '2is Plus',\n  'company_email': '',\n  'company_description': None,\n  'company_website': None,\n  'company_url_logo': None,\n  'company_url': 'https://www.goafricaonline.com/ci/789494-2is-plus',\n  'services': [],\n  'facebook': '',\n  'instagram': '',\n  'linkedin': '',\n  'whatsapp': ''},\n {'identifier': 'CI19035365',\n  'company_secteur': 'COMMUNICATION-PUBLICITE',\n  'company_categotie': 'IMPRIMERIES',\n  'company_adress': 'En face de la pharmacie St Christophe - Angré Petro Ivoire Cocody - 08 BP 2589 Abidjan 08 Abidjan - Côte d’Ivoire',\n  'company_name': '4YOUNGMAN COMMUNICATION',\n  'company_email': '',\n  'company_description': None,\n  'company_website': None,\n  'company_url_logo': None,\n  'company_url': 'https://www.goafricaonline.com/ci/132894-4youngman-communication-imprimeries-abidjan-cote-ivoire',\n  'services': [],\n  'facebook': '',\n  'instagram': '',\n  'linkedin': '',\n  'whatsapp': '',\n  'Lundi': '08H00 — 17H30',\n  'Mardi': '08H00 — 17H30',\n  'Mercredi': '08H00 — 17H30',\n  'Jeudi': '08H00 — 17H30',\n  'Vendredi': '08H00 — 17H30',\n  'Samedi': 'Fermé',\n  'Dimanche': 'Fermé'},\n {'identifier': 'CI20590337',\n  'company_secteur': 'COMMUNICATION-PUBLICITE',\n  'company_categotie': 'IMPRIMERIES',\n  'company_adress': '- - Adjamé Abidjan Abidjan - Côte d’Ivoire',\n  'company_name': 'A+IMPRIM',\n  'company_email': '',\n  'company_description': None,\n  'company_website': None,\n  'company_url_logo': None,\n  'company_url': 'https://www.goafricaonline.com/ci/789492-a-imprim',\n  'services': [],\n  'facebook': '',\n  'instagram': '',\n  'linkedin': '',\n  'whatsapp': '',\n  'Lundi': '08H00 — 17H30',\n  'Mardi': '08H00 — 17H30',\n  'Mercredi': '08H00 — 17H30',\n  'Jeudi': '08H00 — 17H30',\n  'Vendredi': '08H00 — 17H30',\n  'Samedi': 'Fermé',\n  'Dimanche': 'Fermé'},\n {'identifier': 'CI45867501',\n  'company_secteur': 'COMMUNICATION-PUBLICITE',\n  'company_categotie': 'IMPRIMERIES',\n  'company_adress': '05 BP 2512 ABIDJAN 05 Abidjan - Cocody - Cocody Abidjan Abidjan - Côte d’Ivoire',\n  'company_name': \"ACCESS INFORMATIQUE (COTE D'IVOIRE)\",\n  'company_email': '',\n  'company_description': None,\n  'company_website': 'https://access-informatique-cote-divoire.business.site/?utm_source=gmb&utm_medium=referral',\n  'company_url_logo': None,\n  'company_url': 'https://www.goafricaonline.com/ci/789483-access-informatique-cote-d-ivoire',\n  'services': [],\n  'facebook': '',\n  'instagram': '',\n  'linkedin': '',\n  'whatsapp': '',\n  'Lundi': '08H00 — 17H30',\n  'Mardi': '08H00 — 17H30',\n  'Mercredi': '08H00 — 17H30',\n  'Jeudi': '08H00 — 17H30',\n  'Vendredi': '08H00 — 17H30',\n  'Samedi': 'Fermé',\n  'Dimanche': 'Fermé'},\n {'identifier': 'CI13552116',\n  'company_secteur': 'COMMUNICATION-PUBLICITE',\n  'company_categotie': 'IMPRIMERIES',\n  'company_adress': 'arrêt - Cocody Abidjan - Côte d’Ivoire',\n  'company_name': 'AGNES-MERE COMMUNICATION',\n  'company_email': '',\n  'company_description': None,\n  'company_website': 'https://www.agnesmere-communication.com',\n  'company_url_logo': None,\n  'company_url': 'https://www.goafricaonline.com/ci/789465-agnes-mere-communication',\n  'services': [],\n  'facebook': '',\n  'instagram': '',\n  'linkedin': '',\n  'whatsapp': '',\n  'Lundi': '08H00 — 17H30',\n  'Mardi': '08H00 — 17H30',\n  'Mercredi': '08H00 — 17H30',\n  'Jeudi': '08H00 — 17H30',\n  'Vendredi': '08H00 — 17H30',\n  'Samedi': 'Fermé',\n  'Dimanche': 'Fermé'},\n {'identifier': 'CI17813117',\n  'company_secteur': 'COMMUNICATION-PUBLICITE',\n  'company_categotie': 'IMPRIMERIES',\n  'company_adress': '5.355116, -4.094959 - Yopougon Abidjan - 21 BP 1161 Abidjan 21 Abidjan - Côte d’Ivoire',\n  'company_name': 'ALADIN',\n  'company_email': '',\n  'company_description': None,\n  'company_website': 'https://aladin.ci',\n  'company_url_logo': None,\n  'company_url': 'https://www.goafricaonline.com/ci/585133-aladin-imprimeries-abidjan-cote-ivoire',\n  'services': [],\n  'facebook': 'https://www.facebook.com/marketplaceimprimerie',\n  'instagram': '',\n  'linkedin': 'https://www.linkedin.com/company/aladin-technology-sarl',\n  'whatsapp': '',\n  'Lundi': '08H00 — 17H30',\n  'Mardi': '08H00 — 17H30',\n  'Mercredi': '08H00 — 17H30',\n  'Jeudi': '08H00 — 17H30',\n  'Vendredi': '08H00 — 17H30',\n  'Samedi': 'Fermé',\n  'Dimanche': 'Fermé'},\n {'identifier': 'CI13615315',\n  'company_secteur': 'COMMUNICATION-PUBLICITE',\n  'company_categotie': 'IMPRIMERIES',\n  'company_adress': '8238+3WG - Marcory Abidjan Abidjan - Côte d’Ivoire',\n  'company_name': \"ALMA services cote d'ivoire\",\n  'company_email': '',\n  'company_description': None,\n  'company_website': None,\n  'company_url_logo': None,\n  'company_url': 'https://www.goafricaonline.com/ci/789322-alma-services-cote-d-ivoire',\n  'services': [],\n  'facebook': '',\n  'instagram': '',\n  'linkedin': '',\n  'whatsapp': '',\n  'Lundi': '08H00 — 17H30',\n  'Mardi': '08H00 — 17H30',\n  'Mercredi': '08H00 — 17H30',\n  'Jeudi': '08H00 — 17H30',\n  'Vendredi': '08H00 — 17H30',\n  'Samedi': 'Fermé',\n  'Dimanche': 'Fermé'},\n {'identifier': 'CI13684506',\n  'company_secteur': 'COMMUNICATION-PUBLICITE',\n  'company_categotie': 'IMPRIMERIES',\n  'company_adress': 'Marcory foyer des jeunes 11 BP 1893 Abidjan 11 - Marcory Abidjan Abidjan - Côte d’Ivoire',\n  'company_name': 'ALMA-SCI Sarl',\n  'company_email': '',\n  'company_description': None,\n  'company_website': None,\n  'company_url_logo': None,\n  'company_url': 'https://www.goafricaonline.com/ci/789501-alma-sci-sarl',\n  'services': [],\n  'facebook': '',\n  'instagram': '',\n  'linkedin': '',\n  'whatsapp': '',\n  'Lundi': '08H00 — 17H30',\n  'Mardi': '08H00 — 17H30',\n  'Mercredi': '08H00 — 17H30',\n  'Jeudi': '08H00 — 17H30',\n  'Vendredi': '08H00 — 17H30',\n  'Samedi': 'Fermé',\n  'Dimanche': 'Fermé'},\n {'identifier': 'CI32940621',\n  'company_secteur': 'COMMUNICATION-PUBLICITE',\n  'company_categotie': 'IMPRIMERIES',\n  'company_adress': 'mairie annexe, yopougon toit-rouge - Yopougon Abidjan Abidjan - Côte d’Ivoire',\n  'company_name': 'ANANIS CORPORATION',\n  'company_email': '',\n  'company_description': None,\n  'company_website': 'https://www.yasse.ci',\n  'company_url_logo': None,\n  'company_url': 'https://www.goafricaonline.com/ci/789324-ananis-corporation',\n  'services': [],\n  'facebook': '',\n  'instagram': '',\n  'linkedin': '',\n  'whatsapp': '',\n  'Lundi': '08H00 — 17H30',\n  'Mardi': '08H00 — 17H30',\n  'Mercredi': '08H00 — 17H30',\n  'Jeudi': '08H00 — 17H30',\n  'Vendredi': '08H00 — 17H30',\n  'Samedi': 'Fermé',\n  'Dimanche': 'Fermé'},\n {'identifier': 'CI13383073',\n  'company_secteur': 'COMMUNICATION-PUBLICITE',\n  'company_categotie': 'IMPRIMERIES',\n  'company_adress': '8WRM+76G - Yopougon Abidjan Abidjan - Côte d’Ivoire',\n  'company_name': 'APCOM YOP',\n  'company_email': '',\n  'company_description': None,\n  'company_website': None,\n  'company_url_logo': None,\n  'company_url': 'https://www.goafricaonline.com/ci/789489-apcom-yop',\n  'services': [],\n  'facebook': '',\n  'instagram': '',\n  'linkedin': '',\n  'whatsapp': ''},\n {'identifier': 'CI48977839',\n  'company_secteur': 'COMMUNICATION-PUBLICITE',\n  'company_categotie': 'IMPRIMERIES',\n  'company_adress': '100 BP Zanzan Bouna - Côte d’Ivoire',\n  'company_name': 'ART ET TECH',\n  'company_email': '',\n  'company_description': None,\n  'company_website': 'https://art-of-tech.business.site/?utm_source=gmb&utm_medium=referral',\n  'company_url_logo': None,\n  'company_url': 'https://www.goafricaonline.com/ci/789326-art-et-tech',\n  'services': [],\n  'facebook': '',\n  'instagram': '',\n  'linkedin': '',\n  'whatsapp': '',\n  'Lundi': '08H00 — 17H30',\n  'Mardi': '08H00 — 17H30',\n  'Mercredi': '08H00 — 17H30',\n  'Jeudi': '08H00 — 17H30',\n  'Vendredi': '08H00 — 17H30',\n  'Samedi': 'Fermé',\n  'Dimanche': 'Fermé'}]"
     },
     "execution_count": 100,
     "metadata": {},
     "output_type": "execute_result"
    }
   ],
   "source": [
    "companies"
   ],
   "metadata": {
    "collapsed": false,
    "ExecuteTime": {
     "end_time": "2024-03-13T11:17:25.278801Z",
     "start_time": "2024-03-13T11:17:25.240368Z"
    }
   },
   "id": "7fc7aaac925161e6",
   "execution_count": 100
  },
  {
   "cell_type": "code",
   "outputs": [
    {
     "data": {
      "text/plain": "50"
     },
     "execution_count": 101,
     "metadata": {},
     "output_type": "execute_result"
    }
   ],
   "source": [
    "len(companies)"
   ],
   "metadata": {
    "collapsed": false,
    "ExecuteTime": {
     "end_time": "2024-03-13T11:17:39.833166Z",
     "start_time": "2024-03-13T11:17:39.828655Z"
    }
   },
   "id": "825bfcc29466112c",
   "execution_count": 101
  },
  {
   "cell_type": "code",
   "outputs": [],
   "source": [
    "df_companies = pd.DataFrame(companies)"
   ],
   "metadata": {
    "collapsed": false,
    "ExecuteTime": {
     "end_time": "2024-03-13T13:48:15.655562Z",
     "start_time": "2024-03-13T13:48:15.650132Z"
    }
   },
   "id": "ced2e33d5de7d3f9",
   "execution_count": 122
  },
  {
   "cell_type": "code",
   "outputs": [
    {
     "data": {
      "text/plain": "   identifier          company_secteur company_categotie  \\\n0  CI30135218  COMMUNICATION-PUBLICITE       IMPRIMERIES   \n1  CI63564825  COMMUNICATION-PUBLICITE       IMPRIMERIES   \n2  CI20065501  COMMUNICATION-PUBLICITE       IMPRIMERIES   \n3  CI22931966  COMMUNICATION-PUBLICITE       IMPRIMERIES   \n4  CI15732640  COMMUNICATION-PUBLICITE       IMPRIMERIES   \n\n                                      company_adress  \\\n0  En face de l’agence MTN et la SGBCI - Riviéra ...   \n1  Face Lycée français Blaise Pascal, Coprim - Ri...   \n2  Près de l’Agence SIB - Siporex Yopougon - 03 B...   \n3  Rue D33 - Ambassade des USA - Riviera Golf Coc...   \n4  Angré , pharmacie des allées Cocody Abidjan - ...   \n\n                 company_name company_email  \\\n0  ALY CARTOUCHE INFORMATIQUE                 \n1                   L'ATELIER                 \n2          IMPRIMERIE LOYAUTE                 \n3         SOLUCIOL IMPRIMERIE                 \n4        OTHENTICK ENTREPRISE                 \n\n                                 company_description        company_website  \\\n0  ALY CARTOUCHE INFORMATIQUE est à votre disposi...                   None   \n1  L’Atelier est une imprimerie de 300 m² à la ri...                   None   \n2  L'IMPRIMERIE LOYAUTE est une imprimerie spécia...                   None   \n3  SOLUCIOL prend en charge votre commande depuis...  https://soluciol.com/   \n4  OTHENTICK structure de prestations de services...                   None   \n\n                                    company_url_logo  \\\n0  https://www.goafricaonline.com/media/cache/res...   \n1  https://www.goafricaonline.com/media/cache/res...   \n2  https://www.goafricaonline.com/media/cache/res...   \n3  https://www.goafricaonline.com/media/cache/res...   \n4  https://www.goafricaonline.com/media/cache/res...   \n\n                                         company_url  ...  \\\n0  https://www.goafricaonline.com/ci/74391-aly-ca...  ...   \n1  https://www.goafricaonline.com/ci/93607-atelie...  ...   \n2  https://www.goafricaonline.com/ci/112401-loyau...  ...   \n3  https://www.goafricaonline.com/ci/109241-soluc...  ...   \n4  https://www.goafricaonline.com/ci/649667-othen...  ...   \n\n                                             image21 image22 image23 image24  \\\n0                                                NaN     NaN     NaN     NaN   \n1                                                NaN     NaN     NaN     NaN   \n2  https://www.goafricaonline.com/media/cache/res...     NaN     NaN     NaN   \n3                                                NaN     NaN     NaN     NaN   \n4                                                NaN     NaN     NaN     NaN   \n\n  image25 image26 image27 image28 image29 image30  \n0     NaN     NaN     NaN     NaN     NaN     NaN  \n1     NaN     NaN     NaN     NaN     NaN     NaN  \n2     NaN     NaN     NaN     NaN     NaN     NaN  \n3     NaN     NaN     NaN     NaN     NaN     NaN  \n4     NaN     NaN     NaN     NaN     NaN     NaN  \n\n[5 rows x 52 columns]",
      "text/html": "<div>\n<style scoped>\n    .dataframe tbody tr th:only-of-type {\n        vertical-align: middle;\n    }\n\n    .dataframe tbody tr th {\n        vertical-align: top;\n    }\n\n    .dataframe thead th {\n        text-align: right;\n    }\n</style>\n<table border=\"1\" class=\"dataframe\">\n  <thead>\n    <tr style=\"text-align: right;\">\n      <th></th>\n      <th>identifier</th>\n      <th>company_secteur</th>\n      <th>company_categotie</th>\n      <th>company_adress</th>\n      <th>company_name</th>\n      <th>company_email</th>\n      <th>company_description</th>\n      <th>company_website</th>\n      <th>company_url_logo</th>\n      <th>company_url</th>\n      <th>...</th>\n      <th>image21</th>\n      <th>image22</th>\n      <th>image23</th>\n      <th>image24</th>\n      <th>image25</th>\n      <th>image26</th>\n      <th>image27</th>\n      <th>image28</th>\n      <th>image29</th>\n      <th>image30</th>\n    </tr>\n  </thead>\n  <tbody>\n    <tr>\n      <th>0</th>\n      <td>CI30135218</td>\n      <td>COMMUNICATION-PUBLICITE</td>\n      <td>IMPRIMERIES</td>\n      <td>En face de l’agence MTN et la SGBCI - Riviéra ...</td>\n      <td>ALY CARTOUCHE INFORMATIQUE</td>\n      <td></td>\n      <td>ALY CARTOUCHE INFORMATIQUE est à votre disposi...</td>\n      <td>None</td>\n      <td>https://www.goafricaonline.com/media/cache/res...</td>\n      <td>https://www.goafricaonline.com/ci/74391-aly-ca...</td>\n      <td>...</td>\n      <td>NaN</td>\n      <td>NaN</td>\n      <td>NaN</td>\n      <td>NaN</td>\n      <td>NaN</td>\n      <td>NaN</td>\n      <td>NaN</td>\n      <td>NaN</td>\n      <td>NaN</td>\n      <td>NaN</td>\n    </tr>\n    <tr>\n      <th>1</th>\n      <td>CI63564825</td>\n      <td>COMMUNICATION-PUBLICITE</td>\n      <td>IMPRIMERIES</td>\n      <td>Face Lycée français Blaise Pascal, Coprim - Ri...</td>\n      <td>L'ATELIER</td>\n      <td></td>\n      <td>L’Atelier est une imprimerie de 300 m² à la ri...</td>\n      <td>None</td>\n      <td>https://www.goafricaonline.com/media/cache/res...</td>\n      <td>https://www.goafricaonline.com/ci/93607-atelie...</td>\n      <td>...</td>\n      <td>NaN</td>\n      <td>NaN</td>\n      <td>NaN</td>\n      <td>NaN</td>\n      <td>NaN</td>\n      <td>NaN</td>\n      <td>NaN</td>\n      <td>NaN</td>\n      <td>NaN</td>\n      <td>NaN</td>\n    </tr>\n    <tr>\n      <th>2</th>\n      <td>CI20065501</td>\n      <td>COMMUNICATION-PUBLICITE</td>\n      <td>IMPRIMERIES</td>\n      <td>Près de l’Agence SIB - Siporex Yopougon - 03 B...</td>\n      <td>IMPRIMERIE LOYAUTE</td>\n      <td></td>\n      <td>L'IMPRIMERIE LOYAUTE est une imprimerie spécia...</td>\n      <td>None</td>\n      <td>https://www.goafricaonline.com/media/cache/res...</td>\n      <td>https://www.goafricaonline.com/ci/112401-loyau...</td>\n      <td>...</td>\n      <td>https://www.goafricaonline.com/media/cache/res...</td>\n      <td>NaN</td>\n      <td>NaN</td>\n      <td>NaN</td>\n      <td>NaN</td>\n      <td>NaN</td>\n      <td>NaN</td>\n      <td>NaN</td>\n      <td>NaN</td>\n      <td>NaN</td>\n    </tr>\n    <tr>\n      <th>3</th>\n      <td>CI22931966</td>\n      <td>COMMUNICATION-PUBLICITE</td>\n      <td>IMPRIMERIES</td>\n      <td>Rue D33 - Ambassade des USA - Riviera Golf Coc...</td>\n      <td>SOLUCIOL IMPRIMERIE</td>\n      <td></td>\n      <td>SOLUCIOL prend en charge votre commande depuis...</td>\n      <td>https://soluciol.com/</td>\n      <td>https://www.goafricaonline.com/media/cache/res...</td>\n      <td>https://www.goafricaonline.com/ci/109241-soluc...</td>\n      <td>...</td>\n      <td>NaN</td>\n      <td>NaN</td>\n      <td>NaN</td>\n      <td>NaN</td>\n      <td>NaN</td>\n      <td>NaN</td>\n      <td>NaN</td>\n      <td>NaN</td>\n      <td>NaN</td>\n      <td>NaN</td>\n    </tr>\n    <tr>\n      <th>4</th>\n      <td>CI15732640</td>\n      <td>COMMUNICATION-PUBLICITE</td>\n      <td>IMPRIMERIES</td>\n      <td>Angré , pharmacie des allées Cocody Abidjan - ...</td>\n      <td>OTHENTICK ENTREPRISE</td>\n      <td></td>\n      <td>OTHENTICK structure de prestations de services...</td>\n      <td>None</td>\n      <td>https://www.goafricaonline.com/media/cache/res...</td>\n      <td>https://www.goafricaonline.com/ci/649667-othen...</td>\n      <td>...</td>\n      <td>NaN</td>\n      <td>NaN</td>\n      <td>NaN</td>\n      <td>NaN</td>\n      <td>NaN</td>\n      <td>NaN</td>\n      <td>NaN</td>\n      <td>NaN</td>\n      <td>NaN</td>\n      <td>NaN</td>\n    </tr>\n  </tbody>\n</table>\n<p>5 rows × 52 columns</p>\n</div>"
     },
     "execution_count": 123,
     "metadata": {},
     "output_type": "execute_result"
    }
   ],
   "source": [
    "df_companies.head()"
   ],
   "metadata": {
    "collapsed": false,
    "ExecuteTime": {
     "end_time": "2024-03-13T13:48:17.670264Z",
     "start_time": "2024-03-13T13:48:17.651199Z"
    }
   },
   "id": "82a082e8c52848d9",
   "execution_count": 123
  },
  {
   "cell_type": "code",
   "outputs": [],
   "source": [
    "df_companies.to_excel('Resultats/compagnies_data_test.xlsx', index=False, engine='openpyxl')"
   ],
   "metadata": {
    "collapsed": false,
    "ExecuteTime": {
     "end_time": "2024-03-13T11:20:27.583981Z",
     "start_time": "2024-03-13T11:20:27.517605Z"
    }
   },
   "id": "a5961b421a91b064",
   "execution_count": 104
  },
  {
   "cell_type": "code",
   "outputs": [
    {
     "data": {
      "text/plain": "['Publicité sur Lieu de Vente (PLV)',\n 'Factures normalisée',\n 'Bloc note',\n 'Sacs cabas personnalisés',\n 'Calendrier',\n 'Affiche',\n 'Tous travaux de polyester',\n 'Etui de savon',\n 'Construction Métallique',\n 'Impression sur T.Shirt',\n 'Branding de véhicules  toutes catégories',\n 'Kakémono',\n 'Carnet de facture',\n 'Gadgets',\n 'La sérigraphie sur gadgets publicitaires',\n 'Carte de visite',\n 'Impressions Numériques',\n 'Impression numérique',\n 'Cartes de visite',\n 'Prospectus',\n 'Confection de sac Cabas',\n 'Infographie (création graphique)',\n 'Impressions de haute qualité (offset et numérique)',\n 'Décorations publicitaires indoor et outdoor',\n \"Tout type d'Impression\",\n 'Enseignes lumineuses',\n 'Impression de tee-shirt']"
     },
     "execution_count": 125,
     "metadata": {},
     "output_type": "execute_result"
    }
   ],
   "source": [
    "# Liste pour stocker les valeurs extraites\n",
    "valeurs_extraites = []\n",
    "\n",
    "# Boucle pour parcourir chaque élément de la colonne 'services'\n",
    "for service in df_companies['services']:\n",
    "    if isinstance(service, list):  # Vérifier si c'est une liste\n",
    "        valeurs_extraites.extend(service)  # Ajouter les éléments à la liste\n",
    "    elif isinstance(service, str):  # Vérifier si c'est une chaîne de caractères\n",
    "        # Extraire les éléments et les ajouter à la liste\n",
    "        valeurs_extraites.extend([s.strip() for s in service.strip('[]').split(',') if s.strip()])  \n",
    "\n",
    "# Supprimer les doublons et conserver l'ordre\n",
    "valeurs_extraites = list(set(valeurs_extraites))\n",
    "\n",
    "# Afficher la liste des valeurs extraites\n",
    "valeurs_extraites\n"
   ],
   "metadata": {
    "collapsed": false,
    "ExecuteTime": {
     "end_time": "2024-03-13T13:49:22.780188Z",
     "start_time": "2024-03-13T13:49:22.772261Z"
    }
   },
   "id": "19262a42c56209d7",
   "execution_count": 125
  }
 ],
 "metadata": {
  "kernelspec": {
   "display_name": "Python 3",
   "language": "python",
   "name": "python3"
  },
  "language_info": {
   "codemirror_mode": {
    "name": "ipython",
    "version": 2
   },
   "file_extension": ".py",
   "mimetype": "text/x-python",
   "name": "python",
   "nbconvert_exporter": "python",
   "pygments_lexer": "ipython2",
   "version": "2.7.6"
  }
 },
 "nbformat": 4,
 "nbformat_minor": 5
}
