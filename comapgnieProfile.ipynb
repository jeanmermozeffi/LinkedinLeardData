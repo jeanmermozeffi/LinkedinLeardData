{
 "cells": [
  {
   "cell_type": "code",
   "execution_count": 2,
   "id": "initial_id",
   "metadata": {
    "collapsed": true,
    "ExecuteTime": {
     "end_time": "2024-03-04T15:26:30.682836Z",
     "start_time": "2024-03-04T15:26:15.764336Z"
    }
   },
   "outputs": [],
   "source": [
    "import os\n",
    "import pandas as pd\n",
    "import matplotlib.pyplot as plt"
   ]
  },
  {
   "cell_type": "code",
   "outputs": [],
   "source": [
    "data_path = '/Users/jeanmermozeffi/Documents/DDMA/DATA CAPTAIN/Data/Lead_compagnie.csv'"
   ],
   "metadata": {
    "collapsed": false,
    "ExecuteTime": {
     "end_time": "2024-01-24T11:32:51.334794Z",
     "start_time": "2024-01-24T11:32:51.320491Z"
    }
   },
   "id": "8ca4c4b5d2bbaf85",
   "execution_count": 9
  },
  {
   "cell_type": "code",
   "outputs": [
    {
     "ename": "NameError",
     "evalue": "name 'pd' is not defined",
     "output_type": "error",
     "traceback": [
      "\u001B[0;31m---------------------------------------------------------------------------\u001B[0m",
      "\u001B[0;31mNameError\u001B[0m                                 Traceback (most recent call last)",
      "Cell \u001B[0;32mIn[1], line 1\u001B[0m\n\u001B[0;32m----> 1\u001B[0m df_raw \u001B[38;5;241m=\u001B[39m \u001B[43mpd\u001B[49m\u001B[38;5;241m.\u001B[39mread_csv(data_path)\n\u001B[1;32m      2\u001B[0m df_raw\u001B[38;5;241m.\u001B[39mhead()\n",
      "\u001B[0;31mNameError\u001B[0m: name 'pd' is not defined"
     ]
    }
   ],
   "source": [
    "df_raw = pd.read_csv(data_path)\n",
    "df_raw.head()"
   ],
   "metadata": {
    "collapsed": false,
    "ExecuteTime": {
     "end_time": "2024-03-04T15:26:08.348073Z",
     "start_time": "2024-03-04T15:26:07.996500Z"
    }
   },
   "id": "1d48dbccc380e96a",
   "execution_count": 1
  },
  {
   "cell_type": "code",
   "outputs": [
    {
     "data": {
      "text/plain": "(495, 103)"
     },
     "execution_count": 8,
     "metadata": {},
     "output_type": "execute_result"
    }
   ],
   "source": [
    "df_raw.shape"
   ],
   "metadata": {
    "collapsed": false,
    "ExecuteTime": {
     "end_time": "2024-01-24T11:30:57.982115Z",
     "start_time": "2024-01-24T11:30:57.966850Z"
    }
   },
   "id": "52dcc4662ce431ad",
   "execution_count": 8
  },
  {
   "cell_type": "code",
   "outputs": [],
   "source": [
    "path_data_mail = '/Users/jeanmermozeffi/Documents/DDMA/DATA CAPTAIN/Data/mailing.csv'"
   ],
   "metadata": {
    "collapsed": false,
    "ExecuteTime": {
     "end_time": "2024-01-24T14:25:48.372353Z",
     "start_time": "2024-01-24T14:25:48.364158Z"
    }
   },
   "id": "568565a036dd3297",
   "execution_count": 13
  },
  {
   "cell_type": "code",
   "outputs": [
    {
     "data": {
      "text/plain": "  birth_date  civility company_city company_country company_crunchbase_url  \\\n0        NaN       NaN          NaN             NaN                    NaN   \n1        NaN       NaN          NaN             NaN                    NaN   \n2        NaN       NaN      Cotonou              BJ                    NaN   \n3        NaN       NaN          NaN             NaN                    NaN   \n4        NaN       NaN          NaN             NaN                    NaN   \n\n                                 company_description  \\\n0                                                NaN   \n1                                                NaN   \n2  D.A.N IMMOBILIA CORPORATION est une entreprise...   \n3                                                NaN   \n4                                                NaN   \n\n             company_domain  company_employee_metrics  \\\n0                       NaN                       NaN   \n1                       NaN                       NaN   \n2  immobiliacorporation.com                       NaN   \n3                       NaN                       NaN   \n4                       NaN                       NaN   \n\n   company_employees_count company_employees_estimate  ... siret  \\\n0                      NaN                        NaN  ...   NaN   \n1                      NaN                        NaN  ...   NaN   \n2                      1.0                      11-50  ...   NaN   \n3                      NaN                        NaN  ...   NaN   \n4                      NaN                        NaN  ...   NaN   \n\n                                              skills       source  \\\n0                                                 []  captaindata   \n1                                                 []  captaindata   \n2  [\"Business\", \"Génie civil\", \"Ingénieurs\", \"Amé...          NaN   \n3  [\"Développement de nouvelles affaires\", \"Lean ...          NaN   \n4  [\"Gestion de projet\", \"Microsoft Office\", \"Pla...          NaN   \n\n                                           start_url  \\\n0     https://www.linkedin.com/in/jean-yves-2aa5b519   \n1  https://www.linkedin.com/in/ibrahima-sow-53668391   \n2  https://www.linkedin.com/in/epiphane-maldini-b...   \n3  https://www.linkedin.com/in/guillaume-nguyen-8...   \n4  https://www.linkedin.com/in/darwiche-ibrahim-b...   \n\n                                             summary  \\\n0                                                NaN   \n1                                                NaN   \n2  INGENIEUR GENIE CIVIL, Diplômé de l'Ecole Maro...   \n3  Fondations spéciales, Travaux publics,  Genie ...   \n4                                                NaN   \n\n                         title               tracking_id twitter  \\\n0            Directeur General  WLveDVeFSjuSEIyuyS8MjA==     NaN   \n1            Directeur Général  ZYohuwt1RiatDDo4ugSLCQ==     NaN   \n2  Président-Directeur Général  rkY3U88oQDaj/ewagkiBHw==     NaN   \n3            Directeur Général  ZfIHmZlLQJeTKkFYE0CRMw==     NaN   \n4            Directeur Général  j5YGz+PFQpWCgR0aOtWaMQ==     NaN   \n\n                               volunteer_experiences  \\\n0                                                 []   \n1                                                 []   \n2  [{\"role\": \"Président Commission Jeune Générati...   \n3                                                 []   \n4                                                 []   \n\n                               website  \n0                                  NaN  \n1                                  NaN  \n2  http://www.immobiliacorporation.com  \n3                                  NaN  \n4                                  NaN  \n\n[5 rows x 113 columns]",
      "text/html": "<div>\n<style scoped>\n    .dataframe tbody tr th:only-of-type {\n        vertical-align: middle;\n    }\n\n    .dataframe tbody tr th {\n        vertical-align: top;\n    }\n\n    .dataframe thead th {\n        text-align: right;\n    }\n</style>\n<table border=\"1\" class=\"dataframe\">\n  <thead>\n    <tr style=\"text-align: right;\">\n      <th></th>\n      <th>birth_date</th>\n      <th>civility</th>\n      <th>company_city</th>\n      <th>company_country</th>\n      <th>company_crunchbase_url</th>\n      <th>company_description</th>\n      <th>company_domain</th>\n      <th>company_employee_metrics</th>\n      <th>company_employees_count</th>\n      <th>company_employees_estimate</th>\n      <th>...</th>\n      <th>siret</th>\n      <th>skills</th>\n      <th>source</th>\n      <th>start_url</th>\n      <th>summary</th>\n      <th>title</th>\n      <th>tracking_id</th>\n      <th>twitter</th>\n      <th>volunteer_experiences</th>\n      <th>website</th>\n    </tr>\n  </thead>\n  <tbody>\n    <tr>\n      <th>0</th>\n      <td>NaN</td>\n      <td>NaN</td>\n      <td>NaN</td>\n      <td>NaN</td>\n      <td>NaN</td>\n      <td>NaN</td>\n      <td>NaN</td>\n      <td>NaN</td>\n      <td>NaN</td>\n      <td>NaN</td>\n      <td>...</td>\n      <td>NaN</td>\n      <td>[]</td>\n      <td>captaindata</td>\n      <td>https://www.linkedin.com/in/jean-yves-2aa5b519</td>\n      <td>NaN</td>\n      <td>Directeur General</td>\n      <td>WLveDVeFSjuSEIyuyS8MjA==</td>\n      <td>NaN</td>\n      <td>[]</td>\n      <td>NaN</td>\n    </tr>\n    <tr>\n      <th>1</th>\n      <td>NaN</td>\n      <td>NaN</td>\n      <td>NaN</td>\n      <td>NaN</td>\n      <td>NaN</td>\n      <td>NaN</td>\n      <td>NaN</td>\n      <td>NaN</td>\n      <td>NaN</td>\n      <td>NaN</td>\n      <td>...</td>\n      <td>NaN</td>\n      <td>[]</td>\n      <td>captaindata</td>\n      <td>https://www.linkedin.com/in/ibrahima-sow-53668391</td>\n      <td>NaN</td>\n      <td>Directeur Général</td>\n      <td>ZYohuwt1RiatDDo4ugSLCQ==</td>\n      <td>NaN</td>\n      <td>[]</td>\n      <td>NaN</td>\n    </tr>\n    <tr>\n      <th>2</th>\n      <td>NaN</td>\n      <td>NaN</td>\n      <td>Cotonou</td>\n      <td>BJ</td>\n      <td>NaN</td>\n      <td>D.A.N IMMOBILIA CORPORATION est une entreprise...</td>\n      <td>immobiliacorporation.com</td>\n      <td>NaN</td>\n      <td>1.0</td>\n      <td>11-50</td>\n      <td>...</td>\n      <td>NaN</td>\n      <td>[\"Business\", \"Génie civil\", \"Ingénieurs\", \"Amé...</td>\n      <td>NaN</td>\n      <td>https://www.linkedin.com/in/epiphane-maldini-b...</td>\n      <td>INGENIEUR GENIE CIVIL, Diplômé de l'Ecole Maro...</td>\n      <td>Président-Directeur Général</td>\n      <td>rkY3U88oQDaj/ewagkiBHw==</td>\n      <td>NaN</td>\n      <td>[{\"role\": \"Président Commission Jeune Générati...</td>\n      <td>http://www.immobiliacorporation.com</td>\n    </tr>\n    <tr>\n      <th>3</th>\n      <td>NaN</td>\n      <td>NaN</td>\n      <td>NaN</td>\n      <td>NaN</td>\n      <td>NaN</td>\n      <td>NaN</td>\n      <td>NaN</td>\n      <td>NaN</td>\n      <td>NaN</td>\n      <td>NaN</td>\n      <td>...</td>\n      <td>NaN</td>\n      <td>[\"Développement de nouvelles affaires\", \"Lean ...</td>\n      <td>NaN</td>\n      <td>https://www.linkedin.com/in/guillaume-nguyen-8...</td>\n      <td>Fondations spéciales, Travaux publics,  Genie ...</td>\n      <td>Directeur Général</td>\n      <td>ZfIHmZlLQJeTKkFYE0CRMw==</td>\n      <td>NaN</td>\n      <td>[]</td>\n      <td>NaN</td>\n    </tr>\n    <tr>\n      <th>4</th>\n      <td>NaN</td>\n      <td>NaN</td>\n      <td>NaN</td>\n      <td>NaN</td>\n      <td>NaN</td>\n      <td>NaN</td>\n      <td>NaN</td>\n      <td>NaN</td>\n      <td>NaN</td>\n      <td>NaN</td>\n      <td>...</td>\n      <td>NaN</td>\n      <td>[\"Gestion de projet\", \"Microsoft Office\", \"Pla...</td>\n      <td>NaN</td>\n      <td>https://www.linkedin.com/in/darwiche-ibrahim-b...</td>\n      <td>NaN</td>\n      <td>Directeur Général</td>\n      <td>j5YGz+PFQpWCgR0aOtWaMQ==</td>\n      <td>NaN</td>\n      <td>[]</td>\n      <td>NaN</td>\n    </tr>\n  </tbody>\n</table>\n<p>5 rows × 113 columns</p>\n</div>"
     },
     "execution_count": 14,
     "metadata": {},
     "output_type": "execute_result"
    }
   ],
   "source": [
    "data_mail_raw = pd.read_csv(path_data_mail)\n",
    "data_mail_raw.head()"
   ],
   "metadata": {
    "collapsed": false,
    "ExecuteTime": {
     "end_time": "2024-01-24T14:25:50.878938Z",
     "start_time": "2024-01-24T14:25:50.654783Z"
    }
   },
   "id": "d073f894fd482d8b",
   "execution_count": 14
  },
  {
   "cell_type": "code",
   "outputs": [
    {
     "data": {
      "text/plain": "    birth_date  civility company_city company_country company_crunchbase_url  \\\n0          NaN       NaN          NaN             NaN                    NaN   \n1          NaN       NaN          NaN             NaN                    NaN   \n25         NaN       NaN      Abidjan              CI                    NaN   \n29  October 25       NaN          NaN             NaN                    NaN   \n32         NaN       NaN          NaN             NaN                    NaN   \n\n                                  company_description company_domain  \\\n0                                                 NaN            NaN   \n1                                                 NaN            NaN   \n25  3H WORKS est une entreprise prestataire de ser...    3hworks.com   \n29                                                NaN            NaN   \n32                                                NaN            NaN   \n\n    company_employee_metrics  company_employees_count  \\\n0                        NaN                      NaN   \n1                        NaN                      NaN   \n25                       NaN                      2.0   \n29                       NaN                      NaN   \n32                       NaN                      NaN   \n\n   company_employees_estimate  ... siret  \\\n0                         NaN  ...   NaN   \n1                         NaN  ...   NaN   \n25                       2-10  ...   NaN   \n29                        NaN  ...   NaN   \n32                        NaN  ...   NaN   \n\n                                               skills       source  \\\n0                                                  []  captaindata   \n1                                                  []  captaindata   \n25                                                 []  captaindata   \n29  [\"Logistics\", \"Supply Chain Management\", \"Supp...  captaindata   \n32                                                 []  captaindata   \n\n                                            start_url  \\\n0      https://www.linkedin.com/in/jean-yves-2aa5b519   \n1   https://www.linkedin.com/in/ibrahima-sow-53668391   \n25  https://www.linkedin.com/in/hermann-okon-9a1b8388   \n29  https://www.linkedin.com/in/siambou-ouattara-6...   \n32  https://www.linkedin.com/in/evariste-tassembed...   \n\n                                              summary              title  \\\n0                                                 NaN  Directeur General   \n1                                                 NaN  Directeur Général   \n25                                                NaN  Directeur Général   \n29  Rigoureux et passionné de la Supply Chain, j'o...  Directeur Général   \n32                                                NaN  Directeur Général   \n\n                 tracking_id twitter volunteer_experiences  \\\n0   WLveDVeFSjuSEIyuyS8MjA==     NaN                    []   \n1   ZYohuwt1RiatDDo4ugSLCQ==     NaN                    []   \n25  Yiyq3gw5SQutCILpkMEXBg==     NaN                    []   \n29  tRZT14UjRiyBJvmYk9nEJA==     NaN                    []   \n32  W1MdUB+jRVm6rpsU8X62Yw==     NaN                    []   \n\n                   website  \n0                      NaN  \n1                      NaN  \n25  http://www.3hworks.com  \n29                     NaN  \n32                     NaN  \n\n[5 rows x 113 columns]",
      "text/html": "<div>\n<style scoped>\n    .dataframe tbody tr th:only-of-type {\n        vertical-align: middle;\n    }\n\n    .dataframe tbody tr th {\n        vertical-align: top;\n    }\n\n    .dataframe thead th {\n        text-align: right;\n    }\n</style>\n<table border=\"1\" class=\"dataframe\">\n  <thead>\n    <tr style=\"text-align: right;\">\n      <th></th>\n      <th>birth_date</th>\n      <th>civility</th>\n      <th>company_city</th>\n      <th>company_country</th>\n      <th>company_crunchbase_url</th>\n      <th>company_description</th>\n      <th>company_domain</th>\n      <th>company_employee_metrics</th>\n      <th>company_employees_count</th>\n      <th>company_employees_estimate</th>\n      <th>...</th>\n      <th>siret</th>\n      <th>skills</th>\n      <th>source</th>\n      <th>start_url</th>\n      <th>summary</th>\n      <th>title</th>\n      <th>tracking_id</th>\n      <th>twitter</th>\n      <th>volunteer_experiences</th>\n      <th>website</th>\n    </tr>\n  </thead>\n  <tbody>\n    <tr>\n      <th>0</th>\n      <td>NaN</td>\n      <td>NaN</td>\n      <td>NaN</td>\n      <td>NaN</td>\n      <td>NaN</td>\n      <td>NaN</td>\n      <td>NaN</td>\n      <td>NaN</td>\n      <td>NaN</td>\n      <td>NaN</td>\n      <td>...</td>\n      <td>NaN</td>\n      <td>[]</td>\n      <td>captaindata</td>\n      <td>https://www.linkedin.com/in/jean-yves-2aa5b519</td>\n      <td>NaN</td>\n      <td>Directeur General</td>\n      <td>WLveDVeFSjuSEIyuyS8MjA==</td>\n      <td>NaN</td>\n      <td>[]</td>\n      <td>NaN</td>\n    </tr>\n    <tr>\n      <th>1</th>\n      <td>NaN</td>\n      <td>NaN</td>\n      <td>NaN</td>\n      <td>NaN</td>\n      <td>NaN</td>\n      <td>NaN</td>\n      <td>NaN</td>\n      <td>NaN</td>\n      <td>NaN</td>\n      <td>NaN</td>\n      <td>...</td>\n      <td>NaN</td>\n      <td>[]</td>\n      <td>captaindata</td>\n      <td>https://www.linkedin.com/in/ibrahima-sow-53668391</td>\n      <td>NaN</td>\n      <td>Directeur Général</td>\n      <td>ZYohuwt1RiatDDo4ugSLCQ==</td>\n      <td>NaN</td>\n      <td>[]</td>\n      <td>NaN</td>\n    </tr>\n    <tr>\n      <th>25</th>\n      <td>NaN</td>\n      <td>NaN</td>\n      <td>Abidjan</td>\n      <td>CI</td>\n      <td>NaN</td>\n      <td>3H WORKS est une entreprise prestataire de ser...</td>\n      <td>3hworks.com</td>\n      <td>NaN</td>\n      <td>2.0</td>\n      <td>2-10</td>\n      <td>...</td>\n      <td>NaN</td>\n      <td>[]</td>\n      <td>captaindata</td>\n      <td>https://www.linkedin.com/in/hermann-okon-9a1b8388</td>\n      <td>NaN</td>\n      <td>Directeur Général</td>\n      <td>Yiyq3gw5SQutCILpkMEXBg==</td>\n      <td>NaN</td>\n      <td>[]</td>\n      <td>http://www.3hworks.com</td>\n    </tr>\n    <tr>\n      <th>29</th>\n      <td>October 25</td>\n      <td>NaN</td>\n      <td>NaN</td>\n      <td>NaN</td>\n      <td>NaN</td>\n      <td>NaN</td>\n      <td>NaN</td>\n      <td>NaN</td>\n      <td>NaN</td>\n      <td>NaN</td>\n      <td>...</td>\n      <td>NaN</td>\n      <td>[\"Logistics\", \"Supply Chain Management\", \"Supp...</td>\n      <td>captaindata</td>\n      <td>https://www.linkedin.com/in/siambou-ouattara-6...</td>\n      <td>Rigoureux et passionné de la Supply Chain, j'o...</td>\n      <td>Directeur Général</td>\n      <td>tRZT14UjRiyBJvmYk9nEJA==</td>\n      <td>NaN</td>\n      <td>[]</td>\n      <td>NaN</td>\n    </tr>\n    <tr>\n      <th>32</th>\n      <td>NaN</td>\n      <td>NaN</td>\n      <td>NaN</td>\n      <td>NaN</td>\n      <td>NaN</td>\n      <td>NaN</td>\n      <td>NaN</td>\n      <td>NaN</td>\n      <td>NaN</td>\n      <td>NaN</td>\n      <td>...</td>\n      <td>NaN</td>\n      <td>[]</td>\n      <td>captaindata</td>\n      <td>https://www.linkedin.com/in/evariste-tassembed...</td>\n      <td>NaN</td>\n      <td>Directeur Général</td>\n      <td>W1MdUB+jRVm6rpsU8X62Yw==</td>\n      <td>NaN</td>\n      <td>[]</td>\n      <td>NaN</td>\n    </tr>\n  </tbody>\n</table>\n<p>5 rows × 113 columns</p>\n</div>"
     },
     "execution_count": 27,
     "metadata": {},
     "output_type": "execute_result"
    }
   ],
   "source": [
    "df_with_email = data_mail_raw[data_mail_raw['email'].str.contains(r'\\b[A-Za-z0-9._%+-]+@[A-Za-z0-9.-]+\\.[A-Z|a-z]{2,}\\b', na=False, regex=True)]\n",
    "df_with_email.head()"
   ],
   "metadata": {
    "collapsed": false,
    "ExecuteTime": {
     "end_time": "2024-01-24T14:34:05.571005Z",
     "start_time": "2024-01-24T14:34:05.360056Z"
    }
   },
   "id": "996a5d903164b26",
   "execution_count": 27
  },
  {
   "cell_type": "code",
   "outputs": [],
   "source": [
    "columns = ['email','first_name','last_name', 'email_status', 'linkedin_profile_id', 'current_company_name', 'current_job_title', 'job_title', 'domain', 'industry', 'linkedin_profile_url', 'location', 'number_connections', 'number_followers']"
   ],
   "metadata": {
    "collapsed": false,
    "ExecuteTime": {
     "end_time": "2024-01-24T15:22:20.248744Z",
     "start_time": "2024-01-24T15:22:20.237885Z"
    }
   },
   "id": "4d0ac872b375a97d",
   "execution_count": 30
  },
  {
   "cell_type": "code",
   "outputs": [],
   "source": [
    "df_with_email = df_with_email[columns]"
   ],
   "metadata": {
    "collapsed": false,
    "ExecuteTime": {
     "end_time": "2024-01-24T15:22:56.915865Z",
     "start_time": "2024-01-24T15:22:56.900217Z"
    }
   },
   "id": "97d08ab56ee59e69",
   "execution_count": 31
  },
  {
   "cell_type": "code",
   "outputs": [
    {
     "data": {
      "text/plain": "(50, 14)"
     },
     "execution_count": 35,
     "metadata": {},
     "output_type": "execute_result"
    }
   ],
   "source": [
    "df_with_email.shape"
   ],
   "metadata": {
    "collapsed": false,
    "ExecuteTime": {
     "end_time": "2024-01-24T15:23:30.068302Z",
     "start_time": "2024-01-24T15:23:30.058677Z"
    }
   },
   "id": "86c9034df306978b",
   "execution_count": 35
  },
  {
   "cell_type": "code",
   "outputs": [
    {
     "data": {
      "text/plain": "                          email first_name   last_name email_status  \\\n0       jean.yves@clubalize.com       Jean        Yves        Valid   \n1         ibrahima@piabenin.com   Ibrahima         Sow        Valid   \n25             okon@3hworks.com    Hermann        Okon        Valid   \n29           ouattara@unhcr.org    Siambou    Ouattara        Valid   \n32  etassembedo@eservicessa.com   Evariste  Tassembedo        Valid   \n\n    linkedin_profile_id    current_company_name  current_job_title  \\\n0              64186978              Alizé Club  directeur general   \n1             327137082          Pia Benin Sarl  Directeur Général   \n25            313451977                3H Works  Directeur Général   \n29            144218051  Agence Hidayah Transit  Directeur Général   \n32            160122483           E-Services Sa  Directeur Général   \n\n            job_title           domain                           industry  \\\n0   Directeur General    clubalize.com  Information Technology & Services   \n1   Directeur Général     piabenin.com                  Civil Engineering   \n25  Directeur Général      3hworks.com  Information Technology & Services   \n29  Directeur Général        unhcr.org              Management Consulting   \n32  Directeur Général  eservicessa.com        Computer & Network Security   \n\n                                 linkedin_profile_url       location  \\\n0      https://www.linkedin.com/in/jean-yves-2aa5b519  Côte d'Ivoire   \n1   https://www.linkedin.com/in/ibrahima-sow-53668391          Benin   \n25  https://www.linkedin.com/in/hermann-okon-9a1b8388  Côte d'Ivoire   \n29  https://www.linkedin.com/in/siambou-ouattara-6...  Côte d'Ivoire   \n32  https://www.linkedin.com/in/evariste-tassembed...   Burkina Faso   \n\n    number_connections  number_followers  \n0                  181               181  \n1                  189               189  \n25                 241               243  \n29                 673               675  \n32                  53                56  ",
      "text/html": "<div>\n<style scoped>\n    .dataframe tbody tr th:only-of-type {\n        vertical-align: middle;\n    }\n\n    .dataframe tbody tr th {\n        vertical-align: top;\n    }\n\n    .dataframe thead th {\n        text-align: right;\n    }\n</style>\n<table border=\"1\" class=\"dataframe\">\n  <thead>\n    <tr style=\"text-align: right;\">\n      <th></th>\n      <th>email</th>\n      <th>first_name</th>\n      <th>last_name</th>\n      <th>email_status</th>\n      <th>linkedin_profile_id</th>\n      <th>current_company_name</th>\n      <th>current_job_title</th>\n      <th>job_title</th>\n      <th>domain</th>\n      <th>industry</th>\n      <th>linkedin_profile_url</th>\n      <th>location</th>\n      <th>number_connections</th>\n      <th>number_followers</th>\n    </tr>\n  </thead>\n  <tbody>\n    <tr>\n      <th>0</th>\n      <td>jean.yves@clubalize.com</td>\n      <td>Jean</td>\n      <td>Yves</td>\n      <td>Valid</td>\n      <td>64186978</td>\n      <td>Alizé Club</td>\n      <td>directeur general</td>\n      <td>Directeur General</td>\n      <td>clubalize.com</td>\n      <td>Information Technology &amp; Services</td>\n      <td>https://www.linkedin.com/in/jean-yves-2aa5b519</td>\n      <td>Côte d'Ivoire</td>\n      <td>181</td>\n      <td>181</td>\n    </tr>\n    <tr>\n      <th>1</th>\n      <td>ibrahima@piabenin.com</td>\n      <td>Ibrahima</td>\n      <td>Sow</td>\n      <td>Valid</td>\n      <td>327137082</td>\n      <td>Pia Benin Sarl</td>\n      <td>Directeur Général</td>\n      <td>Directeur Général</td>\n      <td>piabenin.com</td>\n      <td>Civil Engineering</td>\n      <td>https://www.linkedin.com/in/ibrahima-sow-53668391</td>\n      <td>Benin</td>\n      <td>189</td>\n      <td>189</td>\n    </tr>\n    <tr>\n      <th>25</th>\n      <td>okon@3hworks.com</td>\n      <td>Hermann</td>\n      <td>Okon</td>\n      <td>Valid</td>\n      <td>313451977</td>\n      <td>3H Works</td>\n      <td>Directeur Général</td>\n      <td>Directeur Général</td>\n      <td>3hworks.com</td>\n      <td>Information Technology &amp; Services</td>\n      <td>https://www.linkedin.com/in/hermann-okon-9a1b8388</td>\n      <td>Côte d'Ivoire</td>\n      <td>241</td>\n      <td>243</td>\n    </tr>\n    <tr>\n      <th>29</th>\n      <td>ouattara@unhcr.org</td>\n      <td>Siambou</td>\n      <td>Ouattara</td>\n      <td>Valid</td>\n      <td>144218051</td>\n      <td>Agence Hidayah Transit</td>\n      <td>Directeur Général</td>\n      <td>Directeur Général</td>\n      <td>unhcr.org</td>\n      <td>Management Consulting</td>\n      <td>https://www.linkedin.com/in/siambou-ouattara-6...</td>\n      <td>Côte d'Ivoire</td>\n      <td>673</td>\n      <td>675</td>\n    </tr>\n    <tr>\n      <th>32</th>\n      <td>etassembedo@eservicessa.com</td>\n      <td>Evariste</td>\n      <td>Tassembedo</td>\n      <td>Valid</td>\n      <td>160122483</td>\n      <td>E-Services Sa</td>\n      <td>Directeur Général</td>\n      <td>Directeur Général</td>\n      <td>eservicessa.com</td>\n      <td>Computer &amp; Network Security</td>\n      <td>https://www.linkedin.com/in/evariste-tassembed...</td>\n      <td>Burkina Faso</td>\n      <td>53</td>\n      <td>56</td>\n    </tr>\n  </tbody>\n</table>\n</div>"
     },
     "execution_count": 36,
     "metadata": {},
     "output_type": "execute_result"
    }
   ],
   "source": [
    "df_with_email.head()"
   ],
   "metadata": {
    "collapsed": false,
    "ExecuteTime": {
     "end_time": "2024-01-24T15:23:53.023275Z",
     "start_time": "2024-01-24T15:23:52.986598Z"
    }
   },
   "id": "252b2398418425c",
   "execution_count": 36
  },
  {
   "cell_type": "code",
   "outputs": [
    {
     "data": {
      "text/plain": "dtype('int64')"
     },
     "execution_count": 43,
     "metadata": {},
     "output_type": "execute_result"
    }
   ],
   "source": [
    "df_with_email['linkedin_profile_id'].dtype"
   ],
   "metadata": {
    "collapsed": false,
    "ExecuteTime": {
     "end_time": "2024-01-24T15:44:55.772277Z",
     "start_time": "2024-01-24T15:44:55.730763Z"
    }
   },
   "id": "f0fa494a06ee0af3",
   "execution_count": 43
  },
  {
   "cell_type": "code",
   "outputs": [],
   "source": [
    "df_with_email['linkedin_profile_id'] = df_with_email['linkedin_profile_id'].astype(str)"
   ],
   "metadata": {
    "collapsed": false,
    "ExecuteTime": {
     "end_time": "2024-01-24T15:48:50.604154Z",
     "start_time": "2024-01-24T15:48:50.596282Z"
    }
   },
   "id": "4d69e4c988bd1a4",
   "execution_count": 48
  },
  {
   "cell_type": "code",
   "outputs": [],
   "source": [
    "output_directory = 'Resultats'"
   ],
   "metadata": {
    "collapsed": false,
    "ExecuteTime": {
     "end_time": "2024-01-24T15:25:27.730786Z",
     "start_time": "2024-01-24T15:25:27.719922Z"
    }
   },
   "id": "2ca0e416522c8709",
   "execution_count": 37
  },
  {
   "cell_type": "code",
   "outputs": [],
   "source": [
    "output_path = os.path.join(output_directory, f'mail_valid_segmentation.xlsx')\n",
    "df_with_email.to_excel(output_path, index=False)"
   ],
   "metadata": {
    "collapsed": false,
    "ExecuteTime": {
     "end_time": "2024-01-24T15:49:10.594752Z",
     "start_time": "2024-01-24T15:49:10.542897Z"
    }
   },
   "id": "5a527d1172d983b2",
   "execution_count": 51
  },
  {
   "cell_type": "code",
   "outputs": [],
   "source": [
    "import requests\n",
    "from bs4 import BeautifulSoup\n",
    "from urllib.parse import urljoin, urlparse\n",
    "\n",
    "def get_all_links(url):\n",
    "    # Envoyer une requête GET pour obtenir le contenu HTML de la page\n",
    "    response = requests.get(url)\n",
    "\n",
    "    # Vérifier si la requête a réussi (statut 200)\n",
    "    if response.status_code == 200:\n",
    "        # Utiliser BeautifulSoup pour analyser le HTML de la page\n",
    "        soup = BeautifulSoup(response.text, 'html.parser')\n",
    "\n",
    "        # Extraire tous les liens de la page\n",
    "        links = soup.find_all('a', href=True)\n",
    "\n",
    "        # Convertir les liens relatifs en liens absolus\n",
    "        base_url = urlparse(url).scheme + '://' + urlparse(url).netloc\n",
    "        absolute_links = [urljoin(base_url, link['href']) for link in links]\n",
    "\n",
    "        return absolute_links\n",
    "    else:\n",
    "        # Afficher un message d'erreur si la requête a échoué\n",
    "        print(f\"Erreur {response.status_code}: Impossible d'obtenir le contenu de la page {url}\")\n",
    "        return []"
   ],
   "metadata": {
    "collapsed": false,
    "ExecuteTime": {
     "end_time": "2024-01-25T09:45:42.436934Z",
     "start_time": "2024-01-25T09:45:41.881981Z"
    }
   },
   "id": "eec9016538d5cadf",
   "execution_count": 12
  },
  {
   "cell_type": "code",
   "outputs": [
    {
     "name": "stdout",
     "output_type": "stream",
     "text": [
      "https://www.idu.ci/landing.xhtml#home\n",
      "https://www.idu.ci/landing.xhtml#presentation\n",
      "https://www.idu.ci/landing.xhtml#etapes\n",
      "https://www.idu.ci/landing.xhtml#video\n",
      "https://www.idu.ci/contacts.xhtml\n",
      "https://www.idu.ci/resources/Pourquoi-obtenir-un-numéro-IDU.pdf\n",
      "https://www.idu.ci/resources/Les-pieces-a-fournir-IDU.pdf\n",
      "https://www.idu.ci/annuaire-entreprise.xhtml\n",
      "https://www.idu.ci\n",
      "https://www.idu.ci/landing.xhtml#home\n",
      "https://www.idu.ci/landing.xhtml#presentation\n",
      "https://www.idu.ci/landing.xhtml#etapes\n",
      "https://www.idu.ci/landing.xhtml#video\n",
      "https://www.idu.ci/contacts.xhtml#contacts\n",
      "https://www.idu.ci\n",
      "https://www.idu.ci\n",
      "https://www.idu.ci\n",
      "https://it-centrex.com\n",
      "https://www.idu.ci\n",
      "https://www.idu.ci\n"
     ]
    }
   ],
   "source": [
    "\n",
    "# Exemple d'utilisation\n",
    "site_url = \"https://www.idu.ci/\"\n",
    "all_links = get_all_links(site_url)\n",
    "\n",
    "# Afficher tous les liens\n",
    "for link in all_links:\n",
    "    print(link)"
   ],
   "metadata": {
    "collapsed": false,
    "ExecuteTime": {
     "end_time": "2024-01-25T09:48:25.736157Z",
     "start_time": "2024-01-25T09:48:24.842262Z"
    }
   },
   "id": "5294fdd170016109",
   "execution_count": 15
  },
  {
   "cell_type": "code",
   "outputs": [
    {
     "name": "stdout",
     "output_type": "stream",
     "text": [
      "https://www.cci.bf#main-content\n",
      "https://www.cci.bf/?q=fr\n",
      "javascript:doGTranslate('fr|fr')\n",
      "javascript:doGTranslate('fr|en')\n",
      "javascript:doGTranslate('fr|my')\n",
      "https://www.facebook.com/chambredecommerceduburkina/\n",
      "https://twitter.com\n",
      "https://youtube.com\n",
      "https://linkedin.com\n",
      "https://www.cci.bf/?q=fr/actualites\n",
      "https://www.cci.bf/?q=fr/partenaires\n",
      "https://www.cci.bf/?q=fr/publications\n",
      "https://www.cci.bf/?q=fr/photos\n",
      "https://www.cci.bf/?q=fr/videos\n",
      "https://www.cci.bf/?q=fr/la-cci\n",
      "https://www.cci.bf/?q=fr/la-cci/historique\n",
      "https://www.cci.bf/?q=fr/la-cci/vision-et-missions\n",
      "https://www.cci.bf/?q=fr/la-cci/organisation-administrative\n",
      "https://www.cci.bf/?q=fr/la-cci/assemble%CC%81e-g%C3%A9n%C3%A9rale\n",
      "https://www.cci.bf/?q=fr/la-cci/le-bureau-consulaire\n",
      "https://www.cci.bf/?q=fr/la-cci/les-d%C3%A9l%C3%A9gations-consulaires-r%C3%A9gionales\n",
      "https://www.cci.bf/?q=fr/la-cci/les-commissions-sp%C3%A9cialis%C3%A9es\n",
      "https://www.cci.bf/?q=fr/la-cci/la-direction-g%C3%A9n%C3%A9rale\n",
      "https://www.cci.bf/?q=fr/la-cci/plan-strate%CC%81gique-de-la-mandature-2021-2026\n",
      "https://www.cci.bf/?q=fr/la-cci/le-pr%C3%A9sident\n",
      "https://www.cci.bf/?q=fr/la-cci/les-elus-consulaires\n",
      "https://www.cci.bf/?q=fr/la-cci/les-structures-sp%C3%A9cialis%C3%A9es\n",
      "https://www.cci.bf/?q=fr/nos-services\n",
      "https://www.cci.bf/?q=fr/nos-services/cre%CC%81er-et-de%CC%81velopper-votre-entreprise\n",
      "https://www.cci.bf/?q=fr/infrastructures-economiques\n",
      "https://www.cci.bf/?q=fr/infrastructures-economiques/gare-routie%CC%80re-ouagadougou\n",
      "https://www.cci.bf/?q=fr/infrastructures-economiques/les-infrastructures-%C3%A0-l%E2%80%99%C3%A9tranger\n",
      "https://www.cci.bf/?q=fr/infrastructures-economiques/port-sec-de-bobo-dioulasso\n",
      "https://www.cci.bf/?q=fr/nos-services/vous-former-vous-perfectionner\n",
      "https://www.cci.bf/?q=fr/nos-services/manifestations-e%CC%81conomiques\n",
      "https://www.cci.bf/?q=fr/nos-services/arbitrage-et-me%CC%81diation\n",
      "https://www.cci.bf/?q=fr/investir-au-burkina-faso\n",
      "https://www.cci.bf/?q=fr/investir-au-burkina-faso/potentiel-%C3%A9conomique\n",
      "https://www.cci.bf/?q=fr/investir-au-burkina-faso/secteurs-porteurs\n",
      "https://www.cci.bf/?q=fr/investir-au-burkina-faso/information-juridique\n",
      "https://www.cci.bf/?q=fr/investir-au-burkina-faso/structures-d%E2%80%99accompagnement\n",
      "https://www.cci.bf/?q=fr/centres-de-formation\n",
      "https://www.cci.bf/?q=fr/centres-de-formation/ecoles-des-affaires\n",
      "https://www.cci.bf/?q=fr/centres-de-formation/centre-de-formation-en-b%C3%A2timents-et-travaux-publics-cf-btp%C2%A0\n",
      "https://www.cci.bf/?q=fr/centres-de-formation/centre-de-formation-en-agroalimentaire-et-touristique-cfat\n",
      "https://www.cci.bf/?q=fr/centres-de-formation/transport-routier\n",
      "https://www.cci.bf/?q=fr/centres-de-formation/leadership-economique\n",
      "https://www.cci.bf/?q=fr/services-aux-usagers/%C3%A9tudes-et-publications\n",
      "https://www.cci.bf/?q=fr/services-aux-usagers/%C3%A9tudes-et-publications\n",
      "https://www.cci.bf/?q=fr/representations/repr%C3%A9sentation-au-benin\n",
      "https://www.cci.bf/?q=fr/representations/repr%C3%A9sentation-en-c%C3%B4te-divoire\n",
      "https://www.cci.bf/?q=fr/content/repr%C3%A9sentation-au-ghana\n",
      "https://www.cci.bf/?q=fr/representations/repr%C3%A9sentation-au-togo\n",
      "https://www.cci.bf/?q=fr/services-aux-usagers/infrastructures-%C3%A9conomiques\n",
      "https://www.cci.bf/?q=fr/representations/d%C3%A9l%C3%A9gation-consulaire-r%C3%A9gionale-de-la-boucle-du-mouhoun\n",
      "https://www.cci.bf/?q=fr/representations/d%C3%A9l%C3%A9gation-consulaire-r%C3%A9gionale-des-cascades\n",
      "https://www.cci.bf/?q=fr/representations/d%C3%A9l%C3%A9gation-consulaire-r%C3%A9gionale-du-centre-est-0\n",
      "https://www.cci.bf/?q=fr/representations/d%C3%A9l%C3%A9gation-consulaire-r%C3%A9gionale-du-centre-est-0\n",
      "https://www.cci.bf/?q=fr/representations/d%C3%A9l%C3%A9gation-consulaire-r%C3%A9gionale-du-centre-nord\n",
      "https://www.cci.bf/?q=fr/representations/dcr-du-centre-ouest\n",
      "https://www.cci.bf/?q=fr/representations/d%C3%A9l%C3%A9gation-consulaire-r%C3%A9gionale-du-centre-sud\n",
      "https://www.cci.bf/?q=fr/representations/d%C3%A9l%C3%A9gation-consulaire-r%C3%A9gionale-de-lest\n",
      "https://www.cci.bf/?q=fr/representations/d%C3%A9l%C3%A9gation-consulaire-r%C3%A9gionale-des-hauts-bassins\n",
      "https://www.cci.bf/?q=fr/representations/d%C3%A9l%C3%A9gation-consulaire-r%C3%A9gionale-du-nord\n",
      "https://www.cci.bf/?q=fr/representations/d%C3%A9l%C3%A9gation-consulaire-r%C3%A9gionale-du-plateau-central\n",
      "https://www.cci.bf/?q=fr/representations/d%C3%A9l%C3%A9gation-consulaire-r%C3%A9gionale-du-sahel\n",
      "https://www.cci.bf/?q=fr/representations/d%C3%A9l%C3%A9gation-consulaire-r%C3%A9gionale-du-sud-ouest\n",
      "https://www.cci.bf/?q=fr/contact\n",
      "http://www.enable-javascript.com/\n",
      "https://www.cci.bf/?q=fr/actualites/coop%C3%A9ration-consulaire-l%E2%80%99afrique-du-sud-et-le-burkina-faso-resserrent-leurs-liens\n",
      "https://www.cci.bf/?q=fr/actualites/coop%C3%A9ration-consulaire-l%E2%80%99afrique-du-sud-et-le-burkina-faso-resserrent-leurs-liens\n",
      "https://www.cci.bf/?q=fr/actualites/la-direction-g%C3%A9n%C3%A9rale-des-douanes-et-la-chambre-de-commerce-et-d%E2%80%99industrie-du-burkina\n",
      "https://www.cci.bf/?q=fr/actualites/la-direction-g%C3%A9n%C3%A9rale-des-douanes-et-la-chambre-de-commerce-et-d%E2%80%99industrie-du-burkina\n",
      "https://www.cci.bf/?q=fr/actualites/les-etalons-en-avant-pour-la-victoire\n",
      "https://www.cci.bf/?q=fr/actualites/les-etalons-en-avant-pour-la-victoire\n",
      "https://www.cci.bf/?q=fr/actualites/bonne-et-heureuse-%C3%A9e-2024\n",
      "https://www.cci.bf/?q=fr/actualites/bonne-et-heureuse-%C3%A9e-2024\n",
      "https://www.cci.bf/?q=fr/actualites/les-%C3%A9lus-consulaires-examinent-le-programme-d%E2%80%99activit%C3%A9s-et-le-budget-2024-de-la-cci-bf\n",
      "https://www.cci.bf/?q=fr/actualites/les-%C3%A9lus-consulaires-examinent-le-programme-d%E2%80%99activit%C3%A9s-et-le-budget-2024-de-la-cci-bf\n",
      "https://www.cci.bf/?q=fr/actualites/ecomedias-et-pati-les-laureats-empochent-leurs-gains\n",
      "https://www.cci.bf/?q=fr/actualites/ecomedias-et-pati-les-laureats-empochent-leurs-gains\n",
      "https://www.cci.bf/?q=fr/actualites/joyeuse-f%C3%AAte-de-la-nativit%C3%A9\n",
      "https://www.cci.bf/?q=fr/actualites/am%C3%A9lioration-du-climat-des-affaires-l%E2%80%99%C3%A9tude-de-faisabilit%C3%A9-pour-la-cr%C3%A9ation-d%E2%80%99un-guichet\n",
      "https://www.cci.bf/?q=fr/actualites/les-chambres-de-commerce-arabo-africaines-en-conclave-au-maroc\n",
      "https://www.cci.bf/?q=fr/actualites\n",
      "https://www.cci.bf/?q=fr/services-aux-usagers/opportunit%C3%A9s-d%E2%80%99affaires\n",
      "https://www.cci.bf/?q=fr/services-aux-usagers/opportunit%C3%A9s-d%E2%80%99affaires\n",
      "https://www.cci.bf/?q=fr/services-aux-usagers/investir-au-burkina-faso\n",
      "https://www.cci.bf/?q=fr/services-aux-usagers/investir-au-burkina-faso\n",
      "https://www.cci.bf/?q=fr/services-aux-usagers/formalit%C3%A9s-d%E2%80%99entreprises\n",
      "https://www.cci.bf/?q=fr/services-aux-usagers/formalit%C3%A9s-d%E2%80%99entreprises\n",
      "https://www.cci.bf/?q=fr/services-aux-usagers/centres-de-formation\n",
      "https://www.cci.bf/?q=fr/services-aux-usagers/centres-de-formation\n",
      "https://www.cci.bf/?q=fr/services-aux-usagers/infrastructures-%C3%A9conomiques\n",
      "https://www.cci.bf/?q=fr/services-aux-usagers/infrastructures-%C3%A9conomiques\n",
      "https://www.cci.bf/?q=fr/services-aux-usagers/%C3%A9tudes-et-publications\n",
      "https://www.cci.bf/?q=fr/services-aux-usagers/%C3%A9tudes-et-publications\n",
      "https://www.cci.bf/?q=fr/les-gros-projets/forum-africallia\n",
      "https://www.cci.bf/?q=fr/les-gros-projets/tfo-canada\n",
      "https://www.cci.bf/?q=fr/les-gros-projets/acad%C3%A9mie-internationale-pour-la-gouvernance-et-le-leadership-economique-aigle\n",
      "https://www.cci.bf/?q=fr/les-gros-projets/archipelago\n",
      "https://www.cci.bf/?q=fr/les-gros-projets/facturation-normalis%C3%A9e-et-teleprocedures\n",
      "https://www.cci.bf/?q=fr/les-gros-projets/pacao\n",
      "https://www.cci.bf/?q=fr/agenda/2%C3%A8me-%C3%A9dition-de-halal-expo-nigeria\n",
      "https://www.cci.bf/?q=fr/agenda/7%C3%A8me-%C3%A9dition-de-destination-africa\n",
      "https://www.cci.bf/?q=fr/agenda/9%C3%A8me-forum-mondial-des-industries-de-coop%C3%A9rations\n",
      "https://www.cci.bf/?q=fr/agenda\n",
      "https://www.cci.bf/?q=fr/les-elus/m-joseph-rouamba-pr%C3%A9sident-de-la-dcr-du-centre-sud\n",
      "https://www.cci.bf/?q=fr/les-elus/m-joseph-rouamba-pr%C3%A9sident-de-la-dcr-du-centre-sud\n",
      "https://www.cci.bf/?q=fr/les-elus/m-joseph-rouamba-pr%C3%A9sident-de-la-dcr-du-centre-sud\n",
      "https://www.africallia.com/\n",
      "http://www.cci.bf/\n",
      "https://www.cci.bf/?q=fr/publications/le-livre-blanc\n",
      "https://www.cci.bf/?q=fr/publications/le-livre-blanc \n",
      "https://www.cci.bf/?q=fr/vef/load/6374a726baf2eb16aa17fac9ae864209&width=640&height=365\n",
      "https://www.cci.bf/?q=fr/videos/les-voeux-du-nouvel-de-m-mahamadi-savadogo-pr%C3%A9sident-de-la-cci-du-burkina-faso\n",
      "https://www.cci.bf/?q=fr/videos\n",
      "https://www.cci.bf/?q=fr/photos/3%C3%A8me-rencontre-nationale-etatsecteur-priv%C3%A9\n",
      "https://www.cci.bf/?q=fr/photos/2%C3%A8me-rencontre-nationale-etat-secteur-priv%C3%A9-codesp\n",
      "https://www.cci.bf/?q=fr/photos\n",
      "http://www.douanes.bf\n",
      "https://www.cma.bf/\n",
      "https://chambredesmines.bf/\n",
      "https://afppme.bf/\n",
      "https://www.investburkina.com/\n",
      "https://www.me.bf\n",
      "https://www.lamaisondelafrique.com/\n",
      "https://patronat.bf/\n",
      "http://www.cbc.bf/\n",
      "http://www.uemoa.int/fr/organes-uemoa/la-chambre-consulaire-regionale\n",
      "https://www.apexb.bf/\n",
      "mailto:info@cci.bf\n",
      "https://www.facebook.com/chambredecommerceduburkina/\n",
      "https://twitter.com\n",
      "https://youtube.com\n",
      "https://linkedin.com\n",
      "https://webmail.cci.bf/\n",
      "https://www.cci.bf/?q=fr/page/cookies\n",
      "https://www.cci.bf/?q=fr/page/mentions-l%C3%A9gales\n"
     ]
    }
   ],
   "source": [
    "site_url = \"https://www.cci.bf\"\n",
    "all_links = get_all_links(site_url)\n",
    "\n",
    "# Afficher tous les liens\n",
    "for link in all_links:\n",
    "    print(link)"
   ],
   "metadata": {
    "collapsed": false,
    "ExecuteTime": {
     "end_time": "2024-01-25T13:24:06.239941Z",
     "start_time": "2024-01-25T13:24:04.734634Z"
    }
   },
   "id": "23ce8a26dec672e7",
   "execution_count": 32
  }
 ],
 "metadata": {
  "kernelspec": {
   "display_name": "Python 3",
   "language": "python",
   "name": "python3"
  },
  "language_info": {
   "codemirror_mode": {
    "name": "ipython",
    "version": 2
   },
   "file_extension": ".py",
   "mimetype": "text/x-python",
   "name": "python",
   "nbconvert_exporter": "python",
   "pygments_lexer": "ipython2",
   "version": "2.7.6"
  }
 },
 "nbformat": 4,
 "nbformat_minor": 5
}
