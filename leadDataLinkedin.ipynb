{
 "cells": [
  {
   "cell_type": "markdown",
   "source": [
    "## Packages & Bibliothèque"
   ],
   "metadata": {
    "collapsed": false
   },
   "id": "62c58e8176be45d5"
  },
  {
   "cell_type": "code",
   "outputs": [],
   "source": [
    "import os\n",
    "import pandas as pd\n",
    "from operator import itemgetter\n",
    "import numpy as np\n",
    "import matplotlib.pyplot as plt\n",
    "import ast\n",
    "import json"
   ],
   "metadata": {
    "collapsed": false,
    "ExecuteTime": {
     "end_time": "2024-03-20T13:46:51.134360Z",
     "start_time": "2024-03-20T13:46:51.124388Z"
    }
   },
   "id": "197cd50ff82654f7",
   "execution_count": 63
  },
  {
   "cell_type": "markdown",
   "source": [
    "## Parameters"
   ],
   "metadata": {
    "collapsed": false
   },
   "id": "26b4d4e01317a754"
  },
  {
   "cell_type": "code",
   "outputs": [],
   "source": [
    "# Définir les intervalles de connexions\n",
    "intervals = [0, 100, 500, 1000, 5000, 10000, float('inf')]  # ajustez les intervalles selon vos besoins\n",
    "\n",
    "# Définir les étiquettes pour les intervalles\n",
    "labels = ['0-100', '101-500', '501-1000', '1001-5000', '5001-10000', '10001+']"
   ],
   "metadata": {
    "collapsed": false
   },
   "id": "975ccc6e146abe0c",
   "execution_count": null
  },
  {
   "cell_type": "code",
   "outputs": [],
   "source": [
    "%matplotlib inline"
   ],
   "metadata": {
    "collapsed": false
   },
   "id": "6b3be4349fd7d77b",
   "execution_count": null
  },
  {
   "cell_type": "code",
   "execution_count": null,
   "id": "initial_id",
   "metadata": {
    "collapsed": true
   },
   "outputs": [],
   "source": [
    "data_path = '/Users/jeanmermozeffi/Documents/DDMA/DATA CAPTAIN/Data/DataLeadDirectorProfille.csv'"
   ]
  },
  {
   "cell_type": "markdown",
   "source": [],
   "metadata": {
    "collapsed": false
   },
   "id": "cc17920d743abbc6"
  },
  {
   "cell_type": "code",
   "outputs": [],
   "source": [
    "df_raw = pd.read_csv(data_path)"
   ],
   "metadata": {
    "collapsed": false
   },
   "id": "e52c62411b92eb89",
   "execution_count": null
  },
  {
   "cell_type": "code",
   "outputs": [],
   "source": [
    "df_raw.head()"
   ],
   "metadata": {
    "collapsed": false
   },
   "id": "67a6b37aa1168be",
   "execution_count": null
  },
  {
   "cell_type": "code",
   "outputs": [],
   "source": [
    "df_raw.shape"
   ],
   "metadata": {
    "collapsed": false
   },
   "id": "19168ad725736479",
   "execution_count": null
  },
  {
   "cell_type": "code",
   "outputs": [],
   "source": [
    "df = df_raw.copy()"
   ],
   "metadata": {
    "collapsed": false
   },
   "id": "2d63520154c5426d",
   "execution_count": null
  },
  {
   "cell_type": "code",
   "outputs": [],
   "source": [
    "df.describe()"
   ],
   "metadata": {
    "collapsed": false
   },
   "id": "10a37b0572757ee3",
   "execution_count": null
  },
  {
   "cell_type": "code",
   "outputs": [],
   "source": [
    "columns = df.columns.tolist()"
   ],
   "metadata": {
    "collapsed": false
   },
   "id": "b42b22a6ba01efef",
   "execution_count": null
  },
  {
   "cell_type": "code",
   "outputs": [],
   "source": [
    "df.info()"
   ],
   "metadata": {
    "collapsed": false
   },
   "id": "e3bb0f2a7f1fa2ba",
   "execution_count": null
  },
  {
   "cell_type": "code",
   "outputs": [],
   "source": [
    "columns"
   ],
   "metadata": {
    "collapsed": false
   },
   "id": "44a545a8455f802d",
   "execution_count": null
  },
  {
   "cell_type": "code",
   "outputs": [],
   "source": [
    "extract_columns = ['linkedin_profile_id', 'first_name', 'last_name', 'company_name', 'current_company_name', 'headline', 'industry', 'job_title', 'languages', 'linkedin_profile_url', 'profile_image_url', 'location', 'number_connections', 'number_followers', 'profile_language']"
   ],
   "metadata": {
    "collapsed": false
   },
   "id": "a44d5c224d44a02e",
   "execution_count": null
  },
  {
   "cell_type": "code",
   "outputs": [],
   "source": [
    "df = df[extract_columns]"
   ],
   "metadata": {
    "collapsed": false
   },
   "id": "ce3f359f0af257b3",
   "execution_count": null
  },
  {
   "cell_type": "code",
   "outputs": [],
   "source": [
    "df.head()"
   ],
   "metadata": {
    "collapsed": false
   },
   "id": "2b9fdb8d1f42da3d",
   "execution_count": null
  },
  {
   "cell_type": "code",
   "outputs": [],
   "source": [
    "langages = df['languages'].unique()\n",
    "langages"
   ],
   "metadata": {
    "collapsed": false
   },
   "id": "8d96916084c8d84f",
   "execution_count": null
  },
  {
   "cell_type": "code",
   "outputs": [],
   "source": [
    "industries = df['industry'].unique()"
   ],
   "metadata": {
    "collapsed": false
   },
   "id": "51ebbb85a1b523fb",
   "execution_count": null
  },
  {
   "cell_type": "code",
   "outputs": [],
   "source": [
    "output_directory = 'Resultats'\n",
    "\n",
    "if not os.path.exists(output_directory):\n",
    "    os.makedirs(output_directory)\n",
    "\n",
    "# for industry in industries:\n",
    "#     output_path = os.path.join(output_directory, f'{industry}_segmentation.csv')\n",
    "#     industry_data.to_csv(output_path, index=False)"
   ],
   "metadata": {
    "collapsed": false
   },
   "id": "24a5bc54f384cf8c",
   "execution_count": null
  },
  {
   "cell_type": "code",
   "outputs": [],
   "source": [
    "# Créer un histogramme pour le nombre d'occurrences par industrie\n",
    "plt.figure(figsize=(10, 6))\n",
    "df['industry'].value_counts().plot(kind='bar', color='skyblue')\n",
    "plt.title('Segmentation par Industrie')\n",
    "plt.xlabel('Industrie')\n",
    "plt.ylabel('Nombre d\\'occurrences')\n",
    "plt.xticks(rotation=45)\n",
    "plt.show()"
   ],
   "metadata": {
    "collapsed": false
   },
   "id": "413103f266bad162",
   "execution_count": null
  },
  {
   "cell_type": "code",
   "outputs": [],
   "source": [
    "df['industry']"
   ],
   "metadata": {
    "collapsed": false
   },
   "id": "1c607594ef121180",
   "execution_count": null
  },
  {
   "cell_type": "code",
   "outputs": [],
   "source": [
    "top_industries = df['industry'].value_counts().head(10)\n",
    "\n",
    "plt.figure(figsize=(12, 6))\n",
    "top_industries.plot(kind='bar', color='skyblue')\n",
    "plt.title('Top 10 des Industries')\n",
    "plt.xlabel('Industrie')\n",
    "plt.ylabel('Nombre d\\'occurrences')\n",
    "plt.xticks(rotation=45, ha='right')\n",
    "plt.show()"
   ],
   "metadata": {
    "collapsed": false
   },
   "id": "24f3a318715363b7",
   "execution_count": null
  },
  {
   "cell_type": "markdown",
   "source": [
    "## Segmentation par langues"
   ],
   "metadata": {
    "collapsed": false
   },
   "id": "b7b19a964154832b"
  },
  {
   "cell_type": "code",
   "outputs": [],
   "source": [
    "df_language = df[df['languages'].apply(lambda x: len(x) > 0)]\n",
    "df_language.head()"
   ],
   "metadata": {
    "collapsed": false
   },
   "id": "25791e18bd1cc3fb",
   "execution_count": null
  },
  {
   "cell_type": "code",
   "outputs": [],
   "source": [
    "df_language['current_company_name']"
   ],
   "metadata": {
    "collapsed": false
   },
   "id": "9e5dfde5cdeef221",
   "execution_count": null
  },
  {
   "cell_type": "markdown",
   "source": [
    "## Trier le DataFrame selon le nombre de followers en ordre décroissant"
   ],
   "metadata": {
    "collapsed": false
   },
   "id": "ac901e5ac667acde"
  },
  {
   "cell_type": "code",
   "outputs": [],
   "source": [
    "df_sorted_followers = df.sort_values(by='number_followers', ascending=False)\n",
    "df_sorted_followers.head()"
   ],
   "metadata": {
    "collapsed": false
   },
   "id": "5099d13f60d8e965",
   "execution_count": null
  },
  {
   "cell_type": "code",
   "outputs": [],
   "source": [
    "top_profiles_followers = df_sorted_followers.head(10)"
   ],
   "metadata": {
    "collapsed": false
   },
   "id": "ff379d84df34f02e",
   "execution_count": null
  },
  {
   "cell_type": "markdown",
   "source": [],
   "metadata": {
    "collapsed": false
   },
   "id": "6921b9d6e4cf767f"
  },
  {
   "cell_type": "markdown",
   "source": [
    "## regrouper les données par intervalles d'abonnées"
   ],
   "metadata": {
    "collapsed": false
   },
   "id": "747f595ef1137dae"
  },
  {
   "cell_type": "code",
   "outputs": [],
   "source": [
    "# Ajouter une nouvelle colonne avec les intervalles de connexions\n",
    "df.loc[:, 'follower_interval'] = pd.cut(df['number_followers'], bins=intervals, labels=labels, right=False)\n",
    "\n",
    "# Afficher le nombre d'occurrences par intervalle de connexions\n",
    "connection_counts = df['follower_interval'].value_counts()\n",
    "\n",
    "# Créer un diagramme à barres pour les intervalles de connexions\n",
    "plt.figure(figsize=(12, 6))\n",
    "connection_counts.sort_index().plot(kind='bar', color='blue')\n",
    "plt.title('Répartition par Intervalles de abonnés')\n",
    "plt.xlabel('Intervalles de abonnées')\n",
    "plt.ylabel('Nombre d\\'occurrences')\n",
    "plt.xticks(rotation=0)\n",
    "plt.show()"
   ],
   "metadata": {
    "collapsed": false
   },
   "id": "cb00c993cc63e86c",
   "execution_count": null
  },
  {
   "cell_type": "markdown",
   "source": [
    "## regrouper les données par intervalles de connexions "
   ],
   "metadata": {
    "collapsed": false
   },
   "id": "3b7bd68c4eea5552"
  },
  {
   "cell_type": "code",
   "outputs": [],
   "source": [
    "# Ajouter une nouvelle colonne avec les intervalles de connexions\n",
    "df.loc[:, 'connection_interval'] = pd.cut(df['number_connections'], bins=intervals, labels=labels, right=False)\n",
    "\n",
    "# Afficher le nombre d'occurrences par intervalle de connexions\n",
    "connection_counts = df['connection_interval'].value_counts()\n",
    "\n",
    "# Créer un diagramme à barres pour les intervalles de connexions\n",
    "plt.figure(figsize=(12, 6))\n",
    "connection_counts.sort_index().plot(kind='bar', color='blue')\n",
    "plt.title('Répartition par Intervalles de Connexions')\n",
    "plt.xlabel('Intervalles de Connexions')\n",
    "plt.ylabel('Nombre d\\'occurrences')\n",
    "plt.xticks(rotation=0)\n",
    "plt.show()"
   ],
   "metadata": {
    "collapsed": false
   },
   "id": "4c8f9bb92ae772bf",
   "execution_count": null
  },
  {
   "cell_type": "code",
   "outputs": [],
   "source": [
    "df.head()"
   ],
   "metadata": {
    "collapsed": false
   },
   "id": "27cb7da4404cf4e5",
   "execution_count": null
  },
  {
   "cell_type": "code",
   "outputs": [],
   "source": [
    "df.columns"
   ],
   "metadata": {
    "collapsed": false
   },
   "id": "3ee97aed73802b52",
   "execution_count": null
  },
  {
   "cell_type": "markdown",
   "source": [
    "## Extraction "
   ],
   "metadata": {
    "collapsed": false
   },
   "id": "a8db647e71384ddc"
  },
  {
   "cell_type": "code",
   "outputs": [],
   "source": [
    "data_path = '/Users/jeanmermozeffi/Documents/DDMA/DATA CAPTAIN/Data/DataLeadDirectorProfille.csv'"
   ],
   "metadata": {
    "collapsed": false,
    "ExecuteTime": {
     "end_time": "2024-03-20T13:28:46.423364Z",
     "start_time": "2024-03-20T13:28:46.418064Z"
    }
   },
   "id": "b2ee3b3992750827",
   "execution_count": 47
  },
  {
   "cell_type": "code",
   "outputs": [],
   "source": [
    "df = pd.read_csv(data_path)"
   ],
   "metadata": {
    "collapsed": false,
    "ExecuteTime": {
     "end_time": "2024-03-20T13:28:48.403930Z",
     "start_time": "2024-03-20T13:28:48.229836Z"
    }
   },
   "id": "ac3ec9f2e170fe9b",
   "execution_count": 48
  },
  {
   "cell_type": "code",
   "outputs": [
    {
     "data": {
      "text/plain": "  birth_date company_employees_range                   company_industry  \\\n0        NaN                 11 - 50  Information Technology & Services   \n1        NaN                     NaN                                NaN   \n2        NaN                 11 - 50                        Real Estate   \n3        NaN                     NaN                                NaN   \n4        NaN                     NaN                                NaN   \n\n                   company_name  \\\n0   Mindz Group - Côte D'Ivoire   \n1                    Alizé Club   \n2  D.A.N Immobilia Corporartion   \n3                Pia Benin Sarl   \n4          Hirotec Construction   \n\n                                         company_url  connection_degree  \\\n0  https://www.linkedin.com/company/mindzgroup-c%...                NaN   \n1                                                NaN                NaN   \n2  https://www.linkedin.com/company/d-a-n-immobilia/                NaN   \n3                                                NaN                NaN   \n4                                                NaN                NaN   \n\n           current_company_name  \\\n0   Mindz Group - Côte D'Ivoire   \n1                    alizé club   \n2  D.A.N IMMOBILIA CORPORARTION   \n3                pia benin sarl   \n4          HIROTEC Construction   \n\n                                 current_company_url  \\\n0  https://www.linkedin.com/company/mindzgroup-c%...   \n1                                                NaN   \n2  https://www.linkedin.com/company/d-a-n-immobilia/   \n3                                                NaN   \n4                                                NaN   \n\n             current_job_title  \\\n0            Directeur général   \n1            directeur general   \n2  Président-directeur général   \n3            Directeur Général   \n4            Directeur général   \n\n                                         description  ...  \\\n0  Présent sur des marchés au potentiel de croiss...  ...   \n1                                                NaN  ...   \n2  INGENIEUR GENIE CIVIL, Diplômé de l'Ecole Maro...  ...   \n3                                                NaN  ...   \n4  Fondations spéciales, Travaux publics,  Genie ...  ...   \n\n                                         profile_url  \\\n0  https://www.linkedin.com/in/gillian-yannick-m-...   \n1     https://www.linkedin.com/in/jean-yves-2aa5b519   \n2  https://www.linkedin.com/in/epiphane-maldini-b...   \n3  https://www.linkedin.com/in/ibrahima-sow-53668391   \n4  https://www.linkedin.com/in/guillaume-nguyen-8...   \n\n                sales_navigator_profile_id  \\\n0  ACoAAAgqc8wBUwP7qqfPTtAR-ic7w0oCRxTUaqo   \n1  ACoAAAPTamIBwZGI_dPmQb0kv8ROACbgp7bU4jw   \n2  ACoAAAXPCKkBku5YjSIrG9ccvNzRs6EoOxp9dEU   \n3  ACoAABN_tzoB9E8HYXYpieivKadUE8qpvSZJivs   \n4  ACoAABGC8MMBNYkmEOKRUkU6i6Jc5cfo_1IMmZU   \n\n                                         school_name school_url  \\\n0  Institut Supérieur des Technologies de la Comm...        NaN   \n1                                                NaN        NaN   \n2                                      EARIST/ Maroc        NaN   \n3                                                NaN        NaN   \n4                                                NaN        NaN   \n\n                                              skills  \\\n0  [\"Communication stratégique\", \"Marque et ident...   \n1                                                 []   \n2  [\"Business\", \"Génie civil\", \"Ingénieurs\", \"Amé...   \n3                                                 []   \n4  [\"Développement de nouvelles affaires\", \"Lean ...   \n\n                                           start_url  \\\n0  https://www.linkedin.com/in/gillian-yannick-m-...   \n1  https://www.linkedin.com/in/jean-yves-2aa5b519...   \n2  https://www.linkedin.com/in/epiphane-maldini-b...   \n3  https://www.linkedin.com/in/ibrahima-sow-53668...   \n4  https://www.linkedin.com/in/guillaume-nguyen-8...   \n\n                                             summary  \\\n0  Présent sur des marchés au potentiel de croiss...   \n1                                                NaN   \n2  INGENIEUR GENIE CIVIL, Diplômé de l'Ecole Maro...   \n3                                                NaN   \n4  Fondations spéciales, Travaux publics,  Genie ...   \n\n                         title               tracking_id  \\\n0            Directeur Général  794Sxtw1T/yzQmcsDHmlpQ==   \n1            Directeur General  VePR/Cy9QGyn2GYn6oLGGA==   \n2  Président-Directeur Général  sk7GN1uASbW/jFfIKttmGA==   \n3            Directeur Général  tF2S5wAFRDm3SgM0UQQEgQ==   \n4            Directeur Général  WjitPwSkQOujtbKBRbyZ4w==   \n\n                               volunteer_experiences  \n0                                                 []  \n1                                                 []  \n2  [{\"role\": \"Président Commission Jeune Générati...  \n3                                                 []  \n4                                                 []  \n\n[5 rows x 46 columns]",
      "text/html": "<div>\n<style scoped>\n    .dataframe tbody tr th:only-of-type {\n        vertical-align: middle;\n    }\n\n    .dataframe tbody tr th {\n        vertical-align: top;\n    }\n\n    .dataframe thead th {\n        text-align: right;\n    }\n</style>\n<table border=\"1\" class=\"dataframe\">\n  <thead>\n    <tr style=\"text-align: right;\">\n      <th></th>\n      <th>birth_date</th>\n      <th>company_employees_range</th>\n      <th>company_industry</th>\n      <th>company_name</th>\n      <th>company_url</th>\n      <th>connection_degree</th>\n      <th>current_company_name</th>\n      <th>current_company_url</th>\n      <th>current_job_title</th>\n      <th>description</th>\n      <th>...</th>\n      <th>profile_url</th>\n      <th>sales_navigator_profile_id</th>\n      <th>school_name</th>\n      <th>school_url</th>\n      <th>skills</th>\n      <th>start_url</th>\n      <th>summary</th>\n      <th>title</th>\n      <th>tracking_id</th>\n      <th>volunteer_experiences</th>\n    </tr>\n  </thead>\n  <tbody>\n    <tr>\n      <th>0</th>\n      <td>NaN</td>\n      <td>11 - 50</td>\n      <td>Information Technology &amp; Services</td>\n      <td>Mindz Group - Côte D'Ivoire</td>\n      <td>https://www.linkedin.com/company/mindzgroup-c%...</td>\n      <td>NaN</td>\n      <td>Mindz Group - Côte D'Ivoire</td>\n      <td>https://www.linkedin.com/company/mindzgroup-c%...</td>\n      <td>Directeur général</td>\n      <td>Présent sur des marchés au potentiel de croiss...</td>\n      <td>...</td>\n      <td>https://www.linkedin.com/in/gillian-yannick-m-...</td>\n      <td>ACoAAAgqc8wBUwP7qqfPTtAR-ic7w0oCRxTUaqo</td>\n      <td>Institut Supérieur des Technologies de la Comm...</td>\n      <td>NaN</td>\n      <td>[\"Communication stratégique\", \"Marque et ident...</td>\n      <td>https://www.linkedin.com/in/gillian-yannick-m-...</td>\n      <td>Présent sur des marchés au potentiel de croiss...</td>\n      <td>Directeur Général</td>\n      <td>794Sxtw1T/yzQmcsDHmlpQ==</td>\n      <td>[]</td>\n    </tr>\n    <tr>\n      <th>1</th>\n      <td>NaN</td>\n      <td>NaN</td>\n      <td>NaN</td>\n      <td>Alizé Club</td>\n      <td>NaN</td>\n      <td>NaN</td>\n      <td>alizé club</td>\n      <td>NaN</td>\n      <td>directeur general</td>\n      <td>NaN</td>\n      <td>...</td>\n      <td>https://www.linkedin.com/in/jean-yves-2aa5b519</td>\n      <td>ACoAAAPTamIBwZGI_dPmQb0kv8ROACbgp7bU4jw</td>\n      <td>NaN</td>\n      <td>NaN</td>\n      <td>[]</td>\n      <td>https://www.linkedin.com/in/jean-yves-2aa5b519...</td>\n      <td>NaN</td>\n      <td>Directeur General</td>\n      <td>VePR/Cy9QGyn2GYn6oLGGA==</td>\n      <td>[]</td>\n    </tr>\n    <tr>\n      <th>2</th>\n      <td>NaN</td>\n      <td>11 - 50</td>\n      <td>Real Estate</td>\n      <td>D.A.N Immobilia Corporartion</td>\n      <td>https://www.linkedin.com/company/d-a-n-immobilia/</td>\n      <td>NaN</td>\n      <td>D.A.N IMMOBILIA CORPORARTION</td>\n      <td>https://www.linkedin.com/company/d-a-n-immobilia/</td>\n      <td>Président-directeur général</td>\n      <td>INGENIEUR GENIE CIVIL, Diplômé de l'Ecole Maro...</td>\n      <td>...</td>\n      <td>https://www.linkedin.com/in/epiphane-maldini-b...</td>\n      <td>ACoAAAXPCKkBku5YjSIrG9ccvNzRs6EoOxp9dEU</td>\n      <td>EARIST/ Maroc</td>\n      <td>NaN</td>\n      <td>[\"Business\", \"Génie civil\", \"Ingénieurs\", \"Amé...</td>\n      <td>https://www.linkedin.com/in/epiphane-maldini-b...</td>\n      <td>INGENIEUR GENIE CIVIL, Diplômé de l'Ecole Maro...</td>\n      <td>Président-Directeur Général</td>\n      <td>sk7GN1uASbW/jFfIKttmGA==</td>\n      <td>[{\"role\": \"Président Commission Jeune Générati...</td>\n    </tr>\n    <tr>\n      <th>3</th>\n      <td>NaN</td>\n      <td>NaN</td>\n      <td>NaN</td>\n      <td>Pia Benin Sarl</td>\n      <td>NaN</td>\n      <td>NaN</td>\n      <td>pia benin sarl</td>\n      <td>NaN</td>\n      <td>Directeur Général</td>\n      <td>NaN</td>\n      <td>...</td>\n      <td>https://www.linkedin.com/in/ibrahima-sow-53668391</td>\n      <td>ACoAABN_tzoB9E8HYXYpieivKadUE8qpvSZJivs</td>\n      <td>NaN</td>\n      <td>NaN</td>\n      <td>[]</td>\n      <td>https://www.linkedin.com/in/ibrahima-sow-53668...</td>\n      <td>NaN</td>\n      <td>Directeur Général</td>\n      <td>tF2S5wAFRDm3SgM0UQQEgQ==</td>\n      <td>[]</td>\n    </tr>\n    <tr>\n      <th>4</th>\n      <td>NaN</td>\n      <td>NaN</td>\n      <td>NaN</td>\n      <td>Hirotec Construction</td>\n      <td>NaN</td>\n      <td>NaN</td>\n      <td>HIROTEC Construction</td>\n      <td>NaN</td>\n      <td>Directeur général</td>\n      <td>Fondations spéciales, Travaux publics,  Genie ...</td>\n      <td>...</td>\n      <td>https://www.linkedin.com/in/guillaume-nguyen-8...</td>\n      <td>ACoAABGC8MMBNYkmEOKRUkU6i6Jc5cfo_1IMmZU</td>\n      <td>NaN</td>\n      <td>NaN</td>\n      <td>[\"Développement de nouvelles affaires\", \"Lean ...</td>\n      <td>https://www.linkedin.com/in/guillaume-nguyen-8...</td>\n      <td>Fondations spéciales, Travaux publics,  Genie ...</td>\n      <td>Directeur Général</td>\n      <td>WjitPwSkQOujtbKBRbyZ4w==</td>\n      <td>[]</td>\n    </tr>\n  </tbody>\n</table>\n<p>5 rows × 46 columns</p>\n</div>"
     },
     "execution_count": 49,
     "metadata": {},
     "output_type": "execute_result"
    }
   ],
   "source": [
    "df.head()"
   ],
   "metadata": {
    "collapsed": false,
    "ExecuteTime": {
     "end_time": "2024-03-20T13:28:50.563343Z",
     "start_time": "2024-03-20T13:28:50.534208Z"
    }
   },
   "id": "51c876db725d929",
   "execution_count": 49
  },
  {
   "cell_type": "code",
   "outputs": [],
   "source": [
    "columns_experience = ['id', 'full_name', 'handle', 'linkedin_profile_id', 'experiences']"
   ],
   "metadata": {
    "collapsed": false,
    "ExecuteTime": {
     "end_time": "2024-03-20T13:28:58.118843Z",
     "start_time": "2024-03-20T13:28:58.112939Z"
    }
   },
   "id": "c74f8f201a6ff2f2",
   "execution_count": 50
  },
  {
   "cell_type": "code",
   "outputs": [],
   "source": [
    "df_experience = df[columns_experience]"
   ],
   "metadata": {
    "collapsed": false,
    "ExecuteTime": {
     "end_time": "2024-03-20T14:43:10.710899Z",
     "start_time": "2024-03-20T14:43:10.656204Z"
    }
   },
   "id": "918761bdb69e297e",
   "execution_count": 101
  },
  {
   "cell_type": "code",
   "outputs": [
    {
     "data": {
      "text/plain": "                                        id                   full_name  \\\n0  ACoAAAgqc8wBUwP7qqfPTtAR-ic7w0oCRxTUaqo  Gillian Yannick M Zouzouko   \n1  ACoAAAPTamIBwZGI_dPmQb0kv8ROACbgp7bU4jw                   Jean Yves   \n2  ACoAAAXPCKkBku5YjSIrG9ccvNzRs6EoOxp9dEU      Epiphane Maldini Bonou   \n3  ACoAABN_tzoB9E8HYXYpieivKadUE8qpvSZJivs                Ibrahima Sow   \n4  ACoAABGC8MMBNYkmEOKRUkU6i6Jc5cfo_1IMmZU            Guillaume Nguyen   \n\n                                handle  linkedin_profile_id  \\\n0  gillian-yannick-m-zouzouko-410a6a39            136999884   \n1                   jean-yves-2aa5b519             64186978   \n2      epiphane-maldini-bonou-17577928             97454249   \n3                ibrahima-sow-53668391            327137082   \n4            guillaume-nguyen-80348382            293793987   \n\n                                         experiences  \n0  [{\"title\": \"Directeur général\", \"company_name\"...  \n1  [{\"title\": \"directeur general\", \"company_name\"...  \n2  [{\"title\": \"Président-directeur général\", \"com...  \n3  [{\"title\": \"Directeur Général\", \"company_name\"...  \n4  [{\"title\": \"Directeur général\", \"company_name\"...  ",
      "text/html": "<div>\n<style scoped>\n    .dataframe tbody tr th:only-of-type {\n        vertical-align: middle;\n    }\n\n    .dataframe tbody tr th {\n        vertical-align: top;\n    }\n\n    .dataframe thead th {\n        text-align: right;\n    }\n</style>\n<table border=\"1\" class=\"dataframe\">\n  <thead>\n    <tr style=\"text-align: right;\">\n      <th></th>\n      <th>id</th>\n      <th>full_name</th>\n      <th>handle</th>\n      <th>linkedin_profile_id</th>\n      <th>experiences</th>\n    </tr>\n  </thead>\n  <tbody>\n    <tr>\n      <th>0</th>\n      <td>ACoAAAgqc8wBUwP7qqfPTtAR-ic7w0oCRxTUaqo</td>\n      <td>Gillian Yannick M Zouzouko</td>\n      <td>gillian-yannick-m-zouzouko-410a6a39</td>\n      <td>136999884</td>\n      <td>[{\"title\": \"Directeur général\", \"company_name\"...</td>\n    </tr>\n    <tr>\n      <th>1</th>\n      <td>ACoAAAPTamIBwZGI_dPmQb0kv8ROACbgp7bU4jw</td>\n      <td>Jean Yves</td>\n      <td>jean-yves-2aa5b519</td>\n      <td>64186978</td>\n      <td>[{\"title\": \"directeur general\", \"company_name\"...</td>\n    </tr>\n    <tr>\n      <th>2</th>\n      <td>ACoAAAXPCKkBku5YjSIrG9ccvNzRs6EoOxp9dEU</td>\n      <td>Epiphane Maldini Bonou</td>\n      <td>epiphane-maldini-bonou-17577928</td>\n      <td>97454249</td>\n      <td>[{\"title\": \"Président-directeur général\", \"com...</td>\n    </tr>\n    <tr>\n      <th>3</th>\n      <td>ACoAABN_tzoB9E8HYXYpieivKadUE8qpvSZJivs</td>\n      <td>Ibrahima Sow</td>\n      <td>ibrahima-sow-53668391</td>\n      <td>327137082</td>\n      <td>[{\"title\": \"Directeur Général\", \"company_name\"...</td>\n    </tr>\n    <tr>\n      <th>4</th>\n      <td>ACoAABGC8MMBNYkmEOKRUkU6i6Jc5cfo_1IMmZU</td>\n      <td>Guillaume Nguyen</td>\n      <td>guillaume-nguyen-80348382</td>\n      <td>293793987</td>\n      <td>[{\"title\": \"Directeur général\", \"company_name\"...</td>\n    </tr>\n  </tbody>\n</table>\n</div>"
     },
     "execution_count": 98,
     "metadata": {},
     "output_type": "execute_result"
    }
   ],
   "source": [
    "df_experience.head()"
   ],
   "metadata": {
    "collapsed": false,
    "ExecuteTime": {
     "end_time": "2024-03-20T14:30:24.946158Z",
     "start_time": "2024-03-20T14:30:24.928058Z"
    }
   },
   "id": "a36e93dc05d3381b",
   "execution_count": 98
  },
  {
   "cell_type": "code",
   "outputs": [],
   "source": [
    "df.loc[:, 'experiences'] = df['experiences'].apply(json.loads)"
   ],
   "metadata": {
    "collapsed": false,
    "ExecuteTime": {
     "end_time": "2024-03-20T14:44:30.380783Z",
     "start_time": "2024-03-20T14:44:30.343001Z"
    }
   },
   "id": "498e71ff6647d794",
   "execution_count": 104
  },
  {
   "cell_type": "code",
   "outputs": [
    {
     "data": {
      "text/plain": "                                          id                   full_name  \\\n0    ACoAAAgqc8wBUwP7qqfPTtAR-ic7w0oCRxTUaqo  Gillian Yannick M Zouzouko   \n1    ACoAAAPTamIBwZGI_dPmQb0kv8ROACbgp7bU4jw                   Jean Yves   \n2    ACoAAAXPCKkBku5YjSIrG9ccvNzRs6EoOxp9dEU      Epiphane Maldini Bonou   \n3    ACoAABN_tzoB9E8HYXYpieivKadUE8qpvSZJivs                Ibrahima Sow   \n4    ACoAABGC8MMBNYkmEOKRUkU6i6Jc5cfo_1IMmZU            Guillaume Nguyen   \n..                                       ...                         ...   \n495  ACoAACYRl5cB9bDs39fJNjb6nCuc8oJKAa6fooI                Hazoumé Aime   \n496  ACoAABU1ZpwBUfWZV5SfO3dh7nlRQ6h7nAfvfI4      Djibril Michael Secong   \n497  ACoAABMmROwB1yVCj-caPNU23gU1QnjkYKfuoJk         N'Dri Kouame Pierre   \n498  ACoAAAObIyUBH5YIm6Hz3GC02R-uPdV_pPsIkEw             Nicolas Decrock   \n499  ACoAAA0cvugBOSvfcLkjvsrYJhaFPuwgDdXu7Fc             Regis Ouedraogo   \n\n                                  handle  linkedin_profile_id  \\\n0    gillian-yannick-m-zouzouko-410a6a39            136999884   \n1                     jean-yves-2aa5b519             64186978   \n2        epiphane-maldini-bonou-17577928             97454249   \n3                  ibrahima-sow-53668391            327137082   \n4              guillaume-nguyen-80348382            293793987   \n..                                   ...                  ...   \n495               hazoumé-aime-733a8a159            638687127   \n496      djibril-michael-secong-0781b79b            355821212   \n497         n-dri-kouame-pierre-1247178b            321275116   \n498             nicolas-decrock-a0531618             60498725   \n499             regis-ouedraogo-83480b61            219987688   \n\n                                           experiences  \n0    [{'title': 'Directeur général', 'company_name'...  \n1    [{'title': 'directeur general', 'company_name'...  \n2    [{'title': 'Président-directeur général', 'com...  \n3    [{'title': 'Directeur Général', 'company_name'...  \n4    [{'title': 'Directeur général', 'company_name'...  \n..                                                 ...  \n495  [{'title': 'Directeur Général', 'company_name'...  \n496  [{'title': 'Directeur Général', 'company_name'...  \n497  [{'title': 'Directeur Général', 'company_name'...  \n498  [{'title': 'Directeur General', 'company_name'...  \n499  [{'title': 'Directeur General', 'company_name'...  \n\n[500 rows x 5 columns]",
      "text/html": "<div>\n<style scoped>\n    .dataframe tbody tr th:only-of-type {\n        vertical-align: middle;\n    }\n\n    .dataframe tbody tr th {\n        vertical-align: top;\n    }\n\n    .dataframe thead th {\n        text-align: right;\n    }\n</style>\n<table border=\"1\" class=\"dataframe\">\n  <thead>\n    <tr style=\"text-align: right;\">\n      <th></th>\n      <th>id</th>\n      <th>full_name</th>\n      <th>handle</th>\n      <th>linkedin_profile_id</th>\n      <th>experiences</th>\n    </tr>\n  </thead>\n  <tbody>\n    <tr>\n      <th>0</th>\n      <td>ACoAAAgqc8wBUwP7qqfPTtAR-ic7w0oCRxTUaqo</td>\n      <td>Gillian Yannick M Zouzouko</td>\n      <td>gillian-yannick-m-zouzouko-410a6a39</td>\n      <td>136999884</td>\n      <td>[{'title': 'Directeur général', 'company_name'...</td>\n    </tr>\n    <tr>\n      <th>1</th>\n      <td>ACoAAAPTamIBwZGI_dPmQb0kv8ROACbgp7bU4jw</td>\n      <td>Jean Yves</td>\n      <td>jean-yves-2aa5b519</td>\n      <td>64186978</td>\n      <td>[{'title': 'directeur general', 'company_name'...</td>\n    </tr>\n    <tr>\n      <th>2</th>\n      <td>ACoAAAXPCKkBku5YjSIrG9ccvNzRs6EoOxp9dEU</td>\n      <td>Epiphane Maldini Bonou</td>\n      <td>epiphane-maldini-bonou-17577928</td>\n      <td>97454249</td>\n      <td>[{'title': 'Président-directeur général', 'com...</td>\n    </tr>\n    <tr>\n      <th>3</th>\n      <td>ACoAABN_tzoB9E8HYXYpieivKadUE8qpvSZJivs</td>\n      <td>Ibrahima Sow</td>\n      <td>ibrahima-sow-53668391</td>\n      <td>327137082</td>\n      <td>[{'title': 'Directeur Général', 'company_name'...</td>\n    </tr>\n    <tr>\n      <th>4</th>\n      <td>ACoAABGC8MMBNYkmEOKRUkU6i6Jc5cfo_1IMmZU</td>\n      <td>Guillaume Nguyen</td>\n      <td>guillaume-nguyen-80348382</td>\n      <td>293793987</td>\n      <td>[{'title': 'Directeur général', 'company_name'...</td>\n    </tr>\n    <tr>\n      <th>...</th>\n      <td>...</td>\n      <td>...</td>\n      <td>...</td>\n      <td>...</td>\n      <td>...</td>\n    </tr>\n    <tr>\n      <th>495</th>\n      <td>ACoAACYRl5cB9bDs39fJNjb6nCuc8oJKAa6fooI</td>\n      <td>Hazoumé Aime</td>\n      <td>hazoumé-aime-733a8a159</td>\n      <td>638687127</td>\n      <td>[{'title': 'Directeur Général', 'company_name'...</td>\n    </tr>\n    <tr>\n      <th>496</th>\n      <td>ACoAABU1ZpwBUfWZV5SfO3dh7nlRQ6h7nAfvfI4</td>\n      <td>Djibril Michael Secong</td>\n      <td>djibril-michael-secong-0781b79b</td>\n      <td>355821212</td>\n      <td>[{'title': 'Directeur Général', 'company_name'...</td>\n    </tr>\n    <tr>\n      <th>497</th>\n      <td>ACoAABMmROwB1yVCj-caPNU23gU1QnjkYKfuoJk</td>\n      <td>N'Dri Kouame Pierre</td>\n      <td>n-dri-kouame-pierre-1247178b</td>\n      <td>321275116</td>\n      <td>[{'title': 'Directeur Général', 'company_name'...</td>\n    </tr>\n    <tr>\n      <th>498</th>\n      <td>ACoAAAObIyUBH5YIm6Hz3GC02R-uPdV_pPsIkEw</td>\n      <td>Nicolas Decrock</td>\n      <td>nicolas-decrock-a0531618</td>\n      <td>60498725</td>\n      <td>[{'title': 'Directeur General', 'company_name'...</td>\n    </tr>\n    <tr>\n      <th>499</th>\n      <td>ACoAAA0cvugBOSvfcLkjvsrYJhaFPuwgDdXu7Fc</td>\n      <td>Regis Ouedraogo</td>\n      <td>regis-ouedraogo-83480b61</td>\n      <td>219987688</td>\n      <td>[{'title': 'Directeur General', 'company_name'...</td>\n    </tr>\n  </tbody>\n</table>\n<p>500 rows × 5 columns</p>\n</div>"
     },
     "execution_count": 113,
     "metadata": {},
     "output_type": "execute_result"
    }
   ],
   "source": [
    "df_experience"
   ],
   "metadata": {
    "collapsed": false,
    "ExecuteTime": {
     "end_time": "2024-03-20T14:57:47.407888Z",
     "start_time": "2024-03-20T14:57:47.362318Z"
    }
   },
   "id": "991379edf314a41b",
   "execution_count": 113
  },
  {
   "cell_type": "code",
   "outputs": [],
   "source": [
    "df_expanded = df_experience.explode('experiences')"
   ],
   "metadata": {
    "collapsed": false,
    "ExecuteTime": {
     "end_time": "2024-03-20T14:45:00.853286Z",
     "start_time": "2024-03-20T14:45:00.840081Z"
    }
   },
   "id": "831f62564fd56d9e",
   "execution_count": 106
  },
  {
   "cell_type": "code",
   "outputs": [
    {
     "data": {
      "text/plain": "                                          id                   full_name  \\\n0    ACoAAAgqc8wBUwP7qqfPTtAR-ic7w0oCRxTUaqo  Gillian Yannick M Zouzouko   \n0    ACoAAAgqc8wBUwP7qqfPTtAR-ic7w0oCRxTUaqo  Gillian Yannick M Zouzouko   \n0    ACoAAAgqc8wBUwP7qqfPTtAR-ic7w0oCRxTUaqo  Gillian Yannick M Zouzouko   \n0    ACoAAAgqc8wBUwP7qqfPTtAR-ic7w0oCRxTUaqo  Gillian Yannick M Zouzouko   \n0    ACoAAAgqc8wBUwP7qqfPTtAR-ic7w0oCRxTUaqo  Gillian Yannick M Zouzouko   \n..                                       ...                         ...   \n498  ACoAAAObIyUBH5YIm6Hz3GC02R-uPdV_pPsIkEw             Nicolas Decrock   \n499  ACoAAA0cvugBOSvfcLkjvsrYJhaFPuwgDdXu7Fc             Regis Ouedraogo   \n499  ACoAAA0cvugBOSvfcLkjvsrYJhaFPuwgDdXu7Fc             Regis Ouedraogo   \n499  ACoAAA0cvugBOSvfcLkjvsrYJhaFPuwgDdXu7Fc             Regis Ouedraogo   \n499  ACoAAA0cvugBOSvfcLkjvsrYJhaFPuwgDdXu7Fc             Regis Ouedraogo   \n\n                                  handle  linkedin_profile_id  \\\n0    gillian-yannick-m-zouzouko-410a6a39            136999884   \n0    gillian-yannick-m-zouzouko-410a6a39            136999884   \n0    gillian-yannick-m-zouzouko-410a6a39            136999884   \n0    gillian-yannick-m-zouzouko-410a6a39            136999884   \n0    gillian-yannick-m-zouzouko-410a6a39            136999884   \n..                                   ...                  ...   \n498             nicolas-decrock-a0531618             60498725   \n499             regis-ouedraogo-83480b61            219987688   \n499             regis-ouedraogo-83480b61            219987688   \n499             regis-ouedraogo-83480b61            219987688   \n499             regis-ouedraogo-83480b61            219987688   \n\n                                           experiences  \n0    {'title': 'Directeur général', 'company_name':...  \n0    {'title': 'Fondateur', 'company_name': 'Carnet...  \n0    {'title': 'Brand and Communication Manager', '...  \n0    {'title': 'User Interface Designer', 'company_...  \n0    {'title': 'Spécialiste en design', 'company_na...  \n..                                                 ...  \n498  {'title': 'Superviseur', 'company_name': 'SNT'...  \n499  {'title': 'Directeur General', 'company_name':...  \n499  {'title': 'Directeur d'agence', 'company_name'...  \n499  {'title': 'DAF', 'company_name': 'Congo termin...  \n499  {'title': 'Controleur de gestion', 'company_na...  \n\n[1817 rows x 5 columns]",
      "text/html": "<div>\n<style scoped>\n    .dataframe tbody tr th:only-of-type {\n        vertical-align: middle;\n    }\n\n    .dataframe tbody tr th {\n        vertical-align: top;\n    }\n\n    .dataframe thead th {\n        text-align: right;\n    }\n</style>\n<table border=\"1\" class=\"dataframe\">\n  <thead>\n    <tr style=\"text-align: right;\">\n      <th></th>\n      <th>id</th>\n      <th>full_name</th>\n      <th>handle</th>\n      <th>linkedin_profile_id</th>\n      <th>experiences</th>\n    </tr>\n  </thead>\n  <tbody>\n    <tr>\n      <th>0</th>\n      <td>ACoAAAgqc8wBUwP7qqfPTtAR-ic7w0oCRxTUaqo</td>\n      <td>Gillian Yannick M Zouzouko</td>\n      <td>gillian-yannick-m-zouzouko-410a6a39</td>\n      <td>136999884</td>\n      <td>{'title': 'Directeur général', 'company_name':...</td>\n    </tr>\n    <tr>\n      <th>0</th>\n      <td>ACoAAAgqc8wBUwP7qqfPTtAR-ic7w0oCRxTUaqo</td>\n      <td>Gillian Yannick M Zouzouko</td>\n      <td>gillian-yannick-m-zouzouko-410a6a39</td>\n      <td>136999884</td>\n      <td>{'title': 'Fondateur', 'company_name': 'Carnet...</td>\n    </tr>\n    <tr>\n      <th>0</th>\n      <td>ACoAAAgqc8wBUwP7qqfPTtAR-ic7w0oCRxTUaqo</td>\n      <td>Gillian Yannick M Zouzouko</td>\n      <td>gillian-yannick-m-zouzouko-410a6a39</td>\n      <td>136999884</td>\n      <td>{'title': 'Brand and Communication Manager', '...</td>\n    </tr>\n    <tr>\n      <th>0</th>\n      <td>ACoAAAgqc8wBUwP7qqfPTtAR-ic7w0oCRxTUaqo</td>\n      <td>Gillian Yannick M Zouzouko</td>\n      <td>gillian-yannick-m-zouzouko-410a6a39</td>\n      <td>136999884</td>\n      <td>{'title': 'User Interface Designer', 'company_...</td>\n    </tr>\n    <tr>\n      <th>0</th>\n      <td>ACoAAAgqc8wBUwP7qqfPTtAR-ic7w0oCRxTUaqo</td>\n      <td>Gillian Yannick M Zouzouko</td>\n      <td>gillian-yannick-m-zouzouko-410a6a39</td>\n      <td>136999884</td>\n      <td>{'title': 'Spécialiste en design', 'company_na...</td>\n    </tr>\n    <tr>\n      <th>...</th>\n      <td>...</td>\n      <td>...</td>\n      <td>...</td>\n      <td>...</td>\n      <td>...</td>\n    </tr>\n    <tr>\n      <th>498</th>\n      <td>ACoAAAObIyUBH5YIm6Hz3GC02R-uPdV_pPsIkEw</td>\n      <td>Nicolas Decrock</td>\n      <td>nicolas-decrock-a0531618</td>\n      <td>60498725</td>\n      <td>{'title': 'Superviseur', 'company_name': 'SNT'...</td>\n    </tr>\n    <tr>\n      <th>499</th>\n      <td>ACoAAA0cvugBOSvfcLkjvsrYJhaFPuwgDdXu7Fc</td>\n      <td>Regis Ouedraogo</td>\n      <td>regis-ouedraogo-83480b61</td>\n      <td>219987688</td>\n      <td>{'title': 'Directeur General', 'company_name':...</td>\n    </tr>\n    <tr>\n      <th>499</th>\n      <td>ACoAAA0cvugBOSvfcLkjvsrYJhaFPuwgDdXu7Fc</td>\n      <td>Regis Ouedraogo</td>\n      <td>regis-ouedraogo-83480b61</td>\n      <td>219987688</td>\n      <td>{'title': 'Directeur d'agence', 'company_name'...</td>\n    </tr>\n    <tr>\n      <th>499</th>\n      <td>ACoAAA0cvugBOSvfcLkjvsrYJhaFPuwgDdXu7Fc</td>\n      <td>Regis Ouedraogo</td>\n      <td>regis-ouedraogo-83480b61</td>\n      <td>219987688</td>\n      <td>{'title': 'DAF', 'company_name': 'Congo termin...</td>\n    </tr>\n    <tr>\n      <th>499</th>\n      <td>ACoAAA0cvugBOSvfcLkjvsrYJhaFPuwgDdXu7Fc</td>\n      <td>Regis Ouedraogo</td>\n      <td>regis-ouedraogo-83480b61</td>\n      <td>219987688</td>\n      <td>{'title': 'Controleur de gestion', 'company_na...</td>\n    </tr>\n  </tbody>\n</table>\n<p>1817 rows × 5 columns</p>\n</div>"
     },
     "execution_count": 107,
     "metadata": {},
     "output_type": "execute_result"
    }
   ],
   "source": [
    "df_expanded"
   ],
   "metadata": {
    "collapsed": false,
    "ExecuteTime": {
     "end_time": "2024-03-20T14:45:05.481048Z",
     "start_time": "2024-03-20T14:45:05.459202Z"
    }
   },
   "id": "134eef8a3490794c",
   "execution_count": 107
  },
  {
   "cell_type": "code",
   "outputs": [],
   "source": [
    "df_expanded.reset_index(drop=True, inplace=True)"
   ],
   "metadata": {
    "collapsed": false,
    "ExecuteTime": {
     "end_time": "2024-03-20T14:45:42.486711Z",
     "start_time": "2024-03-20T14:45:42.480897Z"
    }
   },
   "id": "9ae48eaf23d3010b",
   "execution_count": 108
  },
  {
   "cell_type": "code",
   "outputs": [
    {
     "data": {
      "text/plain": "                                           id                   full_name  \\\n0     ACoAAAgqc8wBUwP7qqfPTtAR-ic7w0oCRxTUaqo  Gillian Yannick M Zouzouko   \n1     ACoAAAgqc8wBUwP7qqfPTtAR-ic7w0oCRxTUaqo  Gillian Yannick M Zouzouko   \n2     ACoAAAgqc8wBUwP7qqfPTtAR-ic7w0oCRxTUaqo  Gillian Yannick M Zouzouko   \n3     ACoAAAgqc8wBUwP7qqfPTtAR-ic7w0oCRxTUaqo  Gillian Yannick M Zouzouko   \n4     ACoAAAgqc8wBUwP7qqfPTtAR-ic7w0oCRxTUaqo  Gillian Yannick M Zouzouko   \n...                                       ...                         ...   \n1812  ACoAAAObIyUBH5YIm6Hz3GC02R-uPdV_pPsIkEw             Nicolas Decrock   \n1813  ACoAAA0cvugBOSvfcLkjvsrYJhaFPuwgDdXu7Fc             Regis Ouedraogo   \n1814  ACoAAA0cvugBOSvfcLkjvsrYJhaFPuwgDdXu7Fc             Regis Ouedraogo   \n1815  ACoAAA0cvugBOSvfcLkjvsrYJhaFPuwgDdXu7Fc             Regis Ouedraogo   \n1816  ACoAAA0cvugBOSvfcLkjvsrYJhaFPuwgDdXu7Fc             Regis Ouedraogo   \n\n                                   handle  linkedin_profile_id  \\\n0     gillian-yannick-m-zouzouko-410a6a39            136999884   \n1     gillian-yannick-m-zouzouko-410a6a39            136999884   \n2     gillian-yannick-m-zouzouko-410a6a39            136999884   \n3     gillian-yannick-m-zouzouko-410a6a39            136999884   \n4     gillian-yannick-m-zouzouko-410a6a39            136999884   \n...                                   ...                  ...   \n1812             nicolas-decrock-a0531618             60498725   \n1813             regis-ouedraogo-83480b61            219987688   \n1814             regis-ouedraogo-83480b61            219987688   \n1815             regis-ouedraogo-83480b61            219987688   \n1816             regis-ouedraogo-83480b61            219987688   \n\n                                            experiences  \n0     {'title': 'Directeur général', 'company_name':...  \n1     {'title': 'Fondateur', 'company_name': 'Carnet...  \n2     {'title': 'Brand and Communication Manager', '...  \n3     {'title': 'User Interface Designer', 'company_...  \n4     {'title': 'Spécialiste en design', 'company_na...  \n...                                                 ...  \n1812  {'title': 'Superviseur', 'company_name': 'SNT'...  \n1813  {'title': 'Directeur General', 'company_name':...  \n1814  {'title': 'Directeur d'agence', 'company_name'...  \n1815  {'title': 'DAF', 'company_name': 'Congo termin...  \n1816  {'title': 'Controleur de gestion', 'company_na...  \n\n[1817 rows x 5 columns]",
      "text/html": "<div>\n<style scoped>\n    .dataframe tbody tr th:only-of-type {\n        vertical-align: middle;\n    }\n\n    .dataframe tbody tr th {\n        vertical-align: top;\n    }\n\n    .dataframe thead th {\n        text-align: right;\n    }\n</style>\n<table border=\"1\" class=\"dataframe\">\n  <thead>\n    <tr style=\"text-align: right;\">\n      <th></th>\n      <th>id</th>\n      <th>full_name</th>\n      <th>handle</th>\n      <th>linkedin_profile_id</th>\n      <th>experiences</th>\n    </tr>\n  </thead>\n  <tbody>\n    <tr>\n      <th>0</th>\n      <td>ACoAAAgqc8wBUwP7qqfPTtAR-ic7w0oCRxTUaqo</td>\n      <td>Gillian Yannick M Zouzouko</td>\n      <td>gillian-yannick-m-zouzouko-410a6a39</td>\n      <td>136999884</td>\n      <td>{'title': 'Directeur général', 'company_name':...</td>\n    </tr>\n    <tr>\n      <th>1</th>\n      <td>ACoAAAgqc8wBUwP7qqfPTtAR-ic7w0oCRxTUaqo</td>\n      <td>Gillian Yannick M Zouzouko</td>\n      <td>gillian-yannick-m-zouzouko-410a6a39</td>\n      <td>136999884</td>\n      <td>{'title': 'Fondateur', 'company_name': 'Carnet...</td>\n    </tr>\n    <tr>\n      <th>2</th>\n      <td>ACoAAAgqc8wBUwP7qqfPTtAR-ic7w0oCRxTUaqo</td>\n      <td>Gillian Yannick M Zouzouko</td>\n      <td>gillian-yannick-m-zouzouko-410a6a39</td>\n      <td>136999884</td>\n      <td>{'title': 'Brand and Communication Manager', '...</td>\n    </tr>\n    <tr>\n      <th>3</th>\n      <td>ACoAAAgqc8wBUwP7qqfPTtAR-ic7w0oCRxTUaqo</td>\n      <td>Gillian Yannick M Zouzouko</td>\n      <td>gillian-yannick-m-zouzouko-410a6a39</td>\n      <td>136999884</td>\n      <td>{'title': 'User Interface Designer', 'company_...</td>\n    </tr>\n    <tr>\n      <th>4</th>\n      <td>ACoAAAgqc8wBUwP7qqfPTtAR-ic7w0oCRxTUaqo</td>\n      <td>Gillian Yannick M Zouzouko</td>\n      <td>gillian-yannick-m-zouzouko-410a6a39</td>\n      <td>136999884</td>\n      <td>{'title': 'Spécialiste en design', 'company_na...</td>\n    </tr>\n    <tr>\n      <th>...</th>\n      <td>...</td>\n      <td>...</td>\n      <td>...</td>\n      <td>...</td>\n      <td>...</td>\n    </tr>\n    <tr>\n      <th>1812</th>\n      <td>ACoAAAObIyUBH5YIm6Hz3GC02R-uPdV_pPsIkEw</td>\n      <td>Nicolas Decrock</td>\n      <td>nicolas-decrock-a0531618</td>\n      <td>60498725</td>\n      <td>{'title': 'Superviseur', 'company_name': 'SNT'...</td>\n    </tr>\n    <tr>\n      <th>1813</th>\n      <td>ACoAAA0cvugBOSvfcLkjvsrYJhaFPuwgDdXu7Fc</td>\n      <td>Regis Ouedraogo</td>\n      <td>regis-ouedraogo-83480b61</td>\n      <td>219987688</td>\n      <td>{'title': 'Directeur General', 'company_name':...</td>\n    </tr>\n    <tr>\n      <th>1814</th>\n      <td>ACoAAA0cvugBOSvfcLkjvsrYJhaFPuwgDdXu7Fc</td>\n      <td>Regis Ouedraogo</td>\n      <td>regis-ouedraogo-83480b61</td>\n      <td>219987688</td>\n      <td>{'title': 'Directeur d'agence', 'company_name'...</td>\n    </tr>\n    <tr>\n      <th>1815</th>\n      <td>ACoAAA0cvugBOSvfcLkjvsrYJhaFPuwgDdXu7Fc</td>\n      <td>Regis Ouedraogo</td>\n      <td>regis-ouedraogo-83480b61</td>\n      <td>219987688</td>\n      <td>{'title': 'DAF', 'company_name': 'Congo termin...</td>\n    </tr>\n    <tr>\n      <th>1816</th>\n      <td>ACoAAA0cvugBOSvfcLkjvsrYJhaFPuwgDdXu7Fc</td>\n      <td>Regis Ouedraogo</td>\n      <td>regis-ouedraogo-83480b61</td>\n      <td>219987688</td>\n      <td>{'title': 'Controleur de gestion', 'company_na...</td>\n    </tr>\n  </tbody>\n</table>\n<p>1817 rows × 5 columns</p>\n</div>"
     },
     "execution_count": 109,
     "metadata": {},
     "output_type": "execute_result"
    }
   ],
   "source": [
    "df_expanded"
   ],
   "metadata": {
    "collapsed": false,
    "ExecuteTime": {
     "end_time": "2024-03-20T14:45:54.202496Z",
     "start_time": "2024-03-20T14:45:54.176813Z"
    }
   },
   "id": "d5c66f1988172939",
   "execution_count": 109
  },
  {
   "cell_type": "code",
   "outputs": [],
   "source": [
    "df_expanded = pd.concat([df_expanded.drop(['experiences'], axis=1), df_expanded['experiences'].apply(pd.Series)], axis=1)"
   ],
   "metadata": {
    "collapsed": false,
    "ExecuteTime": {
     "end_time": "2024-03-20T14:47:43.713144Z",
     "start_time": "2024-03-20T14:47:40.999114Z"
    }
   },
   "id": "2ff1ab76805c4f0f",
   "execution_count": 110
  },
  {
   "cell_type": "code",
   "outputs": [
    {
     "data": {
      "text/plain": "                                           id                   full_name  \\\n0     ACoAAAgqc8wBUwP7qqfPTtAR-ic7w0oCRxTUaqo  Gillian Yannick M Zouzouko   \n1     ACoAAAgqc8wBUwP7qqfPTtAR-ic7w0oCRxTUaqo  Gillian Yannick M Zouzouko   \n2     ACoAAAgqc8wBUwP7qqfPTtAR-ic7w0oCRxTUaqo  Gillian Yannick M Zouzouko   \n3     ACoAAAgqc8wBUwP7qqfPTtAR-ic7w0oCRxTUaqo  Gillian Yannick M Zouzouko   \n4     ACoAAAgqc8wBUwP7qqfPTtAR-ic7w0oCRxTUaqo  Gillian Yannick M Zouzouko   \n...                                       ...                         ...   \n1812  ACoAAAObIyUBH5YIm6Hz3GC02R-uPdV_pPsIkEw             Nicolas Decrock   \n1813  ACoAAA0cvugBOSvfcLkjvsrYJhaFPuwgDdXu7Fc             Regis Ouedraogo   \n1814  ACoAAA0cvugBOSvfcLkjvsrYJhaFPuwgDdXu7Fc             Regis Ouedraogo   \n1815  ACoAAA0cvugBOSvfcLkjvsrYJhaFPuwgDdXu7Fc             Regis Ouedraogo   \n1816  ACoAAA0cvugBOSvfcLkjvsrYJhaFPuwgDdXu7Fc             Regis Ouedraogo   \n\n                                   handle  linkedin_profile_id  \\\n0     gillian-yannick-m-zouzouko-410a6a39            136999884   \n1     gillian-yannick-m-zouzouko-410a6a39            136999884   \n2     gillian-yannick-m-zouzouko-410a6a39            136999884   \n3     gillian-yannick-m-zouzouko-410a6a39            136999884   \n4     gillian-yannick-m-zouzouko-410a6a39            136999884   \n...                                   ...                  ...   \n1812             nicolas-decrock-a0531618             60498725   \n1813             regis-ouedraogo-83480b61            219987688   \n1814             regis-ouedraogo-83480b61            219987688   \n1815             regis-ouedraogo-83480b61            219987688   \n1816             regis-ouedraogo-83480b61            219987688   \n\n                                title  \\\n0                   Directeur général   \n1                           Fondateur   \n2     Brand and Communication Manager   \n3             User Interface Designer   \n4               Spécialiste en design   \n...                               ...   \n1812                      Superviseur   \n1813                Directeur General   \n1814               Directeur d'agence   \n1815                              DAF   \n1816            Controleur de gestion   \n\n                                           company_name  \\\n0                           Mindz Group - Côte D'Ivoire   \n1                             Carnet du Voyageur (CDV)    \n2                                      FENNINVEST GROUP   \n3                                      B2I Group Africa   \n4                                     B2I Groupe Africa   \n...                                                 ...   \n1812                                                SNT   \n1813  Societe Ivoirienne d'Entreposage et de Logisti...   \n1814               Bollore Africa Logistics Brazzaville   \n1815                                     Congo terminal   \n1816                                      Saga cameroun   \n\n                                    company_description  \\\n0                                                  None   \n1     Start Up opérant dans le domaine de la promoti...   \n2     En charge du branding audiovisuel des filiales...   \n3                                                  None   \n4                                                  None   \n...                                                 ...   \n1812                                               None   \n1813                                               None   \n1814                                               None   \n1815                                               None   \n1816                                               None   \n\n     company_employees_range  \\\n0                    11 - 50   \n1                       None   \n2                       None   \n3                    11 - 50   \n4                    11 - 50   \n...                      ...   \n1812                10001 -    \n1813                    None   \n1814                    None   \n1815                    None   \n1816                    None   \n\n                                   linkedin_company_url  \\\n0     https://www.linkedin.com/company/mindzgroup-c%...   \n1                                                  None   \n2                                                  None   \n3     https://www.linkedin.com/company/b2i-groupe-af...   \n4     https://www.linkedin.com/company/b2i-groupe-af...   \n...                                                 ...   \n1812          https://www.linkedin.com/company/webhelp/   \n1813                                               None   \n1814                                               None   \n1815                                               None   \n1816                                               None   \n\n                    location                   company_industry  \\\n0                   Abidjan   Information Technology & Services   \n1                   Abidjan                                None   \n2     Abidjan, Côte d’Ivoire                               None   \n3     Abidjan, Côte d’Ivoire                  Computer Software   \n4     Abidjan, Côte d’Ivoire                  Computer Software   \n...                      ...                                ...   \n1812                    None             Outsourcing/Offshoring   \n1813                 abidjan                               None   \n1814                    None                               None   \n1815                    None                               None   \n1816                    None                               None   \n\n     linkedin_company_id               date     job_time_period  \\\n0               11130520   1/2016 - current             8 years   \n1                   None   3/2012 - current  11 years 10 months   \n2               89668702   11/2022 - 2/2023            3 months   \n3               70904903  12/2020 - 12/2021              1 year   \n4               70904903  12/2020 - 10/2021           10 months   \n...                  ...                ...                 ...   \n1812               15667  10/1999 - 12/2000     1 year 2 months   \n1813                None  11/2014 - current    9 years 2 months   \n1814                None    9/2012 - 9/2014             2 years   \n1815                None        2009 - 2012                       \n1816                None        2002 - 2006                       \n\n     job_contract_type   0  \n0                      NaN  \n1                      NaN  \n2            Full-time NaN  \n3            Full-time NaN  \n4            Full-time NaN  \n...                ...  ..  \n1812                   NaN  \n1813                   NaN  \n1814                   NaN  \n1815                   NaN  \n1816                   NaN  \n\n[1817 rows x 16 columns]",
      "text/html": "<div>\n<style scoped>\n    .dataframe tbody tr th:only-of-type {\n        vertical-align: middle;\n    }\n\n    .dataframe tbody tr th {\n        vertical-align: top;\n    }\n\n    .dataframe thead th {\n        text-align: right;\n    }\n</style>\n<table border=\"1\" class=\"dataframe\">\n  <thead>\n    <tr style=\"text-align: right;\">\n      <th></th>\n      <th>id</th>\n      <th>full_name</th>\n      <th>handle</th>\n      <th>linkedin_profile_id</th>\n      <th>title</th>\n      <th>company_name</th>\n      <th>company_description</th>\n      <th>company_employees_range</th>\n      <th>linkedin_company_url</th>\n      <th>location</th>\n      <th>company_industry</th>\n      <th>linkedin_company_id</th>\n      <th>date</th>\n      <th>job_time_period</th>\n      <th>job_contract_type</th>\n      <th>0</th>\n    </tr>\n  </thead>\n  <tbody>\n    <tr>\n      <th>0</th>\n      <td>ACoAAAgqc8wBUwP7qqfPTtAR-ic7w0oCRxTUaqo</td>\n      <td>Gillian Yannick M Zouzouko</td>\n      <td>gillian-yannick-m-zouzouko-410a6a39</td>\n      <td>136999884</td>\n      <td>Directeur général</td>\n      <td>Mindz Group - Côte D'Ivoire</td>\n      <td>None</td>\n      <td>11 - 50</td>\n      <td>https://www.linkedin.com/company/mindzgroup-c%...</td>\n      <td>Abidjan</td>\n      <td>Information Technology &amp; Services</td>\n      <td>11130520</td>\n      <td>1/2016 - current</td>\n      <td>8 years</td>\n      <td></td>\n      <td>NaN</td>\n    </tr>\n    <tr>\n      <th>1</th>\n      <td>ACoAAAgqc8wBUwP7qqfPTtAR-ic7w0oCRxTUaqo</td>\n      <td>Gillian Yannick M Zouzouko</td>\n      <td>gillian-yannick-m-zouzouko-410a6a39</td>\n      <td>136999884</td>\n      <td>Fondateur</td>\n      <td>Carnet du Voyageur (CDV)</td>\n      <td>Start Up opérant dans le domaine de la promoti...</td>\n      <td>None</td>\n      <td>None</td>\n      <td>Abidjan</td>\n      <td>None</td>\n      <td>None</td>\n      <td>3/2012 - current</td>\n      <td>11 years 10 months</td>\n      <td></td>\n      <td>NaN</td>\n    </tr>\n    <tr>\n      <th>2</th>\n      <td>ACoAAAgqc8wBUwP7qqfPTtAR-ic7w0oCRxTUaqo</td>\n      <td>Gillian Yannick M Zouzouko</td>\n      <td>gillian-yannick-m-zouzouko-410a6a39</td>\n      <td>136999884</td>\n      <td>Brand and Communication Manager</td>\n      <td>FENNINVEST GROUP</td>\n      <td>En charge du branding audiovisuel des filiales...</td>\n      <td>None</td>\n      <td>None</td>\n      <td>Abidjan, Côte d’Ivoire</td>\n      <td>None</td>\n      <td>89668702</td>\n      <td>11/2022 - 2/2023</td>\n      <td>3 months</td>\n      <td>Full-time</td>\n      <td>NaN</td>\n    </tr>\n    <tr>\n      <th>3</th>\n      <td>ACoAAAgqc8wBUwP7qqfPTtAR-ic7w0oCRxTUaqo</td>\n      <td>Gillian Yannick M Zouzouko</td>\n      <td>gillian-yannick-m-zouzouko-410a6a39</td>\n      <td>136999884</td>\n      <td>User Interface Designer</td>\n      <td>B2I Group Africa</td>\n      <td>None</td>\n      <td>11 - 50</td>\n      <td>https://www.linkedin.com/company/b2i-groupe-af...</td>\n      <td>Abidjan, Côte d’Ivoire</td>\n      <td>Computer Software</td>\n      <td>70904903</td>\n      <td>12/2020 - 12/2021</td>\n      <td>1 year</td>\n      <td>Full-time</td>\n      <td>NaN</td>\n    </tr>\n    <tr>\n      <th>4</th>\n      <td>ACoAAAgqc8wBUwP7qqfPTtAR-ic7w0oCRxTUaqo</td>\n      <td>Gillian Yannick M Zouzouko</td>\n      <td>gillian-yannick-m-zouzouko-410a6a39</td>\n      <td>136999884</td>\n      <td>Spécialiste en design</td>\n      <td>B2I Groupe Africa</td>\n      <td>None</td>\n      <td>11 - 50</td>\n      <td>https://www.linkedin.com/company/b2i-groupe-af...</td>\n      <td>Abidjan, Côte d’Ivoire</td>\n      <td>Computer Software</td>\n      <td>70904903</td>\n      <td>12/2020 - 10/2021</td>\n      <td>10 months</td>\n      <td>Full-time</td>\n      <td>NaN</td>\n    </tr>\n    <tr>\n      <th>...</th>\n      <td>...</td>\n      <td>...</td>\n      <td>...</td>\n      <td>...</td>\n      <td>...</td>\n      <td>...</td>\n      <td>...</td>\n      <td>...</td>\n      <td>...</td>\n      <td>...</td>\n      <td>...</td>\n      <td>...</td>\n      <td>...</td>\n      <td>...</td>\n      <td>...</td>\n      <td>...</td>\n    </tr>\n    <tr>\n      <th>1812</th>\n      <td>ACoAAAObIyUBH5YIm6Hz3GC02R-uPdV_pPsIkEw</td>\n      <td>Nicolas Decrock</td>\n      <td>nicolas-decrock-a0531618</td>\n      <td>60498725</td>\n      <td>Superviseur</td>\n      <td>SNT</td>\n      <td>None</td>\n      <td>10001 -</td>\n      <td>https://www.linkedin.com/company/webhelp/</td>\n      <td>None</td>\n      <td>Outsourcing/Offshoring</td>\n      <td>15667</td>\n      <td>10/1999 - 12/2000</td>\n      <td>1 year 2 months</td>\n      <td></td>\n      <td>NaN</td>\n    </tr>\n    <tr>\n      <th>1813</th>\n      <td>ACoAAA0cvugBOSvfcLkjvsrYJhaFPuwgDdXu7Fc</td>\n      <td>Regis Ouedraogo</td>\n      <td>regis-ouedraogo-83480b61</td>\n      <td>219987688</td>\n      <td>Directeur General</td>\n      <td>Societe Ivoirienne d'Entreposage et de Logisti...</td>\n      <td>None</td>\n      <td>None</td>\n      <td>None</td>\n      <td>abidjan</td>\n      <td>None</td>\n      <td>None</td>\n      <td>11/2014 - current</td>\n      <td>9 years 2 months</td>\n      <td></td>\n      <td>NaN</td>\n    </tr>\n    <tr>\n      <th>1814</th>\n      <td>ACoAAA0cvugBOSvfcLkjvsrYJhaFPuwgDdXu7Fc</td>\n      <td>Regis Ouedraogo</td>\n      <td>regis-ouedraogo-83480b61</td>\n      <td>219987688</td>\n      <td>Directeur d'agence</td>\n      <td>Bollore Africa Logistics Brazzaville</td>\n      <td>None</td>\n      <td>None</td>\n      <td>None</td>\n      <td>None</td>\n      <td>None</td>\n      <td>None</td>\n      <td>9/2012 - 9/2014</td>\n      <td>2 years</td>\n      <td></td>\n      <td>NaN</td>\n    </tr>\n    <tr>\n      <th>1815</th>\n      <td>ACoAAA0cvugBOSvfcLkjvsrYJhaFPuwgDdXu7Fc</td>\n      <td>Regis Ouedraogo</td>\n      <td>regis-ouedraogo-83480b61</td>\n      <td>219987688</td>\n      <td>DAF</td>\n      <td>Congo terminal</td>\n      <td>None</td>\n      <td>None</td>\n      <td>None</td>\n      <td>None</td>\n      <td>None</td>\n      <td>None</td>\n      <td>2009 - 2012</td>\n      <td></td>\n      <td></td>\n      <td>NaN</td>\n    </tr>\n    <tr>\n      <th>1816</th>\n      <td>ACoAAA0cvugBOSvfcLkjvsrYJhaFPuwgDdXu7Fc</td>\n      <td>Regis Ouedraogo</td>\n      <td>regis-ouedraogo-83480b61</td>\n      <td>219987688</td>\n      <td>Controleur de gestion</td>\n      <td>Saga cameroun</td>\n      <td>None</td>\n      <td>None</td>\n      <td>None</td>\n      <td>None</td>\n      <td>None</td>\n      <td>None</td>\n      <td>2002 - 2006</td>\n      <td></td>\n      <td></td>\n      <td>NaN</td>\n    </tr>\n  </tbody>\n</table>\n<p>1817 rows × 16 columns</p>\n</div>"
     },
     "execution_count": 111,
     "metadata": {},
     "output_type": "execute_result"
    }
   ],
   "source": [
    "df_expanded"
   ],
   "metadata": {
    "collapsed": false,
    "ExecuteTime": {
     "end_time": "2024-03-20T14:47:50.356176Z",
     "start_time": "2024-03-20T14:47:50.327875Z"
    }
   },
   "id": "fc8e72074ae61fb7",
   "execution_count": 111
  },
  {
   "cell_type": "code",
   "outputs": [],
   "source": [
    "df_expanded.to_csv(\"Resultats/liste_experiences.csv\", sep=',')"
   ],
   "metadata": {
    "collapsed": false,
    "ExecuteTime": {
     "end_time": "2024-03-20T14:51:08.807632Z",
     "start_time": "2024-03-20T14:51:08.699752Z"
    }
   },
   "id": "bde2a5dd9d617249",
   "execution_count": 112
  }
 ],
 "metadata": {
  "kernelspec": {
   "display_name": "Python 3",
   "language": "python",
   "name": "python3"
  },
  "language_info": {
   "codemirror_mode": {
    "name": "ipython",
    "version": 2
   },
   "file_extension": ".py",
   "mimetype": "text/x-python",
   "name": "python",
   "nbconvert_exporter": "python",
   "pygments_lexer": "ipython2",
   "version": "2.7.6"
  }
 },
 "nbformat": 4,
 "nbformat_minor": 5
}
